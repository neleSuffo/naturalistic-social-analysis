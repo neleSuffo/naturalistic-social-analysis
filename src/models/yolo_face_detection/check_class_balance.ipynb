{
 "cells": [
  {
   "cell_type": "code",
   "execution_count": 4,
   "metadata": {},
   "outputs": [],
   "source": [
    "import matplotlib.pyplot as plt\n",
    "import numpy as np\n",
    "from collections import Counter\n",
    "from yolo_weighted_dataloader import YOLOWeightedDataset\n",
    "from ultralytics import YOLO\n",
    "\n",
    "def verify_class_balance(dataset, num_samples=1000):\n",
    "    \"\"\"\n",
    "    Verifies whether the __getitem__ method in the YOLOWeightedDataset class returns a balanced class output.\n",
    "\n",
    "    Args:\n",
    "        dataset: An instance of YOLOWeightedDataset.\n",
    "        num_samples: Number of samples to draw from the dataset.\n",
    "\n",
    "    Returns:\n",
    "        class_counts: A dictionary containing the class counts.\n",
    "    \"\"\"\n",
    "    all_labels = []\n",
    "    num_samples = min(len(dataset.labels), num_samples)\n",
    "\n",
    "    if dataset.train_mode:\n",
    "        choices = np.random.choice(len(dataset.labels), size=num_samples, p=dataset.probabilities)\n",
    "    else:\n",
    "        choices = np.random.choice(len(dataset.labels), size=num_samples, replace=False)\n",
    "\n",
    "    for i in choices:\n",
    "        label = dataset.labels[i][\"cls\"]\n",
    "        all_labels.extend(label.reshape(-1).astype(int))\n",
    "\n",
    "    class_counts = Counter(all_labels)\n",
    "    return class_counts\n",
    "\n",
    "def plot_class_balance(weighted_cnts, unweighted_cnts, class_names):\n",
    "    \"\"\"\n",
    "    Plots the comparison of class distribution between training and validation modes.\n",
    "\n",
    "    Args:\n",
    "        weighted_cnts: A dictionary containing the class counts in weighted mode.\n",
    "        unweighted_cnts: A dictionary containing the class counts in unweighted mode.\n",
    "        class_names: A list of class names.\n",
    "    \"\"\"\n",
    "    classes = range(len(class_names))\n",
    "    weighted_values = [weighted_cnts.get(c, 0) for c in classes]\n",
    "    unweighted_values = [unweighted_cnts.get(c, 0) for c in classes]\n",
    "\n",
    "    width = 0.35  # Bar width\n",
    "\n",
    "    fig, ax = plt.subplots()\n",
    "    ax.bar(classes, unweighted_values, width, label='Normal mode')\n",
    "    ax.bar([c + width for c in classes], weighted_values, width, label='Weighted Mode')\n",
    "\n",
    "    ax.set_xlabel('Class')\n",
    "    ax.set_ylabel('Count')\n",
    "    ax.set_title('Class Distribution in Normal vs Weighted Modes')\n",
    "    ax.set_xticks([c + width / 2 for c in classes])\n",
    "    ax.set_xticklabels(class_names, rotation=45, ha='right')\n",
    "    ax.legend()\n",
    "\n",
    "    plt.show()"
   ]
  },
  {
   "cell_type": "code",
   "execution_count": 6,
   "metadata": {},
   "outputs": [
    {
     "ename": "AttributeError",
     "evalue": "'NoneType' object has no attribute 'train_loader'",
     "output_type": "error",
     "traceback": [
      "\u001b[0;31m---------------------------------------------------------------------------\u001b[0m",
      "\u001b[0;31mAttributeError\u001b[0m                            Traceback (most recent call last)",
      "Cell \u001b[0;32mIn[6], line 3\u001b[0m\n\u001b[1;32m      1\u001b[0m model \u001b[38;5;241m=\u001b[39m YOLO(\u001b[38;5;124m\"\u001b[39m\u001b[38;5;124m/home/nele_pauline_suffo/models/yolov11_face_detection.pt\u001b[39m\u001b[38;5;124m\"\u001b[39m)\n\u001b[1;32m      2\u001b[0m \u001b[38;5;66;03m# Get class counts in weighted mode\u001b[39;00m\n\u001b[0;32m----> 3\u001b[0m \u001b[43mmodel\u001b[49m\u001b[38;5;241;43m.\u001b[39;49m\u001b[43mtrainer\u001b[49m\u001b[38;5;241;43m.\u001b[39;49m\u001b[43mtrain_loader\u001b[49m\u001b[38;5;241m.\u001b[39mdataset\u001b[38;5;241m.\u001b[39mtrain_mode \u001b[38;5;241m=\u001b[39m \u001b[38;5;28;01mTrue\u001b[39;00m\n\u001b[1;32m      4\u001b[0m weighted_counts \u001b[38;5;241m=\u001b[39m verify_class_balance(model\u001b[38;5;241m.\u001b[39mtrainer\u001b[38;5;241m.\u001b[39mtrain_loader\u001b[38;5;241m.\u001b[39mdataset, num_samples\u001b[38;5;241m=\u001b[39m\u001b[38;5;241m1000\u001b[39m)\n",
      "\u001b[0;31mAttributeError\u001b[0m: 'NoneType' object has no attribute 'train_loader'"
     ]
    }
   ],
   "source": [
    "model = YOLO(\"/home/nele_pauline_suffo/models/yolov11_face_detection.pt\")\n",
    "build.YOLODataset = YOLOWeightedDataset\n",
    "# Get class counts in weighted mode\n",
    "model.trainer.train_loader.dataset.train_mode = True\n",
    "weighted_counts = verify_class_balance(model.trainer.train_loader.dataset, num_samples=1000)"
   ]
  },
  {
   "cell_type": "code",
   "execution_count": 2,
   "metadata": {},
   "outputs": [
    {
     "data": {
      "text/plain": [
       "17136"
      ]
     },
     "execution_count": 2,
     "metadata": {},
     "output_type": "execute_result"
    }
   ],
   "source": [
    "import os\n",
    "images_with_class_count = len([f for f in os.listdir(\"/home/nele_pauline_suffo/ProcessedData/yolo_face_labels\") if f.endswith('.txt')])\n",
    "images_with_class_count"
   ]
  },
  {
   "cell_type": "code",
   "execution_count": 1,
   "metadata": {},
   "outputs": [
    {
     "data": {
      "text/plain": [
       "88728"
      ]
     },
     "execution_count": 1,
     "metadata": {},
     "output_type": "execute_result"
    }
   ],
   "source": [
    "import os\n",
    "images_with_class_count = len([f for f in os.listdir(\"/home/nele_pauline_suffo/ProcessedData/yolo_person_labels\") if f.endswith('.txt')])\n",
    "images_with_class_count"
   ]
  },
  {
   "cell_type": "code",
   "execution_count": 6,
   "metadata": {},
   "outputs": [
    {
     "data": {
      "text/plain": [
       "1799"
      ]
     },
     "execution_count": 6,
     "metadata": {},
     "output_type": "execute_result"
    }
   ],
   "source": [
    "import os\n",
    "images_with_class_count = len(os.listdir(\"/home/nele_pauline_suffo/ProcessedData/quantex_videos_processed/quantex_at_home_id262565_2022_05_26_02\"))\n",
    "images_with_class_count"
   ]
  },
  {
   "cell_type": "code",
   "execution_count": null,
   "metadata": {},
   "outputs": [],
   "source": []
  }
 ],
 "metadata": {
  "kernelspec": {
   "display_name": "pyannote",
   "language": "python",
   "name": "python3"
  },
  "language_info": {
   "codemirror_mode": {
    "name": "ipython",
    "version": 3
   },
   "file_extension": ".py",
   "mimetype": "text/x-python",
   "name": "python",
   "nbconvert_exporter": "python",
   "pygments_lexer": "ipython3",
   "version": "3.8.20"
  }
 },
 "nbformat": 4,
 "nbformat_minor": 2
}
