{
 "cells": [
  {
   "cell_type": "code",
   "execution_count": 6,
   "metadata": {},
   "outputs": [],
   "source": [
    "import sqlite3\n",
    "from pathlib import Path\n",
    "import pandas as pd\n",
    "import logging\n",
    "import shutil\n",
    "import cv2\n",
    "import numpy as np\n",
    "from datetime import datetime\n",
    "import matplotlib.pyplot as plt\n",
    "import seaborn as sns\n",
    "pd.set_option('display.max_rows', None)\n",
    "\n",
    "# Configure logging\n",
    "logging.basicConfig(\n",
    "    level=logging.INFO,\n",
    "    format='%(asctime)s - %(levelname)s - %(message)s'\n",
    ")"
   ]
  },
  {
   "cell_type": "code",
   "execution_count": 8,
   "metadata": {},
   "outputs": [],
   "source": [
    "def get_balanced_face_samples():\n",
    "    import sqlite3\n",
    "    import pandas as pd\n",
    "    from pathlib import Path\n",
    "    from datetime import datetime\n",
    "    import logging\n",
    "\n",
    "    conn = sqlite3.connect('/home/nele_pauline_suffo/outputs/detection_pipeline_results/detection_results.db')\n",
    "    df = pd.read_sql_query(\"\"\"\n",
    "    WITH RankedFaces AS (\n",
    "        SELECT \n",
    "            v.video_id,\n",
    "            v.video_path,\n",
    "            d.frame_number,\n",
    "            d.confidence_score,\n",
    "            d.proximity,\n",
    "            d.object_class,\n",
    "            d.x_min,\n",
    "            d.y_min, \n",
    "            d.x_max,\n",
    "            d.y_max,\n",
    "            CAST(d.proximity * 10 AS INTEGER) AS proximity_bin\n",
    "        FROM Detections d\n",
    "        JOIN Videos v ON d.video_id = v.video_id\n",
    "        WHERE d.object_class IN (2, 3)\n",
    "            AND d.proximity BETWEEN 0 AND 1\n",
    "    ),\n",
    "    PerVideoSamples AS (\n",
    "        SELECT *,\n",
    "            ROW_NUMBER() OVER (\n",
    "                PARTITION BY \n",
    "                    object_class,\n",
    "                    proximity_bin,\n",
    "                    video_id\n",
    "                ORDER BY RANDOM()\n",
    "            ) AS rn_per_video\n",
    "        FROM RankedFaces\n",
    "    ),\n",
    "    DiverseSamples AS (\n",
    "        SELECT *,\n",
    "            ROW_NUMBER() OVER (\n",
    "                PARTITION BY object_class, proximity_bin\n",
    "                ORDER BY RANDOM()\n",
    "            ) AS rn_total\n",
    "        FROM PerVideoSamples\n",
    "        WHERE rn_per_video = 1  -- Only one sample per video per bin per class\n",
    "    )\n",
    "    SELECT \n",
    "        '/home/nele_pauline_suffo/ProcessedData/quantex_videos_processed/' || video_path || '/' || \n",
    "        video_path || '_' || printf('%06d', frame_number) || '.jpg' AS frame_file_name,\n",
    "        video_id,\n",
    "        confidence_score,\n",
    "        proximity,\n",
    "        proximity_bin,\n",
    "        x_min,\n",
    "        y_min,\n",
    "        x_max,\n",
    "        y_max,\n",
    "        CASE \n",
    "            WHEN object_class = 3 THEN 'adult' \n",
    "            WHEN object_class = 2 THEN 'child' \n",
    "        END AS age_group,\n",
    "        CAST(proximity_bin/10.0 AS TEXT) || '-' || CAST((proximity_bin + 1)/10.0 AS TEXT) AS proximity_range\n",
    "    FROM DiverseSamples\n",
    "    WHERE rn_total <= 10  -- Get max 10 per bin per class\n",
    "    ORDER BY age_group, proximity_bin, video_id;\n",
    "    \"\"\", conn)\n",
    "    \n",
    "    # Log summary statistics\n",
    "    summary_df = df.groupby(['age_group', 'proximity_range']).agg({\n",
    "        'frame_file_name': 'count'\n",
    "    }).reset_index()\n",
    "    summary_df.columns = ['Age Group', 'Proximity Range', 'Total Samples']\n",
    "    \n",
    "    logging.info(\"\\nSummary per bin:\")\n",
    "    logging.info(summary_df.to_string())\n",
    "    \n",
    "    # Save to CSV with bounding box information\n",
    "    current_time = datetime.now().strftime(\"%Y%m%d_%H%M%S\")\n",
    "    output_path = Path(f\"/home/nele_pauline_suffo/outputs/proximity_sampled_frames/proximity_samples_{current_time}.csv\")\n",
    "    output_path.parent.mkdir(parents=True, exist_ok=True)\n",
    "    df.to_csv(output_path, index=False)\n",
    "    \n",
    "    conn.close()\n",
    "    return df\n",
    "\n",
    "def copy_face_samples(df):\n",
    "    # First verify we have data\n",
    "    if df.empty:\n",
    "        logging.error(\"DataFrame is empty - no samples to copy\")\n",
    "        return\n",
    "        \n",
    "    logging.info(f\"Processing {len(df)} samples\")\n",
    "    logging.info(f\"Distribution:\\n{df.groupby('age_group').size()}\")\n",
    "    \n",
    "    # Define output directories\n",
    "    base_dir = Path('/home/nele_pauline_suffo/outputs/proximity_sampled_frames')\n",
    "    adult_dir = base_dir / 'adult_faces'\n",
    "    child_dir = base_dir / 'child_faces'\n",
    "    \n",
    "    # Create directories if they don't exist\n",
    "    adult_dir.mkdir(parents=True, exist_ok=True)\n",
    "    child_dir.mkdir(parents=True, exist_ok=True)\n",
    "    \n",
    "    # Copy files for each age group\n",
    "    copied_count = {'adult': 0, 'child': 0}\n",
    "    error_count = {'adult': 0, 'child': 0}\n",
    "    \n",
    "    # Define colors for bounding boxes (BGR format)\n",
    "    colors = {\n",
    "        'adult': (0, 255, 0),  # Green for adult\n",
    "        'child': (0, 0, 255)   # Red for child\n",
    "    }\n",
    "    \n",
    "    # Create random orders for each age group\n",
    "    for age_group in ['adult', 'child']:\n",
    "        age_df = df[df['age_group'] == age_group].copy()\n",
    "        # Create random order indices\n",
    "        random_indices = np.random.permutation(len(age_df))\n",
    "        age_df['random_prefix'] = [f\"{i:03d}\" for i in random_indices]\n",
    "        \n",
    "        target_dir = adult_dir if age_group == 'adult' else child_dir\n",
    "        \n",
    "        for _, row in age_df.iterrows():\n",
    "            src_path = Path(row['frame_file_name'])\n",
    "            \n",
    "            if not src_path.exists():\n",
    "                logging.warning(f\"Source file not found: {src_path}\")\n",
    "                error_count[age_group] += 1\n",
    "                continue\n",
    "                \n",
    "            try:\n",
    "                # Read the image\n",
    "                img = cv2.imread(str(src_path))\n",
    "                if img is None:\n",
    "                    logging.error(f\"Could not read image: {src_path}\")\n",
    "                    error_count[age_group] += 1\n",
    "                    continue\n",
    "                    \n",
    "                # Draw bounding box\n",
    "                x1, y1, x2, y2 = int(row['x_min']), int(row['y_min']), int(row['x_max']), int(row['y_max'])\n",
    "                cv2.rectangle(img, (x1, y1), (x2, y2), colors[age_group], 2)\n",
    "                \n",
    "                # Create new filename with random prefix and proximity\n",
    "                new_filename = f\"{row['random_prefix']}_{src_path.name}\"\n",
    "                dst_path = target_dir / new_filename\n",
    "                \n",
    "                # Save the image with bounding box\n",
    "                cv2.imwrite(str(dst_path), img)\n",
    "                \n",
    "                copied_count[age_group] += 1\n",
    "                if copied_count[age_group] % 10 == 0:\n",
    "                    logging.info(f\"Copied {copied_count[age_group]} {age_group} face images\")\n",
    "                    \n",
    "            except Exception as e:\n",
    "                logging.error(f\"Error processing {src_path}: {e}\")\n",
    "                error_count[age_group] += 1\n",
    "\n",
    "    # Log final statistics\n",
    "    for age_group in ['adult', 'child']:\n",
    "        logging.info(f\"{age_group.title()} faces - Copied: {copied_count[age_group]}, \"\n",
    "                    f\"Errors: {error_count[age_group]}\")\n",
    "    \n",
    "def create_empty_proximity_xlsx(df):\n",
    "    \"\"\"Create a single Excel file with separate sheets for adult and child faces.\n",
    "    \n",
    "    Parameters\n",
    "    ----------\n",
    "    df : pandas.DataFrame\n",
    "        DataFrame containing the face samples data\n",
    "    \"\"\"\n",
    "    import pandas as pd\n",
    "    from pathlib import Path\n",
    "    import logging\n",
    "\n",
    "    base_dir = Path('/home/nele_pauline_suffo/outputs/proximity_sampled_frames')\n",
    "    output_path = base_dir / 'proximity_samples_fill_in.xlsx'\n",
    "    \n",
    "    # Create Excel writer object\n",
    "    with pd.ExcelWriter(output_path, engine='openpyxl') as writer:\n",
    "        # Process each age group\n",
    "        for age_group in ['adult', 'child']:\n",
    "            folder_path = base_dir / f'{age_group}_faces'\n",
    "            \n",
    "            if not folder_path.exists():\n",
    "                logging.error(f\"Folder not found: {folder_path}\")\n",
    "                continue\n",
    "                \n",
    "            # Get all jpg files from the folder\n",
    "            frame_files = sorted(folder_path.glob('*.jpg'))\n",
    "            \n",
    "            # Create DataFrame with filenames and empty proximity column\n",
    "            output_df = pd.DataFrame({\n",
    "                'frame_file_name': [f.name for f in frame_files],\n",
    "                'proximity': ''  # empty column for manual proximity values\n",
    "            })\n",
    "            \n",
    "            # Write to specific sheet in Excel file\n",
    "            sheet_name = 'Adult Faces' if age_group == 'adult' else 'Child Faces'\n",
    "            output_df.to_excel(writer, sheet_name=sheet_name, index=False)\n",
    "            \n",
    "            logging.info(f\"Added {len(output_df)} {age_group} frames to sheet '{sheet_name}'\")\n",
    "    \n",
    "    logging.info(f\"Created Excel file at: {output_path}\")"
   ]
  },
  {
   "cell_type": "code",
   "execution_count": 7,
   "metadata": {},
   "outputs": [
    {
     "name": "stderr",
     "output_type": "stream",
     "text": [
      "2025-04-08 14:14:37,288 - INFO - \n",
      "Summary per bin:\n",
      "2025-04-08 14:14:37,291 - INFO -    Age Group Proximity Range  Total Samples\n",
      "0      adult         0.0-0.1             10\n",
      "1      adult         0.1-0.2             10\n",
      "2      adult         0.2-0.3             10\n",
      "3      adult         0.3-0.4             10\n",
      "4      adult         0.4-0.5             10\n",
      "5      adult         0.5-0.6             10\n",
      "6      adult         0.6-0.7             10\n",
      "7      adult         0.7-0.8             10\n",
      "8      adult         0.8-0.9             10\n",
      "9      adult         0.9-1.0             10\n",
      "10     adult         1.0-1.1             10\n",
      "11     child         0.0-0.1             10\n",
      "12     child         0.1-0.2             10\n",
      "13     child         0.2-0.3             10\n",
      "14     child         0.3-0.4             10\n",
      "15     child         0.4-0.5             10\n",
      "16     child         0.5-0.6             10\n",
      "17     child         0.6-0.7             10\n",
      "18     child         0.7-0.8             10\n",
      "19     child         0.8-0.9             10\n",
      "20     child         0.9-1.0             10\n",
      "21     child         1.0-1.1             10\n"
     ]
    },
    {
     "data": {
      "text/plain": [
       "220"
      ]
     },
     "execution_count": 7,
     "metadata": {},
     "output_type": "execute_result"
    }
   ],
   "source": [
    "heuristic_df = get_balanced_face_samples()\n",
    "\n",
    "len(heuristic_df)"
   ]
  },
  {
   "cell_type": "code",
   "execution_count": 10,
   "metadata": {},
   "outputs": [
    {
     "name": "stderr",
     "output_type": "stream",
     "text": [
      "2025-04-08 14:22:59,921 - INFO - Processing 220 samples\n",
      "2025-04-08 14:22:59,925 - INFO - Distribution:\n",
      "age_group\n",
      "adult    110\n",
      "child    110\n",
      "dtype: int64\n",
      "2025-04-08 14:23:00,741 - INFO - Copied 10 adult face images\n",
      "2025-04-08 14:23:10,831 - INFO - Copied 20 adult face images\n",
      "2025-04-08 14:23:12,366 - INFO - Copied 30 adult face images\n",
      "2025-04-08 14:23:13,231 - INFO - Copied 40 adult face images\n",
      "2025-04-08 14:23:14,102 - INFO - Copied 50 adult face images\n",
      "2025-04-08 14:23:14,852 - INFO - Copied 60 adult face images\n",
      "2025-04-08 14:23:15,647 - INFO - Copied 70 adult face images\n",
      "2025-04-08 14:23:16,631 - INFO - Copied 80 adult face images\n",
      "2025-04-08 14:23:17,409 - INFO - Copied 90 adult face images\n",
      "2025-04-08 14:23:18,213 - INFO - Copied 100 adult face images\n",
      "2025-04-08 14:23:19,102 - INFO - Copied 110 adult face images\n",
      "2025-04-08 14:23:19,862 - INFO - Copied 10 child face images\n",
      "2025-04-08 14:23:20,748 - INFO - Copied 20 child face images\n",
      "2025-04-08 14:23:21,588 - INFO - Copied 30 child face images\n",
      "2025-04-08 14:23:27,144 - INFO - Copied 40 child face images\n",
      "2025-04-08 14:23:42,340 - INFO - Copied 50 child face images\n",
      "2025-04-08 14:23:48,085 - INFO - Copied 60 child face images\n",
      "2025-04-08 14:23:49,236 - INFO - Copied 70 child face images\n",
      "2025-04-08 14:23:50,069 - INFO - Copied 80 child face images\n",
      "2025-04-08 14:23:50,836 - INFO - Copied 90 child face images\n",
      "2025-04-08 14:23:51,632 - INFO - Copied 100 child face images\n",
      "2025-04-08 14:23:52,519 - INFO - Copied 110 child face images\n",
      "2025-04-08 14:23:52,520 - INFO - Adult faces - Copied: 110, Errors: 0\n",
      "2025-04-08 14:23:52,520 - INFO - Child faces - Copied: 110, Errors: 0\n"
     ]
    }
   ],
   "source": [
    "# copy face samples to output directory\n",
    "copy_face_samples(heuristic_df)"
   ]
  },
  {
   "cell_type": "code",
   "execution_count": 11,
   "metadata": {},
   "outputs": [
    {
     "name": "stderr",
     "output_type": "stream",
     "text": [
      "2025-04-08 14:27:19,893 - INFO - Added 110 adult frames to sheet 'Adult Faces'\n",
      "2025-04-08 14:27:19,899 - INFO - Added 110 child frames to sheet 'Child Faces'\n",
      "2025-04-08 14:27:19,916 - INFO - Created Excel file at: /home/nele_pauline_suffo/outputs/proximity_sampled_frames/proximity_samples_fill_in.xlsx\n"
     ]
    }
   ],
   "source": [
    "# create empty proximity CSV for manual input\n",
    "create_empty_proximity_xlsx(heuristic_df)"
   ]
  },
  {
   "cell_type": "markdown",
   "metadata": {},
   "source": [
    "## Correlate the heuristic and estimation"
   ]
  },
  {
   "cell_type": "code",
   "execution_count": 4,
   "metadata": {},
   "outputs": [],
   "source": [
    "# read xlsx file with proximity values\n",
    "proximity_df_adult_1 = pd.read_excel('/home/nele_pauline_suffo/ProcessedData/proximity_samples_fill_in_1.xlsx', sheet_name=\"Adult Faces\")\n",
    "proximity_df_child_1 = pd.read_excel('/home/nele_pauline_suffo/ProcessedData/proximity_samples_fill_in_1.xlsx', sheet_name='Child Faces')\n",
    "proximity_df_adult_2 = pd.read_excel('/home/nele_pauline_suffo/ProcessedData/proximity_samples_fill_in_2.xlsx', sheet_name=\"Adult Faces\")\n",
    "proximity_df_child_2 = pd.read_excel('/home/nele_pauline_suffo/ProcessedData/proximity_samples_fill_in_2.xlsx', sheet_name='Child Faces')\n",
    "# only keep rows that show NaN in column wrong\n",
    "# only keep rows that show NaN in column wrong\n",
    "proximity_df_adult_clean_1 = proximity_df_adult_1[proximity_df_adult_1['wrong'].isna()]\n",
    "proximity_df_child_clean_1 = proximity_df_child_1[proximity_df_child_1['wrong'].isna()]\n",
    "proximity_df_adult_clean_2 = proximity_df_adult_1[proximity_df_adult_2['wrong'].isna()]\n",
    "proximity_df_child_clean_2 = proximity_df_child_2[proximity_df_child_2['wrong'].isna()]\n",
    "\n",
    "# add column type \"adult\" and drop column \"wrong\"\n",
    "proximity_df_adult_clean_1 = proximity_df_adult_clean_1.drop(columns=['wrong'])\n",
    "proximity_df_child_clean_1 = proximity_df_child_clean_1.drop(columns=['wrong'])\n",
    "proximity_df_adult_clean_2 = proximity_df_adult_clean_2.drop(columns=['wrong'])\n",
    "proximity_df_child_clean_2 = proximity_df_child_clean_2.drop(columns=['wrong'])\n",
    "proximity_df_adult_clean_1['age_group'] = 'adult'\n",
    "proximity_df_child_clean_1['age_group'] = 'child'\n",
    "proximity_df_adult_clean_2['age_group'] = 'adult'\n",
    "proximity_df_child_clean_2['age_group'] = 'child'\n",
    "\n",
    "# combine both dataframes\n",
    "proximity_df = pd.concat([proximity_df_adult_clean_1, proximity_df_child_clean_1, proximity_df_adult_clean_2, proximity_df_child_clean_2], ignore_index=True)\n",
    "\n",
    "# remove the first four values of the frame_file_name column\n",
    "proximity_df['frame_file_name'] = proximity_df['frame_file_name'].str[4:]\n",
    "\n",
    "# remove duplicate rows based on frame_file_name\n",
    "proximity_df_cleared = proximity_df.drop_duplicates(subset=['frame_file_name'])\n",
    "\n",
    "# load csv with proximity heuristic values from csv as dataframe\n",
    "proximity_df_heuristic = pd.read_csv('/home/nele_pauline_suffo/outputs/proximity_sampled_frames/proximity_samples_20250408_141437.csv')[['frame_file_name', 'proximity']]\n",
    "proximity_df_heuristic['frame_file_name'] = proximity_df_heuristic['frame_file_name'].str.split('/').str[-1]"
   ]
  },
  {
   "cell_type": "code",
   "execution_count": 5,
   "metadata": {},
   "outputs": [
    {
     "data": {
      "text/html": [
       "<div>\n",
       "<style scoped>\n",
       "    .dataframe tbody tr th:only-of-type {\n",
       "        vertical-align: middle;\n",
       "    }\n",
       "\n",
       "    .dataframe tbody tr th {\n",
       "        vertical-align: top;\n",
       "    }\n",
       "\n",
       "    .dataframe thead th {\n",
       "        text-align: right;\n",
       "    }\n",
       "</style>\n",
       "<table border=\"1\" class=\"dataframe\">\n",
       "  <thead>\n",
       "    <tr style=\"text-align: right;\">\n",
       "      <th></th>\n",
       "      <th>frame</th>\n",
       "      <th>proximity_true</th>\n",
       "      <th>proximity_heuristic</th>\n",
       "      <th>age_group</th>\n",
       "    </tr>\n",
       "  </thead>\n",
       "  <tbody>\n",
       "    <tr>\n",
       "      <th>0</th>\n",
       "      <td>quantex_at_home_id260123_2023_09_06_01_013290.jpg</td>\n",
       "      <td>0.87</td>\n",
       "      <td>NaN</td>\n",
       "      <td>adult</td>\n",
       "    </tr>\n",
       "    <tr>\n",
       "      <th>1</th>\n",
       "      <td>quantex_at_home_id262726_2023_03_26_01_021500.jpg</td>\n",
       "      <td>0.81</td>\n",
       "      <td>NaN</td>\n",
       "      <td>adult</td>\n",
       "    </tr>\n",
       "    <tr>\n",
       "      <th>2</th>\n",
       "      <td>quantex_at_home_id260275_2022_04_16_01_011640.jpg</td>\n",
       "      <td>0.21</td>\n",
       "      <td>NaN</td>\n",
       "      <td>adult</td>\n",
       "    </tr>\n",
       "    <tr>\n",
       "      <th>3</th>\n",
       "      <td>quantex_at_home_id264351_2024_11_23_03_016520.jpg</td>\n",
       "      <td>0.73</td>\n",
       "      <td>NaN</td>\n",
       "      <td>adult</td>\n",
       "    </tr>\n",
       "    <tr>\n",
       "      <th>4</th>\n",
       "      <td>quantex_at_home_id263284_2023_06_25_04_050240.jpg</td>\n",
       "      <td>0.91</td>\n",
       "      <td>NaN</td>\n",
       "      <td>adult</td>\n",
       "    </tr>\n",
       "  </tbody>\n",
       "</table>\n",
       "</div>"
      ],
      "text/plain": [
       "                                               frame  proximity_true  \\\n",
       "0  quantex_at_home_id260123_2023_09_06_01_013290.jpg            0.87   \n",
       "1  quantex_at_home_id262726_2023_03_26_01_021500.jpg            0.81   \n",
       "2  quantex_at_home_id260275_2022_04_16_01_011640.jpg            0.21   \n",
       "3  quantex_at_home_id264351_2024_11_23_03_016520.jpg            0.73   \n",
       "4  quantex_at_home_id263284_2023_06_25_04_050240.jpg            0.91   \n",
       "\n",
       "   proximity_heuristic age_group  \n",
       "0                  NaN     adult  \n",
       "1                  NaN     adult  \n",
       "2                  NaN     adult  \n",
       "3                  NaN     adult  \n",
       "4                  NaN     adult  "
      ]
     },
     "execution_count": 5,
     "metadata": {},
     "output_type": "execute_result"
    }
   ],
   "source": [
    "# now add the proximity values from the heuristic dataframe to the proximity_df dataframe\n",
    "proximity_eval_df = proximity_df_cleared.merge(proximity_df_heuristic, on='frame_file_name', how='left')\n",
    "proximity_eval_df = proximity_eval_df.rename(columns={'frame_file_name': 'frame', 'proximity_x': 'proximity_true', 'proximity_y': 'proximity_heuristic'})\n",
    "# change column order\n",
    "proximity_eval_df = proximity_eval_df[['frame', 'proximity_true', 'proximity_heuristic', 'age_group']]\n",
    "proximity_eval_df.head()"
   ]
  },
  {
   "cell_type": "code",
   "execution_count": 6,
   "metadata": {},
   "outputs": [],
   "source": [
    "# show rows that have proximity_heuristic as NaN\n",
    "proximity_df_without_heuristic = proximity_eval_df[proximity_eval_df['proximity_heuristic'].isna()]"
   ]
  },
  {
   "cell_type": "code",
   "execution_count": 7,
   "metadata": {},
   "outputs": [
    {
     "name": "stdout",
     "output_type": "stream",
     "text": [
      "Pearson Correlation: 0.8954845540630043\n",
      "Spearman Correlation: 0.8723470369321888\n"
     ]
    },
    {
     "data": {
      "image/png": "[encoded data removed]",
      "text/plain": [
       "<Figure size 800x600 with 1 Axes>"
      ]
     },
     "metadata": {},
     "output_type": "display_data"
    }
   ],
   "source": [
    "\n",
    "# Calculate Pearson Correlation Coefficient\n",
    "pearson_corr = proximity_eval_df['proximity_true'].corr(proximity_eval_df['proximity_heuristic'])\n",
    "print(f\"Pearson Correlation: {pearson_corr}\")\n",
    "\n",
    "# Calculate Spearman Rank Correlation\n",
    "spearman_corr = proximity_eval_df['proximity_true'].corr(proximity_eval_df['proximity_heuristic'], method='spearman')\n",
    "print(f\"Spearman Correlation: {spearman_corr}\")\n",
    "\n",
    "# Visualize the relationship using a scatter plot\n",
    "plt.figure(figsize=(8,6))\n",
    "sns.scatterplot(x='proximity_true', y='proximity_heuristic', data=proximity_eval_df)\n",
    "plt.title('Scatter Plot of True vs. Heuristic Proximity')\n",
    "plt.xlabel('True Proximity')\n",
    "plt.ylabel('Heuristic Proximity')\n",
    "plt.show()\n"
   ]
  },
  {
   "cell_type": "code",
   "execution_count": 7,
   "metadata": {},
   "outputs": [],
   "source": [
    "import sys\n",
    "sys.path.append(\"/home/nele_pauline_suffo/projects/leuphana-IPE/src\")"
   ]
  },
  {
   "cell_type": "code",
   "execution_count": 14,
   "metadata": {},
   "outputs": [
    {
     "data": {
      "text/html": [
       "<div>\n",
       "<style scoped>\n",
       "    .dataframe tbody tr th:only-of-type {\n",
       "        vertical-align: middle;\n",
       "    }\n",
       "\n",
       "    .dataframe tbody tr th {\n",
       "        vertical-align: top;\n",
       "    }\n",
       "\n",
       "    .dataframe thead th {\n",
       "        text-align: right;\n",
       "    }\n",
       "</style>\n",
       "<table border=\"1\" class=\"dataframe\">\n",
       "  <thead>\n",
       "    <tr style=\"text-align: right;\">\n",
       "      <th></th>\n",
       "      <th>frame</th>\n",
       "      <th>proximity_heuristic</th>\n",
       "      <th>age_group</th>\n",
       "    </tr>\n",
       "  </thead>\n",
       "  <tbody>\n",
       "    <tr>\n",
       "      <th>0</th>\n",
       "      <td>quantex_at_home_id260123_2023_09_06_01_013290.jpg</td>\n",
       "      <td>1.0</td>\n",
       "      <td>adult</td>\n",
       "    </tr>\n",
       "    <tr>\n",
       "      <th>1</th>\n",
       "      <td>quantex_at_home_id262726_2023_03_26_01_021500.jpg</td>\n",
       "      <td>0.29,0.33</td>\n",
       "      <td>adult</td>\n",
       "    </tr>\n",
       "    <tr>\n",
       "      <th>2</th>\n",
       "      <td>quantex_at_home_id260275_2022_04_16_01_011640.jpg</td>\n",
       "      <td>0.37</td>\n",
       "      <td>adult</td>\n",
       "    </tr>\n",
       "    <tr>\n",
       "      <th>3</th>\n",
       "      <td>quantex_at_home_id264351_2024_11_23_03_016520.jpg</td>\n",
       "      <td>1.0,0.6</td>\n",
       "      <td>adult</td>\n",
       "    </tr>\n",
       "    <tr>\n",
       "      <th>4</th>\n",
       "      <td>quantex_at_home_id263284_2023_06_25_04_050240.jpg</td>\n",
       "      <td>0.59,0.45,0.51</td>\n",
       "      <td>adult</td>\n",
       "    </tr>\n",
       "    <tr>\n",
       "      <th>5</th>\n",
       "      <td>quantex_at_home_id254922_2022_06_29_01_021030.jpg</td>\n",
       "      <td>0.3,0.16</td>\n",
       "      <td>adult</td>\n",
       "    </tr>\n",
       "    <tr>\n",
       "      <th>6</th>\n",
       "      <td>quantex_at_home_id260275_2022_04_16_01_023830.jpg</td>\n",
       "      <td>0.57,0.44,0.22,0.19</td>\n",
       "      <td>adult</td>\n",
       "    </tr>\n",
       "    <tr>\n",
       "      <th>7</th>\n",
       "      <td>quantex_at_home_id263284_2023_06_25_04_032620.jpg</td>\n",
       "      <td>0.12</td>\n",
       "      <td>adult</td>\n",
       "    </tr>\n",
       "    <tr>\n",
       "      <th>8</th>\n",
       "      <td>quantex_at_home_id262726_2023_03_24_01_032720.jpg</td>\n",
       "      <td>0.23</td>\n",
       "      <td>adult</td>\n",
       "    </tr>\n",
       "    <tr>\n",
       "      <th>9</th>\n",
       "      <td>quantex_at_home_id266822_2022_11_12_02_002890.jpg</td>\n",
       "      <td>0.47</td>\n",
       "      <td>adult</td>\n",
       "    </tr>\n",
       "    <tr>\n",
       "      <th>10</th>\n",
       "      <td>quantex_at_home_id263204_2024_12_30_01_000130.jpg</td>\n",
       "      <td>1.0</td>\n",
       "      <td>adult</td>\n",
       "    </tr>\n",
       "    <tr>\n",
       "      <th>11</th>\n",
       "      <td>quantex_at_home_id271611_2024_09_08_03_035360.jpg</td>\n",
       "      <td>0.89,0.37</td>\n",
       "      <td>adult</td>\n",
       "    </tr>\n",
       "    <tr>\n",
       "      <th>12</th>\n",
       "      <td>quantex_at_home_id263207_2024_12_12_04_015340.jpg</td>\n",
       "      <td>0.47,0.52,0.47</td>\n",
       "      <td>adult</td>\n",
       "    </tr>\n",
       "    <tr>\n",
       "      <th>13</th>\n",
       "      <td>quantex_at_home_id264683_2024_09_02_01_036800.jpg</td>\n",
       "      <td>1.0</td>\n",
       "      <td>adult</td>\n",
       "    </tr>\n",
       "    <tr>\n",
       "      <th>14</th>\n",
       "      <td>quantex_at_home_id262565_2022_05_08_01_008050.jpg</td>\n",
       "      <td>0.51,1.0</td>\n",
       "      <td>adult</td>\n",
       "    </tr>\n",
       "    <tr>\n",
       "      <th>15</th>\n",
       "      <td>quantex_at_home_id262356_2023_09_10_01_004850.jpg</td>\n",
       "      <td>0.78,0.49</td>\n",
       "      <td>adult</td>\n",
       "    </tr>\n",
       "    <tr>\n",
       "      <th>16</th>\n",
       "      <td>quantex_at_home_id263284_2023_06_25_06_029240.jpg</td>\n",
       "      <td>NaN</td>\n",
       "      <td>adult</td>\n",
       "    </tr>\n",
       "    <tr>\n",
       "      <th>17</th>\n",
       "      <td>quantex_at_home_id257608_2021_12_20_02_019350.jpg</td>\n",
       "      <td>0.79</td>\n",
       "      <td>adult</td>\n",
       "    </tr>\n",
       "    <tr>\n",
       "      <th>18</th>\n",
       "      <td>quantex_at_home_id271700_2023_06_16_01_013600.jpg</td>\n",
       "      <td>0.59</td>\n",
       "      <td>adult</td>\n",
       "    </tr>\n",
       "    <tr>\n",
       "      <th>19</th>\n",
       "      <td>quantex_at_home_id258239_2021_02_15_01_032340.jpg</td>\n",
       "      <td>0.31</td>\n",
       "      <td>adult</td>\n",
       "    </tr>\n",
       "    <tr>\n",
       "      <th>20</th>\n",
       "      <td>quantex_at_home_id260275_2022_04_16_01_027310.jpg</td>\n",
       "      <td>0.5,0.27</td>\n",
       "      <td>adult</td>\n",
       "    </tr>\n",
       "    <tr>\n",
       "      <th>21</th>\n",
       "      <td>quantex_at_home_id267529_2024_12_23_01_006990.jpg</td>\n",
       "      <td>0.48</td>\n",
       "      <td>adult</td>\n",
       "    </tr>\n",
       "    <tr>\n",
       "      <th>22</th>\n",
       "      <td>quantex_at_home_id275411_2024_11_22_02_013120.jpg</td>\n",
       "      <td>0.66</td>\n",
       "      <td>adult</td>\n",
       "    </tr>\n",
       "    <tr>\n",
       "      <th>23</th>\n",
       "      <td>quantex_at_home_id260275_2022_04_16_01_021030.jpg</td>\n",
       "      <td>0.19</td>\n",
       "      <td>adult</td>\n",
       "    </tr>\n",
       "    <tr>\n",
       "      <th>24</th>\n",
       "      <td>quantex_at_home_id263284_2023_06_25_06_038560.jpg</td>\n",
       "      <td>0.07</td>\n",
       "      <td>adult</td>\n",
       "    </tr>\n",
       "    <tr>\n",
       "      <th>25</th>\n",
       "      <td>quantex_at_home_id263293_2022_08_29_01_032150.jpg</td>\n",
       "      <td>0.68,0.69,0.74</td>\n",
       "      <td>adult</td>\n",
       "    </tr>\n",
       "    <tr>\n",
       "      <th>26</th>\n",
       "      <td>quantex_at_home_id264089_2023_05_14_01_030790.jpg</td>\n",
       "      <td>0.16</td>\n",
       "      <td>adult</td>\n",
       "    </tr>\n",
       "    <tr>\n",
       "      <th>27</th>\n",
       "      <td>quantex_at_home_id264089_2023_05_14_01_019040.jpg</td>\n",
       "      <td>NaN</td>\n",
       "      <td>adult</td>\n",
       "    </tr>\n",
       "    <tr>\n",
       "      <th>28</th>\n",
       "      <td>quantex_at_home_id262521_2024_12_15_02_012490.jpg</td>\n",
       "      <td>0.46</td>\n",
       "      <td>adult</td>\n",
       "    </tr>\n",
       "    <tr>\n",
       "      <th>30</th>\n",
       "      <td>quantex_at_home_id254922_2022_06_29_01_021380.jpg</td>\n",
       "      <td>0.22</td>\n",
       "      <td>adult</td>\n",
       "    </tr>\n",
       "    <tr>\n",
       "      <th>31</th>\n",
       "      <td>quantex_at_home_id260275_2022_04_16_01_027330.jpg</td>\n",
       "      <td>1.0,0.16,0.19,0.14</td>\n",
       "      <td>adult</td>\n",
       "    </tr>\n",
       "    <tr>\n",
       "      <th>32</th>\n",
       "      <td>quantex_at_home_id263284_2023_06_25_04_025260.jpg</td>\n",
       "      <td>0.1</td>\n",
       "      <td>adult</td>\n",
       "    </tr>\n",
       "    <tr>\n",
       "      <th>33</th>\n",
       "      <td>quantex_at_home_id260178_2023_08_12_03_042040.jpg</td>\n",
       "      <td>1.0</td>\n",
       "      <td>adult</td>\n",
       "    </tr>\n",
       "    <tr>\n",
       "      <th>34</th>\n",
       "      <td>quantex_at_home_id258541_2023_03_26_01_019320.jpg</td>\n",
       "      <td>NaN</td>\n",
       "      <td>adult</td>\n",
       "    </tr>\n",
       "    <tr>\n",
       "      <th>35</th>\n",
       "      <td>quantex_at_home_id266822_2022_11_12_02_046200.jpg</td>\n",
       "      <td>NaN</td>\n",
       "      <td>adult</td>\n",
       "    </tr>\n",
       "    <tr>\n",
       "      <th>36</th>\n",
       "      <td>quantex_at_home_id264351_2024_11_23_03_010000.jpg</td>\n",
       "      <td>NaN</td>\n",
       "      <td>adult</td>\n",
       "    </tr>\n",
       "    <tr>\n",
       "      <th>37</th>\n",
       "      <td>quantex_at_home_id263207_2024_12_12_02_024290.jpg</td>\n",
       "      <td>0.14</td>\n",
       "      <td>adult</td>\n",
       "    </tr>\n",
       "    <tr>\n",
       "      <th>38</th>\n",
       "      <td>quantex_at_home_id262726_2023_04_20_01_037150.jpg</td>\n",
       "      <td>0.6,0.51</td>\n",
       "      <td>adult</td>\n",
       "    </tr>\n",
       "    <tr>\n",
       "      <th>39</th>\n",
       "      <td>quantex_at_home_id263284_2023_06_25_06_029230.jpg</td>\n",
       "      <td>NaN</td>\n",
       "      <td>adult</td>\n",
       "    </tr>\n",
       "    <tr>\n",
       "      <th>40</th>\n",
       "      <td>quantex_at_home_id263293_2022_08_29_01_049840.jpg</td>\n",
       "      <td>0.77,1.0,1.0</td>\n",
       "      <td>adult</td>\n",
       "    </tr>\n",
       "    <tr>\n",
       "      <th>41</th>\n",
       "      <td>quantex_at_home_id271700_2023_03_27_01_010730.jpg</td>\n",
       "      <td>0.81</td>\n",
       "      <td>adult</td>\n",
       "    </tr>\n",
       "    <tr>\n",
       "      <th>42</th>\n",
       "      <td>quantex_at_home_id271700_2023_03_27_01_008790.jpg</td>\n",
       "      <td>0.82</td>\n",
       "      <td>adult</td>\n",
       "    </tr>\n",
       "    <tr>\n",
       "      <th>43</th>\n",
       "      <td>quantex_at_home_id267529_2024_12_23_01_041380.jpg</td>\n",
       "      <td>1.0</td>\n",
       "      <td>adult</td>\n",
       "    </tr>\n",
       "    <tr>\n",
       "      <th>44</th>\n",
       "      <td>quantex_at_home_id260275_2022_04_16_01_020250.jpg</td>\n",
       "      <td>0.33,0.3</td>\n",
       "      <td>adult</td>\n",
       "    </tr>\n",
       "    <tr>\n",
       "      <th>45</th>\n",
       "      <td>quantex_at_home_id261609_2022_04_15_02_026780.jpg</td>\n",
       "      <td>0.89,0.76</td>\n",
       "      <td>adult</td>\n",
       "    </tr>\n",
       "    <tr>\n",
       "      <th>46</th>\n",
       "      <td>quantex_at_home_id260275_2022_04_16_01_021150.jpg</td>\n",
       "      <td>0.54,0.21</td>\n",
       "      <td>adult</td>\n",
       "    </tr>\n",
       "    <tr>\n",
       "      <th>47</th>\n",
       "      <td>quantex_at_home_id271700_2023_03_27_01_026440.jpg</td>\n",
       "      <td>1.0</td>\n",
       "      <td>adult</td>\n",
       "    </tr>\n",
       "    <tr>\n",
       "      <th>48</th>\n",
       "      <td>quantex_at_home_id271611_2024_09_08_03_034960.jpg</td>\n",
       "      <td>0.34,1.0</td>\n",
       "      <td>adult</td>\n",
       "    </tr>\n",
       "    <tr>\n",
       "      <th>49</th>\n",
       "      <td>quantex_at_home_id266606_2024_09_15_01_025050.jpg</td>\n",
       "      <td>0.72</td>\n",
       "      <td>adult</td>\n",
       "    </tr>\n",
       "    <tr>\n",
       "      <th>50</th>\n",
       "      <td>quantex_at_home_id254922_2022_06_29_01_031090.jpg</td>\n",
       "      <td>0.23</td>\n",
       "      <td>adult</td>\n",
       "    </tr>\n",
       "    <tr>\n",
       "      <th>51</th>\n",
       "      <td>quantex_at_home_id254922_2022_06_29_01_030800.jpg</td>\n",
       "      <td>0.25,0.25</td>\n",
       "      <td>adult</td>\n",
       "    </tr>\n",
       "    <tr>\n",
       "      <th>52</th>\n",
       "      <td>quantex_at_home_id263293_2022_08_29_01_031530.jpg</td>\n",
       "      <td>0.55</td>\n",
       "      <td>adult</td>\n",
       "    </tr>\n",
       "    <tr>\n",
       "      <th>53</th>\n",
       "      <td>quantex_at_home_id263284_2023_06_25_06_052620.jpg</td>\n",
       "      <td>0.1</td>\n",
       "      <td>adult</td>\n",
       "    </tr>\n",
       "    <tr>\n",
       "      <th>54</th>\n",
       "      <td>quantex_at_home_id260275_2022_04_16_01_031820.jpg</td>\n",
       "      <td>0.74,0.23,0.21</td>\n",
       "      <td>adult</td>\n",
       "    </tr>\n",
       "    <tr>\n",
       "      <th>55</th>\n",
       "      <td>quantex_at_home_id263190_2022_07_12_01_010860.jpg</td>\n",
       "      <td>NaN</td>\n",
       "      <td>adult</td>\n",
       "    </tr>\n",
       "    <tr>\n",
       "      <th>56</th>\n",
       "      <td>quantex_at_home_id257578_2021_05_12_02_008910.jpg</td>\n",
       "      <td>1.0</td>\n",
       "      <td>adult</td>\n",
       "    </tr>\n",
       "    <tr>\n",
       "      <th>57</th>\n",
       "      <td>quantex_at_home_id262726_2023_03_26_01_011930.jpg</td>\n",
       "      <td>0.28</td>\n",
       "      <td>adult</td>\n",
       "    </tr>\n",
       "    <tr>\n",
       "      <th>58</th>\n",
       "      <td>quantex_at_home_id262333_2024_12_01_03_011230.jpg</td>\n",
       "      <td>1.0</td>\n",
       "      <td>adult</td>\n",
       "    </tr>\n",
       "    <tr>\n",
       "      <th>59</th>\n",
       "      <td>quantex_at_home_id263293_2022_08_29_01_035870.jpg</td>\n",
       "      <td>0.72,0.73,1.0,0.67</td>\n",
       "      <td>adult</td>\n",
       "    </tr>\n",
       "    <tr>\n",
       "      <th>60</th>\n",
       "      <td>quantex_at_home_id263986_2022_12_05_01_000190.jpg</td>\n",
       "      <td>NaN</td>\n",
       "      <td>adult</td>\n",
       "    </tr>\n",
       "    <tr>\n",
       "      <th>61</th>\n",
       "      <td>quantex_at_home_id262726_2023_03_26_01_021540.jpg</td>\n",
       "      <td>0.32,0.32</td>\n",
       "      <td>adult</td>\n",
       "    </tr>\n",
       "    <tr>\n",
       "      <th>62</th>\n",
       "      <td>quantex_at_home_id263284_2023_06_25_06_043360.jpg</td>\n",
       "      <td>0.1</td>\n",
       "      <td>adult</td>\n",
       "    </tr>\n",
       "    <tr>\n",
       "      <th>63</th>\n",
       "      <td>quantex_at_home_id263204_2025_01_06_01_048740.jpg</td>\n",
       "      <td>1.0</td>\n",
       "      <td>adult</td>\n",
       "    </tr>\n",
       "    <tr>\n",
       "      <th>64</th>\n",
       "      <td>quantex_at_home_id271700_2023_06_16_01_011050.jpg</td>\n",
       "      <td>1.0</td>\n",
       "      <td>adult</td>\n",
       "    </tr>\n",
       "    <tr>\n",
       "      <th>65</th>\n",
       "      <td>quantex_at_home_id258704_2022_05_10_02_007070.jpg</td>\n",
       "      <td>0.55</td>\n",
       "      <td>adult</td>\n",
       "    </tr>\n",
       "    <tr>\n",
       "      <th>66</th>\n",
       "      <td>quantex_at_home_id254922_2022_06_29_01_020570.jpg</td>\n",
       "      <td>0.25</td>\n",
       "      <td>adult</td>\n",
       "    </tr>\n",
       "    <tr>\n",
       "      <th>67</th>\n",
       "      <td>quantex_at_home_id263986_2022_12_05_01_017730.jpg</td>\n",
       "      <td>0.76,0.29</td>\n",
       "      <td>adult</td>\n",
       "    </tr>\n",
       "    <tr>\n",
       "      <th>68</th>\n",
       "      <td>quantex_at_home_id264351_2024_11_23_03_027610.jpg</td>\n",
       "      <td>1.0</td>\n",
       "      <td>adult</td>\n",
       "    </tr>\n",
       "    <tr>\n",
       "      <th>69</th>\n",
       "      <td>quantex_at_home_id265514_2024_09_03_05_002990.jpg</td>\n",
       "      <td>0.54</td>\n",
       "      <td>adult</td>\n",
       "    </tr>\n",
       "    <tr>\n",
       "      <th>70</th>\n",
       "      <td>quantex_at_home_id263284_2023_06_25_06_051080.jpg</td>\n",
       "      <td>0.04</td>\n",
       "      <td>adult</td>\n",
       "    </tr>\n",
       "    <tr>\n",
       "      <th>71</th>\n",
       "      <td>quantex_at_home_id262333_2024_12_01_03_011170.jpg</td>\n",
       "      <td>1.0</td>\n",
       "      <td>adult</td>\n",
       "    </tr>\n",
       "    <tr>\n",
       "      <th>72</th>\n",
       "      <td>quantex_at_home_id263293_2022_08_29_01_045970.jpg</td>\n",
       "      <td>0.76</td>\n",
       "      <td>adult</td>\n",
       "    </tr>\n",
       "    <tr>\n",
       "      <th>73</th>\n",
       "      <td>quantex_at_home_id263204_2025_01_06_01_010960.jpg</td>\n",
       "      <td>0.93</td>\n",
       "      <td>adult</td>\n",
       "    </tr>\n",
       "    <tr>\n",
       "      <th>74</th>\n",
       "      <td>quantex_at_home_id260176_2022_11_06_02_017870.jpg</td>\n",
       "      <td>0.3</td>\n",
       "      <td>adult</td>\n",
       "    </tr>\n",
       "    <tr>\n",
       "      <th>75</th>\n",
       "      <td>quantex_at_home_id264089_2023_05_14_01_005880.jpg</td>\n",
       "      <td>1.0</td>\n",
       "      <td>adult</td>\n",
       "    </tr>\n",
       "    <tr>\n",
       "      <th>76</th>\n",
       "      <td>quantex_at_home_id263284_2023_06_25_06_046900.jpg</td>\n",
       "      <td>0.09</td>\n",
       "      <td>adult</td>\n",
       "    </tr>\n",
       "    <tr>\n",
       "      <th>77</th>\n",
       "      <td>quantex_at_home_id260176_2022_11_06_02_044640.jpg</td>\n",
       "      <td>0.28,0.11</td>\n",
       "      <td>adult</td>\n",
       "    </tr>\n",
       "    <tr>\n",
       "      <th>78</th>\n",
       "      <td>quantex_at_home_id262726_2023_03_26_01_024500.jpg</td>\n",
       "      <td>0.34</td>\n",
       "      <td>child</td>\n",
       "    </tr>\n",
       "    <tr>\n",
       "      <th>79</th>\n",
       "      <td>quantex_at_home_id264356_2023_07_05_04_013650.jpg</td>\n",
       "      <td>1.0</td>\n",
       "      <td>child</td>\n",
       "    </tr>\n",
       "    <tr>\n",
       "      <th>80</th>\n",
       "      <td>quantex_at_home_id260123_2023_08_31_01_016380.jpg</td>\n",
       "      <td>0.49</td>\n",
       "      <td>child</td>\n",
       "    </tr>\n",
       "    <tr>\n",
       "      <th>81</th>\n",
       "      <td>quantex_at_home_id268898_2022_11_30_01_052810.jpg</td>\n",
       "      <td>NaN</td>\n",
       "      <td>child</td>\n",
       "    </tr>\n",
       "    <tr>\n",
       "      <th>82</th>\n",
       "      <td>quantex_at_home_id267863_2022_08_23_01_045520.jpg</td>\n",
       "      <td>1.0</td>\n",
       "      <td>child</td>\n",
       "    </tr>\n",
       "    <tr>\n",
       "      <th>83</th>\n",
       "      <td>quantex_at_home_id262758_2023_07_10_01_042650.jpg</td>\n",
       "      <td>0.84</td>\n",
       "      <td>child</td>\n",
       "    </tr>\n",
       "    <tr>\n",
       "      <th>84</th>\n",
       "      <td>quantex_at_home_id258239_2021_02_15_01_043330.jpg</td>\n",
       "      <td>NaN</td>\n",
       "      <td>child</td>\n",
       "    </tr>\n",
       "    <tr>\n",
       "      <th>85</th>\n",
       "      <td>quantex_at_home_id261609_2022_04_01_06_053030.jpg</td>\n",
       "      <td>1.0</td>\n",
       "      <td>child</td>\n",
       "    </tr>\n",
       "    <tr>\n",
       "      <th>86</th>\n",
       "      <td>quantex_at_home_id263293_2022_08_29_01_049700.jpg</td>\n",
       "      <td>0.88,1.0,0.63</td>\n",
       "      <td>child</td>\n",
       "    </tr>\n",
       "    <tr>\n",
       "      <th>87</th>\n",
       "      <td>quantex_at_home_id267863_2022_08_23_01_028220.jpg</td>\n",
       "      <td>0.74</td>\n",
       "      <td>child</td>\n",
       "    </tr>\n",
       "    <tr>\n",
       "      <th>88</th>\n",
       "      <td>quantex_at_home_id263207_2024_12_12_02_028120.jpg</td>\n",
       "      <td>0.49</td>\n",
       "      <td>child</td>\n",
       "    </tr>\n",
       "    <tr>\n",
       "      <th>89</th>\n",
       "      <td>quantex_at_home_id260275_2022_04_16_01_016280.jpg</td>\n",
       "      <td>0.72</td>\n",
       "      <td>child</td>\n",
       "    </tr>\n",
       "    <tr>\n",
       "      <th>90</th>\n",
       "      <td>quantex_at_home_id263293_2022_08_29_01_029030.jpg</td>\n",
       "      <td>0.85</td>\n",
       "      <td>child</td>\n",
       "    </tr>\n",
       "    <tr>\n",
       "      <th>91</th>\n",
       "      <td>quantex_at_home_id260176_2022_11_06_02_031510.jpg</td>\n",
       "      <td>0.21</td>\n",
       "      <td>child</td>\n",
       "    </tr>\n",
       "    <tr>\n",
       "      <th>92</th>\n",
       "      <td>quantex_at_home_id260275_2022_04_16_01_024520.jpg</td>\n",
       "      <td>0.94,1.0</td>\n",
       "      <td>child</td>\n",
       "    </tr>\n",
       "    <tr>\n",
       "      <th>93</th>\n",
       "      <td>quantex_at_home_id262208_2022_11_05_03_011680.jpg</td>\n",
       "      <td>0.66</td>\n",
       "      <td>child</td>\n",
       "    </tr>\n",
       "    <tr>\n",
       "      <th>94</th>\n",
       "      <td>quantex_at_home_id262758_2023_07_10_01_010780.jpg</td>\n",
       "      <td>0.62</td>\n",
       "      <td>child</td>\n",
       "    </tr>\n",
       "    <tr>\n",
       "      <th>95</th>\n",
       "      <td>quantex_at_home_id262565_2022_05_08_01_020570.jpg</td>\n",
       "      <td>1.0</td>\n",
       "      <td>child</td>\n",
       "    </tr>\n",
       "    <tr>\n",
       "      <th>96</th>\n",
       "      <td>quantex_at_home_id266971_2024_09_03_01_052950.jpg</td>\n",
       "      <td>0.76,1.0</td>\n",
       "      <td>child</td>\n",
       "    </tr>\n",
       "    <tr>\n",
       "      <th>97</th>\n",
       "      <td>quantex_at_home_id266971_2024_09_06_04_012540.jpg</td>\n",
       "      <td>0.85</td>\n",
       "      <td>child</td>\n",
       "    </tr>\n",
       "    <tr>\n",
       "      <th>98</th>\n",
       "      <td>quantex_at_home_id261609_2022_04_01_06_045610.jpg</td>\n",
       "      <td>1.0</td>\n",
       "      <td>child</td>\n",
       "    </tr>\n",
       "    <tr>\n",
       "      <th>99</th>\n",
       "      <td>quantex_at_home_id260275_2022_04_16_01_024500.jpg</td>\n",
       "      <td>0.9,1.0</td>\n",
       "      <td>child</td>\n",
       "    </tr>\n",
       "    <tr>\n",
       "      <th>100</th>\n",
       "      <td>quantex_at_home_id257511_2021_07_06_02_030970.jpg</td>\n",
       "      <td>0.41</td>\n",
       "      <td>child</td>\n",
       "    </tr>\n",
       "    <tr>\n",
       "      <th>101</th>\n",
       "      <td>quantex_at_home_id258541_2023_03_26_01_020720.jpg</td>\n",
       "      <td>NaN</td>\n",
       "      <td>child</td>\n",
       "    </tr>\n",
       "    <tr>\n",
       "      <th>102</th>\n",
       "      <td>quantex_at_home_id258239_2021_02_15_01_021460.jpg</td>\n",
       "      <td>0.21</td>\n",
       "      <td>child</td>\n",
       "    </tr>\n",
       "    <tr>\n",
       "      <th>103</th>\n",
       "      <td>quantex_at_home_id262356_2023_09_10_01_037340.jpg</td>\n",
       "      <td>0.75</td>\n",
       "      <td>child</td>\n",
       "    </tr>\n",
       "    <tr>\n",
       "      <th>104</th>\n",
       "      <td>quantex_at_home_id260176_2022_11_06_02_016160.jpg</td>\n",
       "      <td>1.0</td>\n",
       "      <td>child</td>\n",
       "    </tr>\n",
       "    <tr>\n",
       "      <th>105</th>\n",
       "      <td>quantex_at_home_id264683_2024_09_02_01_036780.jpg</td>\n",
       "      <td>1.0</td>\n",
       "      <td>child</td>\n",
       "    </tr>\n",
       "    <tr>\n",
       "      <th>106</th>\n",
       "      <td>quantex_at_home_id260176_2022_11_06_02_016050.jpg</td>\n",
       "      <td>NaN</td>\n",
       "      <td>child</td>\n",
       "    </tr>\n",
       "    <tr>\n",
       "      <th>107</th>\n",
       "      <td>quantex_at_home_id260275_2022_04_16_01_017740.jpg</td>\n",
       "      <td>1.0,1.0</td>\n",
       "      <td>child</td>\n",
       "    </tr>\n",
       "    <tr>\n",
       "      <th>108</th>\n",
       "      <td>quantex_at_home_id261609_2022_04_01_06_008910.jpg</td>\n",
       "      <td>1.0</td>\n",
       "      <td>child</td>\n",
       "    </tr>\n",
       "    <tr>\n",
       "      <th>109</th>\n",
       "      <td>quantex_at_home_id263207_2024_12_12_02_018110.jpg</td>\n",
       "      <td>NaN</td>\n",
       "      <td>child</td>\n",
       "    </tr>\n",
       "    <tr>\n",
       "      <th>110</th>\n",
       "      <td>quantex_at_home_id260176_2022_11_06_02_048820.jpg</td>\n",
       "      <td>0.2</td>\n",
       "      <td>child</td>\n",
       "    </tr>\n",
       "    <tr>\n",
       "      <th>111</th>\n",
       "      <td>quantex_at_home_id262726_2023_03_26_01_016300.jpg</td>\n",
       "      <td>NaN</td>\n",
       "      <td>child</td>\n",
       "    </tr>\n",
       "    <tr>\n",
       "      <th>112</th>\n",
       "      <td>quantex_at_home_id262208_2022_11_05_03_034900.jpg</td>\n",
       "      <td>0.74,1.0,1.0</td>\n",
       "      <td>child</td>\n",
       "    </tr>\n",
       "    <tr>\n",
       "      <th>113</th>\n",
       "      <td>quantex_at_home_id261609_2022_04_01_06_010120.jpg</td>\n",
       "      <td>1.0</td>\n",
       "      <td>child</td>\n",
       "    </tr>\n",
       "    <tr>\n",
       "      <th>114</th>\n",
       "      <td>quantex_at_home_id262758_2023_07_10_01_025660.jpg</td>\n",
       "      <td>0.9</td>\n",
       "      <td>child</td>\n",
       "    </tr>\n",
       "    <tr>\n",
       "      <th>115</th>\n",
       "      <td>quantex_at_home_id264089_2023_05_14_01_015770.jpg</td>\n",
       "      <td>0.25</td>\n",
       "      <td>child</td>\n",
       "    </tr>\n",
       "    <tr>\n",
       "      <th>116</th>\n",
       "      <td>quantex_at_home_id260176_2022_11_06_02_015610.jpg</td>\n",
       "      <td>1.0</td>\n",
       "      <td>child</td>\n",
       "    </tr>\n",
       "    <tr>\n",
       "      <th>117</th>\n",
       "      <td>quantex_at_home_id262758_2023_07_10_01_042090.jpg</td>\n",
       "      <td>0.83</td>\n",
       "      <td>child</td>\n",
       "    </tr>\n",
       "    <tr>\n",
       "      <th>118</th>\n",
       "      <td>quantex_at_home_id263207_2024_12_12_04_006860.jpg</td>\n",
       "      <td>1.0,0.46</td>\n",
       "      <td>child</td>\n",
       "    </tr>\n",
       "    <tr>\n",
       "      <th>119</th>\n",
       "      <td>quantex_at_home_id257609_2022_11_09_01_008380.jpg</td>\n",
       "      <td>NaN</td>\n",
       "      <td>child</td>\n",
       "    </tr>\n",
       "    <tr>\n",
       "      <th>120</th>\n",
       "      <td>quantex_at_home_id258541_2023_03_26_01_020280.jpg</td>\n",
       "      <td>NaN</td>\n",
       "      <td>child</td>\n",
       "    </tr>\n",
       "    <tr>\n",
       "      <th>121</th>\n",
       "      <td>quantex_at_home_id263204_2024_12_30_01_041000.jpg</td>\n",
       "      <td>1.0</td>\n",
       "      <td>child</td>\n",
       "    </tr>\n",
       "    <tr>\n",
       "      <th>122</th>\n",
       "      <td>quantex_at_home_id261609_2022_04_01_01_047890.jpg</td>\n",
       "      <td>NaN</td>\n",
       "      <td>child</td>\n",
       "    </tr>\n",
       "    <tr>\n",
       "      <th>123</th>\n",
       "      <td>quantex_at_home_id254922_2022_06_29_02_008350.jpg</td>\n",
       "      <td>1.0,0.42</td>\n",
       "      <td>child</td>\n",
       "    </tr>\n",
       "    <tr>\n",
       "      <th>124</th>\n",
       "      <td>quantex_at_home_id262179_2023_01_22_03_049700.jpg</td>\n",
       "      <td>0.57</td>\n",
       "      <td>child</td>\n",
       "    </tr>\n",
       "    <tr>\n",
       "      <th>125</th>\n",
       "      <td>quantex_at_home_id261609_2022_04_15_02_006650.jpg</td>\n",
       "      <td>NaN</td>\n",
       "      <td>child</td>\n",
       "    </tr>\n",
       "    <tr>\n",
       "      <th>126</th>\n",
       "      <td>quantex_at_home_id264089_2023_05_21_01_004690.jpg</td>\n",
       "      <td>0.97</td>\n",
       "      <td>child</td>\n",
       "    </tr>\n",
       "    <tr>\n",
       "      <th>127</th>\n",
       "      <td>quantex_at_home_id257511_2021_07_06_02_037420.jpg</td>\n",
       "      <td>1.0,0.52</td>\n",
       "      <td>child</td>\n",
       "    </tr>\n",
       "    <tr>\n",
       "      <th>128</th>\n",
       "      <td>quantex_at_home_id264089_2023_05_14_01_042700.jpg</td>\n",
       "      <td>0.9</td>\n",
       "      <td>child</td>\n",
       "    </tr>\n",
       "    <tr>\n",
       "      <th>129</th>\n",
       "      <td>quantex_at_home_id257511_2021_07_06_02_031810.jpg</td>\n",
       "      <td>1.0</td>\n",
       "      <td>child</td>\n",
       "    </tr>\n",
       "    <tr>\n",
       "      <th>130</th>\n",
       "      <td>quantex_at_home_id260176_2022_11_06_02_031520.jpg</td>\n",
       "      <td>0.25</td>\n",
       "      <td>child</td>\n",
       "    </tr>\n",
       "    <tr>\n",
       "      <th>131</th>\n",
       "      <td>quantex_at_home_id263207_2024_12_12_02_017320.jpg</td>\n",
       "      <td>0.43,0.12</td>\n",
       "      <td>child</td>\n",
       "    </tr>\n",
       "    <tr>\n",
       "      <th>132</th>\n",
       "      <td>quantex_at_home_id266971_2024_09_03_01_044080.jpg</td>\n",
       "      <td>0.69</td>\n",
       "      <td>child</td>\n",
       "    </tr>\n",
       "    <tr>\n",
       "      <th>133</th>\n",
       "      <td>quantex_at_home_id257608_2021_12_20_01_049380.jpg</td>\n",
       "      <td>0.53,0.38</td>\n",
       "      <td>child</td>\n",
       "    </tr>\n",
       "    <tr>\n",
       "      <th>134</th>\n",
       "      <td>quantex_at_home_id273855_2023_06_08_01_051980.jpg</td>\n",
       "      <td>1.0</td>\n",
       "      <td>child</td>\n",
       "    </tr>\n",
       "    <tr>\n",
       "      <th>135</th>\n",
       "      <td>quantex_at_home_id258541_2023_03_26_01_013570.jpg</td>\n",
       "      <td>NaN</td>\n",
       "      <td>child</td>\n",
       "    </tr>\n",
       "    <tr>\n",
       "      <th>136</th>\n",
       "      <td>quantex_at_home_id263207_2024_12_12_02_017310.jpg</td>\n",
       "      <td>0.43,0.11</td>\n",
       "      <td>child</td>\n",
       "    </tr>\n",
       "    <tr>\n",
       "      <th>137</th>\n",
       "      <td>quantex_at_home_id262179_2023_01_22_03_049740.jpg</td>\n",
       "      <td>NaN</td>\n",
       "      <td>child</td>\n",
       "    </tr>\n",
       "    <tr>\n",
       "      <th>138</th>\n",
       "      <td>quantex_at_home_id268898_2022_11_30_01_007980.jpg</td>\n",
       "      <td>0.66</td>\n",
       "      <td>child</td>\n",
       "    </tr>\n",
       "    <tr>\n",
       "      <th>139</th>\n",
       "      <td>quantex_at_home_id263293_2022_08_29_01_044470.jpg</td>\n",
       "      <td>0.93</td>\n",
       "      <td>child</td>\n",
       "    </tr>\n",
       "    <tr>\n",
       "      <th>140</th>\n",
       "      <td>quantex_at_home_id262758_2023_07_10_01_027450.jpg</td>\n",
       "      <td>0.78</td>\n",
       "      <td>child</td>\n",
       "    </tr>\n",
       "    <tr>\n",
       "      <th>141</th>\n",
       "      <td>quantex_at_home_id262565_2022_05_08_01_053850.jpg</td>\n",
       "      <td>0.59</td>\n",
       "      <td>child</td>\n",
       "    </tr>\n",
       "    <tr>\n",
       "      <th>142</th>\n",
       "      <td>quantex_at_home_id260176_2022_11_06_02_031500.jpg</td>\n",
       "      <td>NaN</td>\n",
       "      <td>child</td>\n",
       "    </tr>\n",
       "    <tr>\n",
       "      <th>143</th>\n",
       "      <td>quantex_at_home_id258239_2021_02_15_01_040920.jpg</td>\n",
       "      <td>NaN</td>\n",
       "      <td>child</td>\n",
       "    </tr>\n",
       "    <tr>\n",
       "      <th>144</th>\n",
       "      <td>quantex_at_home_id263207_2024_12_12_04_007130.jpg</td>\n",
       "      <td>0.45,1.0,1.0,0.38</td>\n",
       "      <td>child</td>\n",
       "    </tr>\n",
       "    <tr>\n",
       "      <th>145</th>\n",
       "      <td>quantex_at_home_id258239_2021_02_15_01_005870.jpg</td>\n",
       "      <td>1.0</td>\n",
       "      <td>child</td>\n",
       "    </tr>\n",
       "    <tr>\n",
       "      <th>146</th>\n",
       "      <td>quantex_at_home_id266971_2024_09_03_01_021280.jpg</td>\n",
       "      <td>1.0</td>\n",
       "      <td>child</td>\n",
       "    </tr>\n",
       "    <tr>\n",
       "      <th>147</th>\n",
       "      <td>quantex_at_home_id261609_2022_04_01_06_046500.jpg</td>\n",
       "      <td>1.0</td>\n",
       "      <td>child</td>\n",
       "    </tr>\n",
       "    <tr>\n",
       "      <th>148</th>\n",
       "      <td>quantex_at_home_id260176_2022_11_06_02_029380.jpg</td>\n",
       "      <td>0.17</td>\n",
       "      <td>child</td>\n",
       "    </tr>\n",
       "    <tr>\n",
       "      <th>149</th>\n",
       "      <td>quantex_at_home_id258239_2021_02_15_01_038750.jpg</td>\n",
       "      <td>0.43,1.0</td>\n",
       "      <td>child</td>\n",
       "    </tr>\n",
       "    <tr>\n",
       "      <th>150</th>\n",
       "      <td>quantex_at_home_id257609_2022_11_09_01_018600.jpg</td>\n",
       "      <td>0.67</td>\n",
       "      <td>child</td>\n",
       "    </tr>\n",
       "    <tr>\n",
       "      <th>151</th>\n",
       "      <td>quantex_at_home_id266971_2024_09_03_01_037910.jpg</td>\n",
       "      <td>1.0,1.0</td>\n",
       "      <td>child</td>\n",
       "    </tr>\n",
       "    <tr>\n",
       "      <th>152</th>\n",
       "      <td>quantex_at_home_id262758_2023_07_10_01_042810.jpg</td>\n",
       "      <td>0.82</td>\n",
       "      <td>child</td>\n",
       "    </tr>\n",
       "    <tr>\n",
       "      <th>153</th>\n",
       "      <td>quantex_at_home_id263293_2022_08_29_01_029450.jpg</td>\n",
       "      <td>0.88</td>\n",
       "      <td>child</td>\n",
       "    </tr>\n",
       "    <tr>\n",
       "      <th>154</th>\n",
       "      <td>quantex_at_home_id268898_2022_11_30_01_043160.jpg</td>\n",
       "      <td>1.0</td>\n",
       "      <td>adult</td>\n",
       "    </tr>\n",
       "    <tr>\n",
       "      <th>155</th>\n",
       "      <td>quantex_at_home_id262726_2023_04_20_01_037740.jpg</td>\n",
       "      <td>0.57</td>\n",
       "      <td>adult</td>\n",
       "    </tr>\n",
       "    <tr>\n",
       "      <th>156</th>\n",
       "      <td>quantex_at_home_id260120_2023_09_04_02_001440.jpg</td>\n",
       "      <td>0.71</td>\n",
       "      <td>adult</td>\n",
       "    </tr>\n",
       "    <tr>\n",
       "      <th>157</th>\n",
       "      <td>quantex_at_home_id263293_2022_08_29_01_018450.jpg</td>\n",
       "      <td>0.66,1.0,0.73,0.82</td>\n",
       "      <td>adult</td>\n",
       "    </tr>\n",
       "    <tr>\n",
       "      <th>158</th>\n",
       "      <td>quantex_at_home_id262758_2023_07_10_01_033980.jpg</td>\n",
       "      <td>0.68</td>\n",
       "      <td>adult</td>\n",
       "    </tr>\n",
       "    <tr>\n",
       "      <th>159</th>\n",
       "      <td>quantex_at_home_id260772_2022_10_02_01_043450.jpg</td>\n",
       "      <td>0.56</td>\n",
       "      <td>adult</td>\n",
       "    </tr>\n",
       "    <tr>\n",
       "      <th>160</th>\n",
       "      <td>quantex_at_home_id263293_2022_08_29_01_043620.jpg</td>\n",
       "      <td>0.9,0.82</td>\n",
       "      <td>adult</td>\n",
       "    </tr>\n",
       "    <tr>\n",
       "      <th>161</th>\n",
       "      <td>quantex_at_home_id273855_2023_06_04_02_016450.jpg</td>\n",
       "      <td>0.54</td>\n",
       "      <td>adult</td>\n",
       "    </tr>\n",
       "    <tr>\n",
       "      <th>162</th>\n",
       "      <td>quantex_at_home_id260123_2023_08_31_01_018910.jpg</td>\n",
       "      <td>0.64</td>\n",
       "      <td>adult</td>\n",
       "    </tr>\n",
       "    <tr>\n",
       "      <th>163</th>\n",
       "      <td>quantex_at_home_id267863_2022_08_23_01_017830.jpg</td>\n",
       "      <td>0.9</td>\n",
       "      <td>adult</td>\n",
       "    </tr>\n",
       "    <tr>\n",
       "      <th>164</th>\n",
       "      <td>quantex_at_home_id260176_2022_11_06_02_010930.jpg</td>\n",
       "      <td>NaN</td>\n",
       "      <td>adult</td>\n",
       "    </tr>\n",
       "    <tr>\n",
       "      <th>165</th>\n",
       "      <td>quantex_at_home_id261609_2022_04_15_02_011580.jpg</td>\n",
       "      <td>0.74,0.7</td>\n",
       "      <td>adult</td>\n",
       "    </tr>\n",
       "    <tr>\n",
       "      <th>166</th>\n",
       "      <td>quantex_at_home_id263293_2022_08_29_01_015430.jpg</td>\n",
       "      <td>0.6,0.63</td>\n",
       "      <td>adult</td>\n",
       "    </tr>\n",
       "    <tr>\n",
       "      <th>167</th>\n",
       "      <td>quantex_at_home_id263207_2024_12_12_02_007910.jpg</td>\n",
       "      <td>1.0</td>\n",
       "      <td>adult</td>\n",
       "    </tr>\n",
       "    <tr>\n",
       "      <th>168</th>\n",
       "      <td>quantex_at_home_id262758_2023_07_10_01_021940.jpg</td>\n",
       "      <td>0.77</td>\n",
       "      <td>adult</td>\n",
       "    </tr>\n",
       "    <tr>\n",
       "      <th>169</th>\n",
       "      <td>quantex_at_home_id263293_2022_08_29_01_029760.jpg</td>\n",
       "      <td>0.97</td>\n",
       "      <td>adult</td>\n",
       "    </tr>\n",
       "    <tr>\n",
       "      <th>170</th>\n",
       "      <td>quantex_at_home_id263284_2023_06_25_06_002850.jpg</td>\n",
       "      <td>0.09</td>\n",
       "      <td>adult</td>\n",
       "    </tr>\n",
       "    <tr>\n",
       "      <th>171</th>\n",
       "      <td>quantex_at_home_id264356_2023_07_05_04_034320.jpg</td>\n",
       "      <td>NaN</td>\n",
       "      <td>adult</td>\n",
       "    </tr>\n",
       "  </tbody>\n",
       "</table>\n",
       "</div>"
      ],
      "text/plain": [
       "                                                 frame  proximity_heuristic  \\\n",
       "0    quantex_at_home_id260123_2023_09_06_01_013290.jpg                  1.0   \n",
       "1    quantex_at_home_id262726_2023_03_26_01_021500.jpg            0.29,0.33   \n",
       "2    quantex_at_home_id260275_2022_04_16_01_011640.jpg                 0.37   \n",
       "3    quantex_at_home_id264351_2024_11_23_03_016520.jpg              1.0,0.6   \n",
       "4    quantex_at_home_id263284_2023_06_25_04_050240.jpg       0.59,0.45,0.51   \n",
       "5    quantex_at_home_id254922_2022_06_29_01_021030.jpg             0.3,0.16   \n",
       "6    quantex_at_home_id260275_2022_04_16_01_023830.jpg  0.57,0.44,0.22,0.19   \n",
       "7    quantex_at_home_id263284_2023_06_25_04_032620.jpg                 0.12   \n",
       "8    quantex_at_home_id262726_2023_03_24_01_032720.jpg                 0.23   \n",
       "9    quantex_at_home_id266822_2022_11_12_02_002890.jpg                 0.47   \n",
       "10   quantex_at_home_id263204_2024_12_30_01_000130.jpg                  1.0   \n",
       "11   quantex_at_home_id271611_2024_09_08_03_035360.jpg            0.89,0.37   \n",
       "12   quantex_at_home_id263207_2024_12_12_04_015340.jpg       0.47,0.52,0.47   \n",
       "13   quantex_at_home_id264683_2024_09_02_01_036800.jpg                  1.0   \n",
       "14   quantex_at_home_id262565_2022_05_08_01_008050.jpg             0.51,1.0   \n",
       "15   quantex_at_home_id262356_2023_09_10_01_004850.jpg            0.78,0.49   \n",
       "16   quantex_at_home_id263284_2023_06_25_06_029240.jpg                  NaN   \n",
       "17   quantex_at_home_id257608_2021_12_20_02_019350.jpg                 0.79   \n",
       "18   quantex_at_home_id271700_2023_06_16_01_013600.jpg                 0.59   \n",
       "19   quantex_at_home_id258239_2021_02_15_01_032340.jpg                 0.31   \n",
       "20   quantex_at_home_id260275_2022_04_16_01_027310.jpg             0.5,0.27   \n",
       "21   quantex_at_home_id267529_2024_12_23_01_006990.jpg                 0.48   \n",
       "22   quantex_at_home_id275411_2024_11_22_02_013120.jpg                 0.66   \n",
       "23   quantex_at_home_id260275_2022_04_16_01_021030.jpg                 0.19   \n",
       "24   quantex_at_home_id263284_2023_06_25_06_038560.jpg                 0.07   \n",
       "25   quantex_at_home_id263293_2022_08_29_01_032150.jpg       0.68,0.69,0.74   \n",
       "26   quantex_at_home_id264089_2023_05_14_01_030790.jpg                 0.16   \n",
       "27   quantex_at_home_id264089_2023_05_14_01_019040.jpg                  NaN   \n",
       "28   quantex_at_home_id262521_2024_12_15_02_012490.jpg                 0.46   \n",
       "30   quantex_at_home_id254922_2022_06_29_01_021380.jpg                 0.22   \n",
       "31   quantex_at_home_id260275_2022_04_16_01_027330.jpg   1.0,0.16,0.19,0.14   \n",
       "32   quantex_at_home_id263284_2023_06_25_04_025260.jpg                  0.1   \n",
       "33   quantex_at_home_id260178_2023_08_12_03_042040.jpg                  1.0   \n",
       "34   quantex_at_home_id258541_2023_03_26_01_019320.jpg                  NaN   \n",
       "35   quantex_at_home_id266822_2022_11_12_02_046200.jpg                  NaN   \n",
       "36   quantex_at_home_id264351_2024_11_23_03_010000.jpg                  NaN   \n",
       "37   quantex_at_home_id263207_2024_12_12_02_024290.jpg                 0.14   \n",
       "38   quantex_at_home_id262726_2023_04_20_01_037150.jpg             0.6,0.51   \n",
       "39   quantex_at_home_id263284_2023_06_25_06_029230.jpg                  NaN   \n",
       "40   quantex_at_home_id263293_2022_08_29_01_049840.jpg         0.77,1.0,1.0   \n",
       "41   quantex_at_home_id271700_2023_03_27_01_010730.jpg                 0.81   \n",
       "42   quantex_at_home_id271700_2023_03_27_01_008790.jpg                 0.82   \n",
       "43   quantex_at_home_id267529_2024_12_23_01_041380.jpg                  1.0   \n",
       "44   quantex_at_home_id260275_2022_04_16_01_020250.jpg             0.33,0.3   \n",
       "45   quantex_at_home_id261609_2022_04_15_02_026780.jpg            0.89,0.76   \n",
       "46   quantex_at_home_id260275_2022_04_16_01_021150.jpg            0.54,0.21   \n",
       "47   quantex_at_home_id271700_2023_03_27_01_026440.jpg                  1.0   \n",
       "48   quantex_at_home_id271611_2024_09_08_03_034960.jpg             0.34,1.0   \n",
       "49   quantex_at_home_id266606_2024_09_15_01_025050.jpg                 0.72   \n",
       "50   quantex_at_home_id254922_2022_06_29_01_031090.jpg                 0.23   \n",
       "51   quantex_at_home_id254922_2022_06_29_01_030800.jpg            0.25,0.25   \n",
       "52   quantex_at_home_id263293_2022_08_29_01_031530.jpg                 0.55   \n",
       "53   quantex_at_home_id263284_2023_06_25_06_052620.jpg                  0.1   \n",
       "54   quantex_at_home_id260275_2022_04_16_01_031820.jpg       0.74,0.23,0.21   \n",
       "55   quantex_at_home_id263190_2022_07_12_01_010860.jpg                  NaN   \n",
       "56   quantex_at_home_id257578_2021_05_12_02_008910.jpg                  1.0   \n",
       "57   quantex_at_home_id262726_2023_03_26_01_011930.jpg                 0.28   \n",
       "58   quantex_at_home_id262333_2024_12_01_03_011230.jpg                  1.0   \n",
       "59   quantex_at_home_id263293_2022_08_29_01_035870.jpg   0.72,0.73,1.0,0.67   \n",
       "60   quantex_at_home_id263986_2022_12_05_01_000190.jpg                  NaN   \n",
       "61   quantex_at_home_id262726_2023_03_26_01_021540.jpg            0.32,0.32   \n",
       "62   quantex_at_home_id263284_2023_06_25_06_043360.jpg                  0.1   \n",
       "63   quantex_at_home_id263204_2025_01_06_01_048740.jpg                  1.0   \n",
       "64   quantex_at_home_id271700_2023_06_16_01_011050.jpg                  1.0   \n",
       "65   quantex_at_home_id258704_2022_05_10_02_007070.jpg                 0.55   \n",
       "66   quantex_at_home_id254922_2022_06_29_01_020570.jpg                 0.25   \n",
       "67   quantex_at_home_id263986_2022_12_05_01_017730.jpg            0.76,0.29   \n",
       "68   quantex_at_home_id264351_2024_11_23_03_027610.jpg                  1.0   \n",
       "69   quantex_at_home_id265514_2024_09_03_05_002990.jpg                 0.54   \n",
       "70   quantex_at_home_id263284_2023_06_25_06_051080.jpg                 0.04   \n",
       "71   quantex_at_home_id262333_2024_12_01_03_011170.jpg                  1.0   \n",
       "72   quantex_at_home_id263293_2022_08_29_01_045970.jpg                 0.76   \n",
       "73   quantex_at_home_id263204_2025_01_06_01_010960.jpg                 0.93   \n",
       "74   quantex_at_home_id260176_2022_11_06_02_017870.jpg                  0.3   \n",
       "75   quantex_at_home_id264089_2023_05_14_01_005880.jpg                  1.0   \n",
       "76   quantex_at_home_id263284_2023_06_25_06_046900.jpg                 0.09   \n",
       "77   quantex_at_home_id260176_2022_11_06_02_044640.jpg            0.28,0.11   \n",
       "78   quantex_at_home_id262726_2023_03_26_01_024500.jpg                 0.34   \n",
       "79   quantex_at_home_id264356_2023_07_05_04_013650.jpg                  1.0   \n",
       "80   quantex_at_home_id260123_2023_08_31_01_016380.jpg                 0.49   \n",
       "81   quantex_at_home_id268898_2022_11_30_01_052810.jpg                  NaN   \n",
       "82   quantex_at_home_id267863_2022_08_23_01_045520.jpg                  1.0   \n",
       "83   quantex_at_home_id262758_2023_07_10_01_042650.jpg                 0.84   \n",
       "84   quantex_at_home_id258239_2021_02_15_01_043330.jpg                  NaN   \n",
       "85   quantex_at_home_id261609_2022_04_01_06_053030.jpg                  1.0   \n",
       "86   quantex_at_home_id263293_2022_08_29_01_049700.jpg        0.88,1.0,0.63   \n",
       "87   quantex_at_home_id267863_2022_08_23_01_028220.jpg                 0.74   \n",
       "88   quantex_at_home_id263207_2024_12_12_02_028120.jpg                 0.49   \n",
       "89   quantex_at_home_id260275_2022_04_16_01_016280.jpg                 0.72   \n",
       "90   quantex_at_home_id263293_2022_08_29_01_029030.jpg                 0.85   \n",
       "91   quantex_at_home_id260176_2022_11_06_02_031510.jpg                 0.21   \n",
       "92   quantex_at_home_id260275_2022_04_16_01_024520.jpg             0.94,1.0   \n",
       "93   quantex_at_home_id262208_2022_11_05_03_011680.jpg                 0.66   \n",
       "94   quantex_at_home_id262758_2023_07_10_01_010780.jpg                 0.62   \n",
       "95   quantex_at_home_id262565_2022_05_08_01_020570.jpg                  1.0   \n",
       "96   quantex_at_home_id266971_2024_09_03_01_052950.jpg             0.76,1.0   \n",
       "97   quantex_at_home_id266971_2024_09_06_04_012540.jpg                 0.85   \n",
       "98   quantex_at_home_id261609_2022_04_01_06_045610.jpg                  1.0   \n",
       "99   quantex_at_home_id260275_2022_04_16_01_024500.jpg              0.9,1.0   \n",
       "100  quantex_at_home_id257511_2021_07_06_02_030970.jpg                 0.41   \n",
       "101  quantex_at_home_id258541_2023_03_26_01_020720.jpg                  NaN   \n",
       "102  quantex_at_home_id258239_2021_02_15_01_021460.jpg                 0.21   \n",
       "103  quantex_at_home_id262356_2023_09_10_01_037340.jpg                 0.75   \n",
       "104  quantex_at_home_id260176_2022_11_06_02_016160.jpg                  1.0   \n",
       "105  quantex_at_home_id264683_2024_09_02_01_036780.jpg                  1.0   \n",
       "106  quantex_at_home_id260176_2022_11_06_02_016050.jpg                  NaN   \n",
       "107  quantex_at_home_id260275_2022_04_16_01_017740.jpg              1.0,1.0   \n",
       "108  quantex_at_home_id261609_2022_04_01_06_008910.jpg                  1.0   \n",
       "109  quantex_at_home_id263207_2024_12_12_02_018110.jpg                  NaN   \n",
       "110  quantex_at_home_id260176_2022_11_06_02_048820.jpg                  0.2   \n",
       "111  quantex_at_home_id262726_2023_03_26_01_016300.jpg                  NaN   \n",
       "112  quantex_at_home_id262208_2022_11_05_03_034900.jpg         0.74,1.0,1.0   \n",
       "113  quantex_at_home_id261609_2022_04_01_06_010120.jpg                  1.0   \n",
       "114  quantex_at_home_id262758_2023_07_10_01_025660.jpg                  0.9   \n",
       "115  quantex_at_home_id264089_2023_05_14_01_015770.jpg                 0.25   \n",
       "116  quantex_at_home_id260176_2022_11_06_02_015610.jpg                  1.0   \n",
       "117  quantex_at_home_id262758_2023_07_10_01_042090.jpg                 0.83   \n",
       "118  quantex_at_home_id263207_2024_12_12_04_006860.jpg             1.0,0.46   \n",
       "119  quantex_at_home_id257609_2022_11_09_01_008380.jpg                  NaN   \n",
       "120  quantex_at_home_id258541_2023_03_26_01_020280.jpg                  NaN   \n",
       "121  quantex_at_home_id263204_2024_12_30_01_041000.jpg                  1.0   \n",
       "122  quantex_at_home_id261609_2022_04_01_01_047890.jpg                  NaN   \n",
       "123  quantex_at_home_id254922_2022_06_29_02_008350.jpg             1.0,0.42   \n",
       "124  quantex_at_home_id262179_2023_01_22_03_049700.jpg                 0.57   \n",
       "125  quantex_at_home_id261609_2022_04_15_02_006650.jpg                  NaN   \n",
       "126  quantex_at_home_id264089_2023_05_21_01_004690.jpg                 0.97   \n",
       "127  quantex_at_home_id257511_2021_07_06_02_037420.jpg             1.0,0.52   \n",
       "128  quantex_at_home_id264089_2023_05_14_01_042700.jpg                  0.9   \n",
       "129  quantex_at_home_id257511_2021_07_06_02_031810.jpg                  1.0   \n",
       "130  quantex_at_home_id260176_2022_11_06_02_031520.jpg                 0.25   \n",
       "131  quantex_at_home_id263207_2024_12_12_02_017320.jpg            0.43,0.12   \n",
       "132  quantex_at_home_id266971_2024_09_03_01_044080.jpg                 0.69   \n",
       "133  quantex_at_home_id257608_2021_12_20_01_049380.jpg            0.53,0.38   \n",
       "134  quantex_at_home_id273855_2023_06_08_01_051980.jpg                  1.0   \n",
       "135  quantex_at_home_id258541_2023_03_26_01_013570.jpg                  NaN   \n",
       "136  quantex_at_home_id263207_2024_12_12_02_017310.jpg            0.43,0.11   \n",
       "137  quantex_at_home_id262179_2023_01_22_03_049740.jpg                  NaN   \n",
       "138  quantex_at_home_id268898_2022_11_30_01_007980.jpg                 0.66   \n",
       "139  quantex_at_home_id263293_2022_08_29_01_044470.jpg                 0.93   \n",
       "140  quantex_at_home_id262758_2023_07_10_01_027450.jpg                 0.78   \n",
       "141  quantex_at_home_id262565_2022_05_08_01_053850.jpg                 0.59   \n",
       "142  quantex_at_home_id260176_2022_11_06_02_031500.jpg                  NaN   \n",
       "143  quantex_at_home_id258239_2021_02_15_01_040920.jpg                  NaN   \n",
       "144  quantex_at_home_id263207_2024_12_12_04_007130.jpg    0.45,1.0,1.0,0.38   \n",
       "145  quantex_at_home_id258239_2021_02_15_01_005870.jpg                  1.0   \n",
       "146  quantex_at_home_id266971_2024_09_03_01_021280.jpg                  1.0   \n",
       "147  quantex_at_home_id261609_2022_04_01_06_046500.jpg                  1.0   \n",
       "148  quantex_at_home_id260176_2022_11_06_02_029380.jpg                 0.17   \n",
       "149  quantex_at_home_id258239_2021_02_15_01_038750.jpg             0.43,1.0   \n",
       "150  quantex_at_home_id257609_2022_11_09_01_018600.jpg                 0.67   \n",
       "151  quantex_at_home_id266971_2024_09_03_01_037910.jpg              1.0,1.0   \n",
       "152  quantex_at_home_id262758_2023_07_10_01_042810.jpg                 0.82   \n",
       "153  quantex_at_home_id263293_2022_08_29_01_029450.jpg                 0.88   \n",
       "154  quantex_at_home_id268898_2022_11_30_01_043160.jpg                  1.0   \n",
       "155  quantex_at_home_id262726_2023_04_20_01_037740.jpg                 0.57   \n",
       "156  quantex_at_home_id260120_2023_09_04_02_001440.jpg                 0.71   \n",
       "157  quantex_at_home_id263293_2022_08_29_01_018450.jpg   0.66,1.0,0.73,0.82   \n",
       "158  quantex_at_home_id262758_2023_07_10_01_033980.jpg                 0.68   \n",
       "159  quantex_at_home_id260772_2022_10_02_01_043450.jpg                 0.56   \n",
       "160  quantex_at_home_id263293_2022_08_29_01_043620.jpg             0.9,0.82   \n",
       "161  quantex_at_home_id273855_2023_06_04_02_016450.jpg                 0.54   \n",
       "162  quantex_at_home_id260123_2023_08_31_01_018910.jpg                 0.64   \n",
       "163  quantex_at_home_id267863_2022_08_23_01_017830.jpg                  0.9   \n",
       "164  quantex_at_home_id260176_2022_11_06_02_010930.jpg                  NaN   \n",
       "165  quantex_at_home_id261609_2022_04_15_02_011580.jpg             0.74,0.7   \n",
       "166  quantex_at_home_id263293_2022_08_29_01_015430.jpg             0.6,0.63   \n",
       "167  quantex_at_home_id263207_2024_12_12_02_007910.jpg                  1.0   \n",
       "168  quantex_at_home_id262758_2023_07_10_01_021940.jpg                 0.77   \n",
       "169  quantex_at_home_id263293_2022_08_29_01_029760.jpg                 0.97   \n",
       "170  quantex_at_home_id263284_2023_06_25_06_002850.jpg                 0.09   \n",
       "171  quantex_at_home_id264356_2023_07_05_04_034320.jpg                  NaN   \n",
       "\n",
       "    age_group  \n",
       "0       adult  \n",
       "1       adult  \n",
       "2       adult  \n",
       "3       adult  \n",
       "4       adult  \n",
       "5       adult  \n",
       "6       adult  \n",
       "7       adult  \n",
       "8       adult  \n",
       "9       adult  \n",
       "10      adult  \n",
       "11      adult  \n",
       "12      adult  \n",
       "13      adult  \n",
       "14      adult  \n",
       "15      adult  \n",
       "16      adult  \n",
       "17      adult  \n",
       "18      adult  \n",
       "19      adult  \n",
       "20      adult  \n",
       "21      adult  \n",
       "22      adult  \n",
       "23      adult  \n",
       "24      adult  \n",
       "25      adult  \n",
       "26      adult  \n",
       "27      adult  \n",
       "28      adult  \n",
       "30      adult  \n",
       "31      adult  \n",
       "32      adult  \n",
       "33      adult  \n",
       "34      adult  \n",
       "35      adult  \n",
       "36      adult  \n",
       "37      adult  \n",
       "38      adult  \n",
       "39      adult  \n",
       "40      adult  \n",
       "41      adult  \n",
       "42      adult  \n",
       "43      adult  \n",
       "44      adult  \n",
       "45      adult  \n",
       "46      adult  \n",
       "47      adult  \n",
       "48      adult  \n",
       "49      adult  \n",
       "50      adult  \n",
       "51      adult  \n",
       "52      adult  \n",
       "53      adult  \n",
       "54      adult  \n",
       "55      adult  \n",
       "56      adult  \n",
       "57      adult  \n",
       "58      adult  \n",
       "59      adult  \n",
       "60      adult  \n",
       "61      adult  \n",
       "62      adult  \n",
       "63      adult  \n",
       "64      adult  \n",
       "65      adult  \n",
       "66      adult  \n",
       "67      adult  \n",
       "68      adult  \n",
       "69      adult  \n",
       "70      adult  \n",
       "71      adult  \n",
       "72      adult  \n",
       "73      adult  \n",
       "74      adult  \n",
       "75      adult  \n",
       "76      adult  \n",
       "77      adult  \n",
       "78      child  \n",
       "79      child  \n",
       "80      child  \n",
       "81      child  \n",
       "82      child  \n",
       "83      child  \n",
       "84      child  \n",
       "85      child  \n",
       "86      child  \n",
       "87      child  \n",
       "88      child  \n",
       "89      child  \n",
       "90      child  \n",
       "91      child  \n",
       "92      child  \n",
       "93      child  \n",
       "94      child  \n",
       "95      child  \n",
       "96      child  \n",
       "97      child  \n",
       "98      child  \n",
       "99      child  \n",
       "100     child  \n",
       "101     child  \n",
       "102     child  \n",
       "103     child  \n",
       "104     child  \n",
       "105     child  \n",
       "106     child  \n",
       "107     child  \n",
       "108     child  \n",
       "109     child  \n",
       "110     child  \n",
       "111     child  \n",
       "112     child  \n",
       "113     child  \n",
       "114     child  \n",
       "115     child  \n",
       "116     child  \n",
       "117     child  \n",
       "118     child  \n",
       "119     child  \n",
       "120     child  \n",
       "121     child  \n",
       "122     child  \n",
       "123     child  \n",
       "124     child  \n",
       "125     child  \n",
       "126     child  \n",
       "127     child  \n",
       "128     child  \n",
       "129     child  \n",
       "130     child  \n",
       "131     child  \n",
       "132     child  \n",
       "133     child  \n",
       "134     child  \n",
       "135     child  \n",
       "136     child  \n",
       "137     child  \n",
       "138     child  \n",
       "139     child  \n",
       "140     child  \n",
       "141     child  \n",
       "142     child  \n",
       "143     child  \n",
       "144     child  \n",
       "145     child  \n",
       "146     child  \n",
       "147     child  \n",
       "148     child  \n",
       "149     child  \n",
       "150     child  \n",
       "151     child  \n",
       "152     child  \n",
       "153     child  \n",
       "154     adult  \n",
       "155     adult  \n",
       "156     adult  \n",
       "157     adult  \n",
       "158     adult  \n",
       "159     adult  \n",
       "160     adult  \n",
       "161     adult  \n",
       "162     adult  \n",
       "163     adult  \n",
       "164     adult  \n",
       "165     adult  \n",
       "166     adult  \n",
       "167     adult  \n",
       "168     adult  \n",
       "169     adult  \n",
       "170     adult  \n",
       "171     adult  "
      ]
     },
     "execution_count": 14,
     "metadata": {},
     "output_type": "execute_result"
    }
   ],
   "source": [
    "updated_df"
   ]
  },
  {
   "cell_type": "code",
   "execution_count": 9,
   "metadata": {},
   "outputs": [
    {
     "name": "stderr",
     "output_type": "stream",
     "text": [
      "  0%|          | 0/171 [00:00<?, ?it/s]"
     ]
    },
    {
     "name": "stdout",
     "output_type": "stream",
     "text": [
      "\n",
      "0: 384x640 1 person, 1 face, 72.6ms\n",
      "Speed: 10.0ms preprocess, 72.6ms inference, 192.5ms postprocess per image at shape (1, 3, 384, 640)\n",
      "\n",
      "0: 640x640 adult_face 1.00, child_face 0.00, 16.5ms\n",
      "Speed: 27.9ms preprocess, 16.5ms inference, 0.1ms postprocess per image at shape (1, 3, 640, 640)\n"
     ]
    },
    {
     "name": "stderr",
     "output_type": "stream",
     "text": [
      "  1%|          | 1/171 [00:02<06:38,  2.34s/it]"
     ]
    },
    {
     "name": "stdout",
     "output_type": "stream",
     "text": [
      "\n",
      "0: 384x640 2 faces, 17.7ms\n",
      "Speed: 3.6ms preprocess, 17.7ms inference, 2.2ms postprocess per image at shape (1, 3, 384, 640)\n",
      "\n",
      "0: 640x640 adult_face 0.84, child_face 0.16, 19.2ms\n",
      "Speed: 24.7ms preprocess, 19.2ms inference, 0.1ms postprocess per image at shape (1, 3, 640, 640)\n",
      "\n",
      "0: 640x640 adult_face 0.98, child_face 0.02, 19.2ms\n",
      "Speed: 14.4ms preprocess, 19.2ms inference, 0.1ms postprocess per image at shape (1, 3, 640, 640)\n"
     ]
    },
    {
     "name": "stderr",
     "output_type": "stream",
     "text": [
      "  1%|          | 2/171 [00:02<03:02,  1.08s/it]"
     ]
    },
    {
     "name": "stdout",
     "output_type": "stream",
     "text": [
      "\n",
      "0: 384x640 1 person, 1 face, 1 child body parts, 13.3ms\n",
      "Speed: 2.3ms preprocess, 13.3ms inference, 1.6ms postprocess per image at shape (1, 3, 384, 640)\n",
      "\n",
      "0: 640x640 adult_face 0.73, child_face 0.27, 19.2ms\n",
      "Speed: 13.0ms preprocess, 19.2ms inference, 0.1ms postprocess per image at shape (1, 3, 640, 640)\n"
     ]
    },
    {
     "name": "stderr",
     "output_type": "stream",
     "text": [
      "  2%|▏         | 3/171 [00:02<01:47,  1.56it/s]"
     ]
    },
    {
     "name": "stdout",
     "output_type": "stream",
     "text": [
      "\n",
      "0: 384x640 2 persons, 2 faces, 16.1ms\n",
      "Speed: 4.9ms preprocess, 16.1ms inference, 1.7ms postprocess per image at shape (1, 3, 384, 640)\n",
      "\n",
      "0: 640x640 child_face 0.59, adult_face 0.41, 19.2ms\n",
      "Speed: 16.9ms preprocess, 19.2ms inference, 0.1ms postprocess per image at shape (1, 3, 640, 640)\n",
      "\n",
      "0: 640x640 adult_face 1.00, child_face 0.00, 19.2ms\n",
      "Speed: 13.2ms preprocess, 19.2ms inference, 0.1ms postprocess per image at shape (1, 3, 640, 640)\n"
     ]
    },
    {
     "name": "stderr",
     "output_type": "stream",
     "text": [
      "  2%|▏         | 4/171 [00:02<01:16,  2.17it/s]"
     ]
    },
    {
     "name": "stdout",
     "output_type": "stream",
     "text": [
      "\n",
      "0: 384x640 2 persons, 3 faces, 1 child body parts, 11.1ms\n",
      "Speed: 1.8ms preprocess, 11.1ms inference, 1.3ms postprocess per image at shape (1, 3, 384, 640)\n",
      "\n",
      "0: 640x640 adult_face 0.69, child_face 0.31, 19.1ms\n",
      "Speed: 12.7ms preprocess, 19.1ms inference, 0.1ms postprocess per image at shape (1, 3, 640, 640)\n",
      "\n",
      "0: 640x640 adult_face 0.82, child_face 0.18, 19.1ms\n",
      "Speed: 13.6ms preprocess, 19.1ms inference, 0.1ms postprocess per image at shape (1, 3, 640, 640)\n",
      "\n",
      "0: 640x640 adult_face 0.91, child_face 0.09, 19.1ms\n",
      "Speed: 12.1ms preprocess, 19.1ms inference, 0.1ms postprocess per image at shape (1, 3, 640, 640)\n"
     ]
    },
    {
     "name": "stderr",
     "output_type": "stream",
     "text": [
      "  3%|▎         | 5/171 [00:03<01:00,  2.72it/s]"
     ]
    },
    {
     "name": "stdout",
     "output_type": "stream",
     "text": [
      "\n",
      "0: 384x640 2 persons, 2 faces, 13.5ms\n",
      "Speed: 2.3ms preprocess, 13.5ms inference, 1.6ms postprocess per image at shape (1, 3, 384, 640)\n",
      "\n",
      "0: 640x640 adult_face 0.90, child_face 0.10, 19.2ms\n",
      "Speed: 13.5ms preprocess, 19.2ms inference, 0.1ms postprocess per image at shape (1, 3, 640, 640)\n",
      "\n",
      "0: 640x640 child_face 0.50, adult_face 0.50, 19.2ms\n",
      "Speed: 12.1ms preprocess, 19.2ms inference, 0.1ms postprocess per image at shape (1, 3, 640, 640)\n"
     ]
    },
    {
     "name": "stderr",
     "output_type": "stream",
     "text": [
      "  4%|▎         | 6/171 [00:03<00:49,  3.35it/s]"
     ]
    },
    {
     "name": "stdout",
     "output_type": "stream",
     "text": [
      "\n",
      "0: 384x640 4 persons, 4 faces, 13.3ms\n",
      "Speed: 2.3ms preprocess, 13.3ms inference, 1.6ms postprocess per image at shape (1, 3, 384, 640)\n",
      "\n",
      "0: 640x640 adult_face 1.00, child_face 0.00, 19.2ms\n",
      "Speed: 12.8ms preprocess, 19.2ms inference, 0.1ms postprocess per image at shape (1, 3, 640, 640)\n",
      "\n",
      "0: 640x640 child_face 1.00, adult_face 0.00, 19.2ms\n",
      "Speed: 12.3ms preprocess, 19.2ms inference, 0.1ms postprocess per image at shape (1, 3, 640, 640)\n",
      "\n",
      "0: 640x640 adult_face 0.83, child_face 0.17, 19.2ms\n",
      "Speed: 12.5ms preprocess, 19.2ms inference, 0.1ms postprocess per image at shape (1, 3, 640, 640)\n",
      "\n",
      "0: 640x640 adult_face 0.73, child_face 0.27, 19.2ms\n",
      "Speed: 12.5ms preprocess, 19.2ms inference, 0.1ms postprocess per image at shape (1, 3, 640, 640)\n"
     ]
    },
    {
     "name": "stderr",
     "output_type": "stream",
     "text": [
      "  4%|▍         | 7/171 [00:03<00:44,  3.67it/s]"
     ]
    },
    {
     "name": "stdout",
     "output_type": "stream",
     "text": [
      "\n",
      "0: 384x640 1 person, 1 face, 14.1ms\n",
      "Speed: 1.8ms preprocess, 14.1ms inference, 1.7ms postprocess per image at shape (1, 3, 384, 640)\n",
      "\n",
      "0: 640x640 adult_face 0.76, child_face 0.24, 19.2ms\n",
      "Speed: 12.3ms preprocess, 19.2ms inference, 0.1ms postprocess per image at shape (1, 3, 640, 640)\n"
     ]
    },
    {
     "name": "stderr",
     "output_type": "stream",
     "text": [
      "  5%|▍         | 8/171 [00:03<00:37,  4.39it/s]"
     ]
    },
    {
     "name": "stdout",
     "output_type": "stream",
     "text": [
      "\n",
      "0: 384x640 1 face, 1 child body parts, 11.1ms\n",
      "Speed: 2.4ms preprocess, 11.1ms inference, 1.3ms postprocess per image at shape (1, 3, 384, 640)\n",
      "\n",
      "0: 640x640 child_face 0.73, adult_face 0.27, 19.2ms\n",
      "Speed: 11.9ms preprocess, 19.2ms inference, 0.1ms postprocess per image at shape (1, 3, 640, 640)\n"
     ]
    },
    {
     "name": "stderr",
     "output_type": "stream",
     "text": [
      "  5%|▌         | 9/171 [00:03<00:31,  5.14it/s]"
     ]
    },
    {
     "name": "stdout",
     "output_type": "stream",
     "text": [
      "\n",
      "0: 384x640 1 person, 1 face, 13.4ms\n",
      "Speed: 2.3ms preprocess, 13.4ms inference, 1.6ms postprocess per image at shape (1, 3, 384, 640)\n",
      "\n",
      "0: 640x640 adult_face 0.71, child_face 0.29, 19.2ms\n",
      "Speed: 12.7ms preprocess, 19.2ms inference, 0.1ms postprocess per image at shape (1, 3, 640, 640)\n"
     ]
    },
    {
     "name": "stderr",
     "output_type": "stream",
     "text": [
      "  6%|▌         | 10/171 [00:03<00:28,  5.67it/s]"
     ]
    },
    {
     "name": "stdout",
     "output_type": "stream",
     "text": [
      "\n",
      "0: 384x640 1 person, 1 face, 13.4ms\n",
      "Speed: 2.3ms preprocess, 13.4ms inference, 1.6ms postprocess per image at shape (1, 3, 384, 640)\n",
      "\n",
      "0: 640x640 adult_face 0.97, child_face 0.03, 19.2ms\n",
      "Speed: 14.8ms preprocess, 19.2ms inference, 0.1ms postprocess per image at shape (1, 3, 640, 640)\n"
     ]
    },
    {
     "name": "stderr",
     "output_type": "stream",
     "text": [
      "  6%|▋         | 11/171 [00:03<00:25,  6.21it/s]"
     ]
    },
    {
     "name": "stdout",
     "output_type": "stream",
     "text": [
      "\n",
      "0: 384x640 2 persons, 2 faces, 11.1ms\n",
      "Speed: 2.3ms preprocess, 11.1ms inference, 1.3ms postprocess per image at shape (1, 3, 384, 640)\n",
      "\n",
      "0: 640x640 adult_face 1.00, child_face 0.00, 19.1ms\n",
      "Speed: 14.8ms preprocess, 19.1ms inference, 0.1ms postprocess per image at shape (1, 3, 640, 640)\n",
      "\n",
      "0: 640x640 adult_face 0.99, child_face 0.01, 19.1ms\n",
      "Speed: 12.9ms preprocess, 19.1ms inference, 0.1ms postprocess per image at shape (1, 3, 640, 640)\n"
     ]
    },
    {
     "name": "stderr",
     "output_type": "stream",
     "text": [
      "  7%|▋         | 12/171 [00:04<00:26,  6.09it/s]"
     ]
    },
    {
     "name": "stdout",
     "output_type": "stream",
     "text": [
      "\n",
      "0: 384x640 2 persons, 3 faces, 10.9ms\n",
      "Speed: 1.7ms preprocess, 10.9ms inference, 1.3ms postprocess per image at shape (1, 3, 384, 640)\n",
      "\n",
      "0: 640x640 child_face 0.57, adult_face 0.43, 19.2ms\n",
      "Speed: 13.5ms preprocess, 19.2ms inference, 0.1ms postprocess per image at shape (1, 3, 640, 640)\n",
      "\n",
      "0: 640x640 adult_face 0.96, child_face 0.04, 19.2ms\n",
      "Speed: 13.6ms preprocess, 19.2ms inference, 0.1ms postprocess per image at shape (1, 3, 640, 640)\n",
      "\n",
      "0: 640x640 adult_face 0.74, child_face 0.26, 19.1ms\n",
      "Speed: 12.6ms preprocess, 19.1ms inference, 0.1ms postprocess per image at shape (1, 3, 640, 640)\n"
     ]
    },
    {
     "name": "stderr",
     "output_type": "stream",
     "text": [
      "  8%|▊         | 13/171 [00:04<00:26,  6.03it/s]"
     ]
    },
    {
     "name": "stdout",
     "output_type": "stream",
     "text": [
      "\n",
      "0: 384x640 1 person, 1 face, 11.1ms\n",
      "Speed: 2.3ms preprocess, 11.1ms inference, 1.3ms postprocess per image at shape (1, 3, 384, 640)\n",
      "\n",
      "0: 640x640 adult_face 1.00, child_face 0.00, 19.2ms\n",
      "Speed: 12.8ms preprocess, 19.2ms inference, 0.1ms postprocess per image at shape (1, 3, 640, 640)\n"
     ]
    },
    {
     "name": "stderr",
     "output_type": "stream",
     "text": [
      "  8%|▊         | 14/171 [00:04<00:24,  6.52it/s]"
     ]
    },
    {
     "name": "stdout",
     "output_type": "stream",
     "text": [
      "\n",
      "0: 384x640 4 persons, 2 faces, 11.3ms\n",
      "Speed: 2.3ms preprocess, 11.3ms inference, 1.3ms postprocess per image at shape (1, 3, 384, 640)\n",
      "\n",
      "0: 640x640 adult_face 1.00, child_face 0.00, 19.2ms\n",
      "Speed: 12.5ms preprocess, 19.2ms inference, 0.1ms postprocess per image at shape (1, 3, 640, 640)\n",
      "\n",
      "0: 640x640 child_face 1.00, adult_face 0.00, 19.1ms\n",
      "Speed: 14.0ms preprocess, 19.1ms inference, 0.1ms postprocess per image at shape (1, 3, 640, 640)\n"
     ]
    },
    {
     "name": "stderr",
     "output_type": "stream",
     "text": [
      "  9%|▉         | 15/171 [00:04<00:24,  6.39it/s]"
     ]
    },
    {
     "name": "stdout",
     "output_type": "stream",
     "text": [
      "\n",
      "0: 384x640 2 persons, 2 faces, 13.5ms\n",
      "Speed: 2.3ms preprocess, 13.5ms inference, 1.3ms postprocess per image at shape (1, 3, 384, 640)\n",
      "\n",
      "0: 640x640 adult_face 1.00, child_face 0.00, 19.1ms\n",
      "Speed: 14.4ms preprocess, 19.1ms inference, 0.1ms postprocess per image at shape (1, 3, 640, 640)\n",
      "\n",
      "0: 640x640 adult_face 0.98, child_face 0.02, 19.2ms\n",
      "Speed: 13.0ms preprocess, 19.2ms inference, 0.1ms postprocess per image at shape (1, 3, 640, 640)\n"
     ]
    },
    {
     "name": "stderr",
     "output_type": "stream",
     "text": [
      "  9%|▉         | 16/171 [00:04<00:25,  6.16it/s]"
     ]
    },
    {
     "name": "stdout",
     "output_type": "stream",
     "text": [
      "\n",
      "0: 384x640 2 persons, 11.2ms\n",
      "Speed: 1.8ms preprocess, 11.2ms inference, 1.3ms postprocess per image at shape (1, 3, 384, 640)\n"
     ]
    },
    {
     "name": "stderr",
     "output_type": "stream",
     "text": [
      " 10%|▉         | 17/171 [00:04<00:22,  6.94it/s]"
     ]
    },
    {
     "name": "stdout",
     "output_type": "stream",
     "text": [
      "\n",
      "0: 384x640 1 person, 1 face, 11.3ms\n",
      "Speed: 2.3ms preprocess, 11.3ms inference, 1.3ms postprocess per image at shape (1, 3, 384, 640)\n",
      "\n",
      "0: 640x640 child_face 1.00, adult_face 0.00, 19.2ms\n",
      "Speed: 14.0ms preprocess, 19.2ms inference, 0.1ms postprocess per image at shape (1, 3, 640, 640)\n"
     ]
    },
    {
     "name": "stderr",
     "output_type": "stream",
     "text": [
      " 11%|█         | 18/171 [00:04<00:20,  7.32it/s]"
     ]
    },
    {
     "name": "stdout",
     "output_type": "stream",
     "text": [
      "\n",
      "0: 384x640 1 person, 1 face, 1 child body parts, 11.4ms\n",
      "Speed: 2.3ms preprocess, 11.4ms inference, 1.3ms postprocess per image at shape (1, 3, 384, 640)\n",
      "\n",
      "0: 640x640 adult_face 0.97, child_face 0.03, 19.1ms\n",
      "Speed: 12.8ms preprocess, 19.1ms inference, 0.1ms postprocess per image at shape (1, 3, 640, 640)\n"
     ]
    },
    {
     "name": "stderr",
     "output_type": "stream",
     "text": [
      " 11%|█         | 19/171 [00:05<00:20,  7.48it/s]"
     ]
    },
    {
     "name": "stdout",
     "output_type": "stream",
     "text": [
      "\n",
      "0: 384x640 1 person, 1 face, 1 child body parts, 11.3ms\n",
      "Speed: 2.3ms preprocess, 11.3ms inference, 1.4ms postprocess per image at shape (1, 3, 384, 640)\n",
      "\n",
      "0: 640x640 adult_face 0.89, child_face 0.11, 19.1ms\n",
      "Speed: 14.8ms preprocess, 19.1ms inference, 0.1ms postprocess per image at shape (1, 3, 640, 640)\n"
     ]
    },
    {
     "name": "stderr",
     "output_type": "stream",
     "text": [
      " 12%|█▏        | 20/171 [00:05<00:19,  7.81it/s]"
     ]
    },
    {
     "name": "stdout",
     "output_type": "stream",
     "text": [
      "\n",
      "0: 384x640 3 persons, 2 faces, 11.3ms\n",
      "Speed: 2.2ms preprocess, 11.3ms inference, 1.3ms postprocess per image at shape (1, 3, 384, 640)\n",
      "\n",
      "0: 640x640 adult_face 0.66, child_face 0.34, 19.1ms\n",
      "Speed: 15.0ms preprocess, 19.1ms inference, 0.1ms postprocess per image at shape (1, 3, 640, 640)\n",
      "\n",
      "0: 640x640 adult_face 0.66, child_face 0.34, 19.2ms\n",
      "Speed: 12.1ms preprocess, 19.2ms inference, 0.1ms postprocess per image at shape (1, 3, 640, 640)\n"
     ]
    },
    {
     "name": "stderr",
     "output_type": "stream",
     "text": [
      " 12%|█▏        | 21/171 [00:05<00:18,  8.12it/s]"
     ]
    },
    {
     "name": "stdout",
     "output_type": "stream",
     "text": [
      "\n",
      "0: 384x640 1 person, 1 face, 11.2ms\n",
      "Speed: 2.3ms preprocess, 11.2ms inference, 1.3ms postprocess per image at shape (1, 3, 384, 640)\n",
      "\n",
      "0: 640x640 adult_face 1.00, child_face 0.00, 19.1ms\n",
      "Speed: 13.1ms preprocess, 19.1ms inference, 0.1ms postprocess per image at shape (1, 3, 640, 640)\n"
     ]
    },
    {
     "name": "stderr",
     "output_type": "stream",
     "text": [
      " 13%|█▎        | 22/171 [00:05<00:18,  8.15it/s]"
     ]
    },
    {
     "name": "stdout",
     "output_type": "stream",
     "text": [
      "\n",
      "0: 384x640 1 person, 1 face, 1 child body parts, 11.2ms\n",
      "Speed: 2.3ms preprocess, 11.2ms inference, 1.3ms postprocess per image at shape (1, 3, 384, 640)\n",
      "\n",
      "0: 640x640 adult_face 1.00, child_face 0.00, 19.2ms\n",
      "Speed: 13.1ms preprocess, 19.2ms inference, 0.1ms postprocess per image at shape (1, 3, 640, 640)\n"
     ]
    },
    {
     "name": "stderr",
     "output_type": "stream",
     "text": [
      " 13%|█▎        | 23/171 [00:05<00:17,  8.44it/s]"
     ]
    },
    {
     "name": "stdout",
     "output_type": "stream",
     "text": [
      "\n",
      "0: 384x640 2 persons, 1 face, 1 child body parts, 11.1ms\n",
      "Speed: 2.3ms preprocess, 11.1ms inference, 1.3ms postprocess per image at shape (1, 3, 384, 640)\n",
      "\n",
      "0: 640x640 adult_face 0.57, child_face 0.43, 19.1ms\n",
      "Speed: 11.6ms preprocess, 19.1ms inference, 0.1ms postprocess per image at shape (1, 3, 640, 640)\n"
     ]
    },
    {
     "name": "stderr",
     "output_type": "stream",
     "text": [
      " 14%|█▍        | 24/171 [00:05<00:17,  8.54it/s]"
     ]
    },
    {
     "name": "stdout",
     "output_type": "stream",
     "text": [
      "\n",
      "0: 384x640 1 person, 1 face, 13.7ms\n",
      "Speed: 1.8ms preprocess, 13.7ms inference, 1.6ms postprocess per image at shape (1, 3, 384, 640)\n",
      "\n",
      "0: 640x640 child_face 0.70, adult_face 0.30, 19.2ms\n",
      "Speed: 13.8ms preprocess, 19.2ms inference, 0.1ms postprocess per image at shape (1, 3, 640, 640)\n"
     ]
    },
    {
     "name": "stderr",
     "output_type": "stream",
     "text": [
      " 15%|█▍        | 25/171 [00:05<00:16,  8.60it/s]"
     ]
    },
    {
     "name": "stdout",
     "output_type": "stream",
     "text": [
      "\n",
      "0: 384x640 3 persons, 3 faces, 11.2ms\n",
      "Speed: 2.3ms preprocess, 11.2ms inference, 1.3ms postprocess per image at shape (1, 3, 384, 640)\n",
      "\n",
      "0: 640x640 child_face 1.00, adult_face 0.00, 19.1ms\n",
      "Speed: 14.5ms preprocess, 19.1ms inference, 0.1ms postprocess per image at shape (1, 3, 640, 640)\n",
      "\n",
      "0: 640x640 adult_face 1.00, child_face 0.00, 19.2ms\n",
      "Speed: 13.2ms preprocess, 19.2ms inference, 0.1ms postprocess per image at shape (1, 3, 640, 640)\n",
      "\n",
      "0: 640x640 child_face 1.00, adult_face 0.00, 19.2ms\n",
      "Speed: 13.4ms preprocess, 19.2ms inference, 0.1ms postprocess per image at shape (1, 3, 640, 640)\n"
     ]
    },
    {
     "name": "stderr",
     "output_type": "stream",
     "text": [
      " 15%|█▌        | 26/171 [00:05<00:20,  7.03it/s]"
     ]
    },
    {
     "name": "stdout",
     "output_type": "stream",
     "text": [
      "\n",
      "0: 384x640 1 person, 1 face, 12.4ms\n",
      "Speed: 2.3ms preprocess, 12.4ms inference, 1.3ms postprocess per image at shape (1, 3, 384, 640)\n",
      "\n",
      "0: 640x640 adult_face 0.61, child_face 0.39, 19.2ms\n",
      "Speed: 11.8ms preprocess, 19.2ms inference, 0.1ms postprocess per image at shape (1, 3, 640, 640)\n"
     ]
    },
    {
     "name": "stderr",
     "output_type": "stream",
     "text": [
      " 16%|█▌        | 27/171 [00:06<00:19,  7.22it/s]"
     ]
    },
    {
     "name": "stdout",
     "output_type": "stream",
     "text": [
      "\n",
      "0: 384x640 1 person, 11.2ms\n",
      "Speed: 2.3ms preprocess, 11.2ms inference, 1.5ms postprocess per image at shape (1, 3, 384, 640)\n"
     ]
    },
    {
     "name": "stderr",
     "output_type": "stream",
     "text": [
      " 16%|█▋        | 28/171 [00:06<00:18,  7.87it/s]"
     ]
    },
    {
     "name": "stdout",
     "output_type": "stream",
     "text": [
      "\n",
      "0: 384x640 2 persons, 1 face, 11.3ms\n",
      "Speed: 3.4ms preprocess, 11.3ms inference, 1.3ms postprocess per image at shape (1, 3, 384, 640)\n",
      "\n",
      "0: 640x640 adult_face 0.51, child_face 0.49, 19.2ms\n",
      "Speed: 13.8ms preprocess, 19.2ms inference, 0.1ms postprocess per image at shape (1, 3, 640, 640)\n"
     ]
    },
    {
     "name": "stderr",
     "output_type": "stream",
     "text": [
      " 17%|█▋        | 29/171 [00:07<01:11,  1.98it/s]"
     ]
    },
    {
     "name": "stdout",
     "output_type": "stream",
     "text": [
      "\n",
      "0: 384x640 2 persons, 1 face, 11.6ms\n",
      "Speed: 2.4ms preprocess, 11.6ms inference, 1.3ms postprocess per image at shape (1, 3, 384, 640)\n",
      "\n",
      "0: 640x640 child_face 0.58, adult_face 0.42, 19.1ms\n",
      "Speed: 14.5ms preprocess, 19.1ms inference, 0.1ms postprocess per image at shape (1, 3, 640, 640)\n"
     ]
    },
    {
     "name": "stderr",
     "output_type": "stream",
     "text": [
      " 18%|█▊        | 30/171 [00:07<00:54,  2.59it/s]"
     ]
    },
    {
     "name": "stdout",
     "output_type": "stream",
     "text": [
      "\n",
      "0: 384x640 3 persons, 4 faces, 11.4ms\n",
      "Speed: 2.3ms preprocess, 11.4ms inference, 1.5ms postprocess per image at shape (1, 3, 384, 640)\n",
      "\n",
      "0: 640x640 child_face 0.77, adult_face 0.23, 19.2ms\n",
      "Speed: 15.5ms preprocess, 19.2ms inference, 0.1ms postprocess per image at shape (1, 3, 640, 640)\n",
      "\n",
      "0: 640x640 child_face 0.59, adult_face 0.41, 19.2ms\n",
      "Speed: 14.1ms preprocess, 19.2ms inference, 0.1ms postprocess per image at shape (1, 3, 640, 640)\n",
      "\n",
      "0: 640x640 adult_face 0.73, child_face 0.27, 19.2ms\n",
      "Speed: 12.9ms preprocess, 19.2ms inference, 0.1ms postprocess per image at shape (1, 3, 640, 640)\n",
      "\n",
      "0: 640x640 child_face 0.56, adult_face 0.44, 19.2ms\n",
      "Speed: 16.4ms preprocess, 19.2ms inference, 0.1ms postprocess per image at shape (1, 3, 640, 640)\n"
     ]
    },
    {
     "name": "stderr",
     "output_type": "stream",
     "text": [
      " 18%|█▊        | 31/171 [00:07<00:46,  2.98it/s]"
     ]
    },
    {
     "name": "stdout",
     "output_type": "stream",
     "text": [
      "\n",
      "0: 384x640 2 persons, 1 face, 12.0ms\n",
      "Speed: 1.9ms preprocess, 12.0ms inference, 1.4ms postprocess per image at shape (1, 3, 384, 640)\n",
      "\n",
      "0: 640x640 child_face 0.58, adult_face 0.42, 18.0ms\n",
      "Speed: 12.4ms preprocess, 18.0ms inference, 0.1ms postprocess per image at shape (1, 3, 640, 640)\n"
     ]
    },
    {
     "name": "stderr",
     "output_type": "stream",
     "text": [
      " 19%|█▊        | 32/171 [00:08<00:36,  3.76it/s]"
     ]
    },
    {
     "name": "stdout",
     "output_type": "stream",
     "text": [
      "\n",
      "0: 384x640 1 person, 1 face, 12.7ms\n",
      "Speed: 2.5ms preprocess, 12.7ms inference, 1.5ms postprocess per image at shape (1, 3, 384, 640)\n",
      "\n",
      "0: 640x640 adult_face 1.00, child_face 0.00, 17.6ms\n",
      "Speed: 15.6ms preprocess, 17.6ms inference, 0.1ms postprocess per image at shape (1, 3, 640, 640)\n"
     ]
    },
    {
     "name": "stderr",
     "output_type": "stream",
     "text": [
      " 19%|█▉        | 33/171 [00:08<00:31,  4.33it/s]"
     ]
    },
    {
     "name": "stdout",
     "output_type": "stream",
     "text": [
      "\n",
      "0: 384x640 1 person, 1 child body parts, 13.0ms\n",
      "Speed: 2.7ms preprocess, 13.0ms inference, 1.5ms postprocess per image at shape (1, 3, 384, 640)\n",
      "\n",
      "0: 384x640 1 person, 15.5ms\n",
      "Speed: 6.1ms preprocess, 15.5ms inference, 1.4ms postprocess per image at shape (1, 3, 384, 640)\n"
     ]
    },
    {
     "name": "stderr",
     "output_type": "stream",
     "text": [
      " 20%|██        | 35/171 [00:08<00:21,  6.23it/s]"
     ]
    },
    {
     "name": "stdout",
     "output_type": "stream",
     "text": [
      "\n",
      "0: 384x640 1 person, 1 child body parts, 12.8ms\n",
      "Speed: 2.5ms preprocess, 12.8ms inference, 1.4ms postprocess per image at shape (1, 3, 384, 640)\n"
     ]
    },
    {
     "name": "stderr",
     "output_type": "stream",
     "text": [
      " 21%|██        | 36/171 [00:08<00:19,  6.82it/s]"
     ]
    },
    {
     "name": "stdout",
     "output_type": "stream",
     "text": [
      "\n",
      "0: 384x640 2 persons, 1 face, 12.4ms\n",
      "Speed: 2.1ms preprocess, 12.4ms inference, 1.4ms postprocess per image at shape (1, 3, 384, 640)\n",
      "\n",
      "0: 640x640 adult_face 0.92, child_face 0.08, 17.6ms\n",
      "Speed: 13.1ms preprocess, 17.6ms inference, 0.1ms postprocess per image at shape (1, 3, 640, 640)\n"
     ]
    },
    {
     "name": "stderr",
     "output_type": "stream",
     "text": [
      " 22%|██▏       | 37/171 [00:08<00:18,  7.17it/s]"
     ]
    },
    {
     "name": "stdout",
     "output_type": "stream",
     "text": [
      "\n",
      "0: 384x640 2 persons, 2 faces, 11.2ms\n",
      "Speed: 2.3ms preprocess, 11.2ms inference, 1.3ms postprocess per image at shape (1, 3, 384, 640)\n",
      "\n",
      "0: 640x640 adult_face 1.00, child_face 0.00, 17.5ms\n",
      "Speed: 13.6ms preprocess, 17.5ms inference, 0.1ms postprocess per image at shape (1, 3, 640, 640)\n",
      "\n",
      "0: 640x640 child_face 0.82, adult_face 0.18, 17.6ms\n",
      "Speed: 12.3ms preprocess, 17.6ms inference, 0.1ms postprocess per image at shape (1, 3, 640, 640)\n"
     ]
    },
    {
     "name": "stderr",
     "output_type": "stream",
     "text": [
      " 22%|██▏       | 38/171 [00:08<00:19,  6.83it/s]"
     ]
    },
    {
     "name": "stdout",
     "output_type": "stream",
     "text": [
      "\n",
      "0: 384x640 2 persons, 11.0ms\n",
      "Speed: 1.7ms preprocess, 11.0ms inference, 1.2ms postprocess per image at shape (1, 3, 384, 640)\n",
      "\n",
      "0: 384x640 4 persons, 3 faces, 11.0ms\n",
      "Speed: 2.3ms preprocess, 11.0ms inference, 1.3ms postprocess per image at shape (1, 3, 384, 640)\n",
      "\n",
      "0: 640x640 child_face 0.56, adult_face 0.44, 17.6ms\n",
      "Speed: 14.0ms preprocess, 17.6ms inference, 0.1ms postprocess per image at shape (1, 3, 640, 640)\n",
      "\n",
      "0: 640x640 child_face 0.80, adult_face 0.20, 17.6ms\n",
      "Speed: 17.0ms preprocess, 17.6ms inference, 0.1ms postprocess per image at shape (1, 3, 640, 640)\n",
      "\n",
      "0: 640x640 adult_face 1.00, child_face 0.00, 17.6ms\n",
      "Speed: 12.2ms preprocess, 17.6ms inference, 0.1ms postprocess per image at shape (1, 3, 640, 640)\n"
     ]
    },
    {
     "name": "stderr",
     "output_type": "stream",
     "text": [
      " 23%|██▎       | 40/171 [00:08<00:17,  7.64it/s]"
     ]
    },
    {
     "name": "stdout",
     "output_type": "stream",
     "text": [
      "\n",
      "0: 384x640 1 person, 1 face, 1 child body parts, 11.1ms\n",
      "Speed: 2.3ms preprocess, 11.1ms inference, 1.3ms postprocess per image at shape (1, 3, 384, 640)\n",
      "\n",
      "0: 640x640 adult_face 0.77, child_face 0.23, 17.6ms\n",
      "Speed: 15.4ms preprocess, 17.6ms inference, 0.1ms postprocess per image at shape (1, 3, 640, 640)\n"
     ]
    },
    {
     "name": "stderr",
     "output_type": "stream",
     "text": [
      " 24%|██▍       | 41/171 [00:09<00:17,  7.57it/s]"
     ]
    },
    {
     "name": "stdout",
     "output_type": "stream",
     "text": [
      "\n",
      "0: 384x640 1 person, 1 face, 1 child body parts, 11.1ms\n",
      "Speed: 2.2ms preprocess, 11.1ms inference, 1.3ms postprocess per image at shape (1, 3, 384, 640)\n",
      "\n",
      "0: 640x640 adult_face 1.00, child_face 0.00, 17.6ms\n",
      "Speed: 14.4ms preprocess, 17.6ms inference, 0.1ms postprocess per image at shape (1, 3, 640, 640)\n"
     ]
    },
    {
     "name": "stderr",
     "output_type": "stream",
     "text": [
      " 25%|██▍       | 42/171 [00:09<00:16,  7.99it/s]"
     ]
    },
    {
     "name": "stdout",
     "output_type": "stream",
     "text": [
      "\n",
      "0: 384x640 1 person, 1 face, 11.0ms\n",
      "Speed: 2.3ms preprocess, 11.0ms inference, 1.2ms postprocess per image at shape (1, 3, 384, 640)\n",
      "\n",
      "0: 640x640 adult_face 1.00, child_face 0.00, 17.6ms\n",
      "Speed: 13.1ms preprocess, 17.6ms inference, 0.1ms postprocess per image at shape (1, 3, 640, 640)\n"
     ]
    },
    {
     "name": "stderr",
     "output_type": "stream",
     "text": [
      " 25%|██▌       | 43/171 [00:09<00:15,  8.13it/s]"
     ]
    },
    {
     "name": "stdout",
     "output_type": "stream",
     "text": [
      "\n",
      "0: 384x640 3 persons, 2 faces, 1 child body parts, 11.1ms\n",
      "Speed: 2.3ms preprocess, 11.1ms inference, 1.2ms postprocess per image at shape (1, 3, 384, 640)\n",
      "\n",
      "0: 640x640 adult_face 0.96, child_face 0.04, 17.6ms\n",
      "Speed: 11.6ms preprocess, 17.6ms inference, 0.1ms postprocess per image at shape (1, 3, 640, 640)\n",
      "\n",
      "0: 640x640 child_face 0.73, adult_face 0.27, 17.6ms\n",
      "Speed: 12.2ms preprocess, 17.6ms inference, 0.1ms postprocess per image at shape (1, 3, 640, 640)\n"
     ]
    },
    {
     "name": "stderr",
     "output_type": "stream",
     "text": [
      " 26%|██▌       | 44/171 [00:09<00:16,  7.55it/s]"
     ]
    },
    {
     "name": "stdout",
     "output_type": "stream",
     "text": [
      "\n",
      "0: 384x640 2 persons, 2 faces, 10.9ms\n",
      "Speed: 2.3ms preprocess, 10.9ms inference, 1.2ms postprocess per image at shape (1, 3, 384, 640)\n",
      "\n",
      "0: 640x640 child_face 0.59, adult_face 0.41, 17.6ms\n",
      "Speed: 15.3ms preprocess, 17.6ms inference, 0.1ms postprocess per image at shape (1, 3, 640, 640)\n",
      "\n",
      "0: 640x640 child_face 1.00, adult_face 0.00, 17.6ms\n",
      "Speed: 13.6ms preprocess, 17.6ms inference, 0.1ms postprocess per image at shape (1, 3, 640, 640)\n"
     ]
    },
    {
     "name": "stderr",
     "output_type": "stream",
     "text": [
      " 26%|██▋       | 45/171 [00:09<00:17,  7.40it/s]"
     ]
    },
    {
     "name": "stdout",
     "output_type": "stream",
     "text": [
      "\n",
      "0: 384x640 3 persons, 2 faces, 12.1ms\n",
      "Speed: 2.2ms preprocess, 12.1ms inference, 1.3ms postprocess per image at shape (1, 3, 384, 640)\n",
      "\n",
      "0: 640x640 adult_face 1.00, child_face 0.00, 17.6ms\n",
      "Speed: 12.2ms preprocess, 17.6ms inference, 0.1ms postprocess per image at shape (1, 3, 640, 640)\n",
      "\n",
      "0: 640x640 adult_face 0.95, child_face 0.05, 17.6ms\n",
      "Speed: 11.9ms preprocess, 17.6ms inference, 0.1ms postprocess per image at shape (1, 3, 640, 640)\n"
     ]
    },
    {
     "name": "stderr",
     "output_type": "stream",
     "text": [
      " 27%|██▋       | 46/171 [00:09<00:16,  7.63it/s]"
     ]
    },
    {
     "name": "stdout",
     "output_type": "stream",
     "text": [
      "\n",
      "0: 384x640 1 person, 1 face, 10.9ms\n",
      "Speed: 2.3ms preprocess, 10.9ms inference, 1.2ms postprocess per image at shape (1, 3, 384, 640)\n",
      "\n",
      "0: 640x640 child_face 0.56, adult_face 0.44, 17.6ms\n",
      "Speed: 12.6ms preprocess, 17.6ms inference, 0.1ms postprocess per image at shape (1, 3, 640, 640)\n",
      "\n",
      "0: 384x640 2 persons, 2 faces, 11.0ms\n",
      "Speed: 2.2ms preprocess, 11.0ms inference, 1.3ms postprocess per image at shape (1, 3, 384, 640)\n",
      "\n",
      "0: 640x640 adult_face 0.87, child_face 0.13, 17.2ms\n",
      "Speed: 12.0ms preprocess, 17.2ms inference, 0.1ms postprocess per image at shape (1, 3, 640, 640)\n",
      "\n",
      "0: 640x640 child_face 0.92, adult_face 0.08, 17.2ms\n",
      "Speed: 14.1ms preprocess, 17.2ms inference, 0.1ms postprocess per image at shape (1, 3, 640, 640)\n"
     ]
    },
    {
     "name": "stderr",
     "output_type": "stream",
     "text": [
      " 28%|██▊       | 48/171 [00:09<00:16,  7.54it/s]"
     ]
    },
    {
     "name": "stdout",
     "output_type": "stream",
     "text": [
      "\n",
      "0: 384x640 1 person, 1 face, 1 child body parts, 11.0ms\n",
      "Speed: 2.3ms preprocess, 11.0ms inference, 1.3ms postprocess per image at shape (1, 3, 384, 640)\n",
      "\n",
      "0: 640x640 adult_face 0.99, child_face 0.01, 17.3ms\n",
      "Speed: 13.1ms preprocess, 17.3ms inference, 0.1ms postprocess per image at shape (1, 3, 640, 640)\n"
     ]
    },
    {
     "name": "stderr",
     "output_type": "stream",
     "text": [
      " 29%|██▊       | 49/171 [00:10<00:16,  7.59it/s]"
     ]
    },
    {
     "name": "stdout",
     "output_type": "stream",
     "text": [
      "\n",
      "0: 384x640 1 person, 1 face, 11.0ms\n",
      "Speed: 2.3ms preprocess, 11.0ms inference, 1.3ms postprocess per image at shape (1, 3, 384, 640)\n",
      "\n",
      "0: 640x640 adult_face 0.79, child_face 0.21, 17.2ms\n",
      "Speed: 11.7ms preprocess, 17.2ms inference, 0.1ms postprocess per image at shape (1, 3, 640, 640)\n"
     ]
    },
    {
     "name": "stderr",
     "output_type": "stream",
     "text": [
      " 29%|██▉       | 50/171 [00:10<00:16,  7.54it/s]"
     ]
    },
    {
     "name": "stdout",
     "output_type": "stream",
     "text": [
      "\n",
      "0: 384x640 1 person, 2 faces, 11.0ms\n",
      "Speed: 2.3ms preprocess, 11.0ms inference, 1.2ms postprocess per image at shape (1, 3, 384, 640)\n",
      "\n",
      "0: 640x640 adult_face 0.89, child_face 0.11, 17.3ms\n",
      "Speed: 12.1ms preprocess, 17.3ms inference, 0.1ms postprocess per image at shape (1, 3, 640, 640)\n",
      "\n",
      "0: 640x640 adult_face 0.80, child_face 0.20, 17.3ms\n",
      "Speed: 11.8ms preprocess, 17.3ms inference, 0.1ms postprocess per image at shape (1, 3, 640, 640)\n"
     ]
    },
    {
     "name": "stderr",
     "output_type": "stream",
     "text": [
      " 30%|██▉       | 51/171 [00:10<00:15,  7.63it/s]"
     ]
    },
    {
     "name": "stdout",
     "output_type": "stream",
     "text": [
      "\n",
      "0: 384x640 2 persons, 1 face, 11.0ms\n",
      "Speed: 2.2ms preprocess, 11.0ms inference, 1.3ms postprocess per image at shape (1, 3, 384, 640)\n",
      "\n",
      "0: 640x640 adult_face 0.80, child_face 0.20, 17.2ms\n",
      "Speed: 13.5ms preprocess, 17.2ms inference, 0.1ms postprocess per image at shape (1, 3, 640, 640)\n"
     ]
    },
    {
     "name": "stderr",
     "output_type": "stream",
     "text": [
      " 30%|███       | 52/171 [00:10<00:15,  7.91it/s]"
     ]
    },
    {
     "name": "stdout",
     "output_type": "stream",
     "text": [
      "\n",
      "0: 384x640 1 person, 1 face, 1 child body parts, 11.1ms\n",
      "Speed: 1.7ms preprocess, 11.1ms inference, 1.3ms postprocess per image at shape (1, 3, 384, 640)\n",
      "\n",
      "0: 640x640 adult_face 0.54, child_face 0.46, 17.3ms\n",
      "Speed: 12.6ms preprocess, 17.3ms inference, 0.1ms postprocess per image at shape (1, 3, 640, 640)\n",
      "\n",
      "0: 384x640 3 persons, 3 faces, 11.1ms\n",
      "Speed: 2.2ms preprocess, 11.1ms inference, 1.3ms postprocess per image at shape (1, 3, 384, 640)\n",
      "\n",
      "0: 640x640 child_face 1.00, adult_face 0.00, 17.3ms\n",
      "Speed: 14.0ms preprocess, 17.3ms inference, 0.1ms postprocess per image at shape (1, 3, 640, 640)\n",
      "\n",
      "0: 640x640 adult_face 0.69, child_face 0.31, 17.2ms\n",
      "Speed: 12.3ms preprocess, 17.2ms inference, 0.1ms postprocess per image at shape (1, 3, 640, 640)\n",
      "\n",
      "0: 640x640 child_face 0.52, adult_face 0.48, 17.2ms\n",
      "Speed: 12.5ms preprocess, 17.2ms inference, 0.1ms postprocess per image at shape (1, 3, 640, 640)\n"
     ]
    },
    {
     "name": "stderr",
     "output_type": "stream",
     "text": [
      " 32%|███▏      | 54/171 [00:10<00:14,  7.96it/s]"
     ]
    },
    {
     "name": "stdout",
     "output_type": "stream",
     "text": [
      "\n",
      "0: 384x640 1 person, 11.1ms\n",
      "Speed: 2.3ms preprocess, 11.1ms inference, 1.2ms postprocess per image at shape (1, 3, 384, 640)\n",
      "\n",
      "0: 384x640 1 person, 1 face, 11.2ms\n",
      "Speed: 2.2ms preprocess, 11.2ms inference, 1.2ms postprocess per image at shape (1, 3, 384, 640)\n",
      "\n",
      "0: 640x640 child_face 0.57, adult_face 0.43, 17.2ms\n",
      "Speed: 19.5ms preprocess, 17.2ms inference, 0.1ms postprocess per image at shape (1, 3, 640, 640)\n"
     ]
    },
    {
     "name": "stderr",
     "output_type": "stream",
     "text": [
      " 33%|███▎      | 56/171 [00:10<00:13,  8.42it/s]"
     ]
    },
    {
     "name": "stdout",
     "output_type": "stream",
     "text": [
      "\n",
      "0: 384x640 1 person, 1 face, 1 child body parts, 11.0ms\n",
      "Speed: 2.3ms preprocess, 11.0ms inference, 1.2ms postprocess per image at shape (1, 3, 384, 640)\n",
      "\n",
      "0: 640x640 adult_face 0.93, child_face 0.07, 17.3ms\n",
      "Speed: 13.6ms preprocess, 17.3ms inference, 0.1ms postprocess per image at shape (1, 3, 640, 640)\n"
     ]
    },
    {
     "name": "stderr",
     "output_type": "stream",
     "text": [
      " 33%|███▎      | 57/171 [00:11<00:13,  8.64it/s]"
     ]
    },
    {
     "name": "stdout",
     "output_type": "stream",
     "text": [
      "\n",
      "0: 384x640 1 person, 1 face, 1 child body parts, 11.1ms\n",
      "Speed: 2.3ms preprocess, 11.1ms inference, 1.2ms postprocess per image at shape (1, 3, 384, 640)\n",
      "\n",
      "0: 640x640 adult_face 0.71, child_face 0.29, 17.3ms\n",
      "Speed: 13.3ms preprocess, 17.3ms inference, 0.1ms postprocess per image at shape (1, 3, 640, 640)\n"
     ]
    },
    {
     "name": "stderr",
     "output_type": "stream",
     "text": [
      " 34%|███▍      | 58/171 [00:11<00:13,  8.63it/s]"
     ]
    },
    {
     "name": "stdout",
     "output_type": "stream",
     "text": [
      "\n",
      "0: 384x640 4 persons, 4 faces, 11.1ms\n",
      "Speed: 2.2ms preprocess, 11.1ms inference, 1.2ms postprocess per image at shape (1, 3, 384, 640)\n",
      "\n",
      "0: 640x640 child_face 0.94, adult_face 0.06, 17.3ms\n",
      "Speed: 13.0ms preprocess, 17.3ms inference, 0.1ms postprocess per image at shape (1, 3, 640, 640)\n",
      "\n",
      "0: 640x640 adult_face 1.00, child_face 0.00, 17.3ms\n",
      "Speed: 14.1ms preprocess, 17.3ms inference, 0.1ms postprocess per image at shape (1, 3, 640, 640)\n",
      "\n",
      "0: 640x640 child_face 1.00, adult_face 0.00, 17.3ms\n",
      "Speed: 16.6ms preprocess, 17.3ms inference, 0.1ms postprocess per image at shape (1, 3, 640, 640)\n",
      "\n",
      "0: 640x640 child_face 0.95, adult_face 0.05, 17.3ms\n",
      "Speed: 14.6ms preprocess, 17.3ms inference, 0.1ms postprocess per image at shape (1, 3, 640, 640)\n"
     ]
    },
    {
     "name": "stderr",
     "output_type": "stream",
     "text": [
      " 35%|███▍      | 59/171 [00:11<00:15,  7.19it/s]"
     ]
    },
    {
     "name": "stdout",
     "output_type": "stream",
     "text": [
      "\n",
      "0: 384x640 1 person, 12.2ms\n",
      "Speed: 2.3ms preprocess, 12.2ms inference, 1.6ms postprocess per image at shape (1, 3, 384, 640)\n",
      "\n",
      "0: 384x640 1 person, 2 faces, 1 child body parts, 11.1ms\n",
      "Speed: 2.3ms preprocess, 11.1ms inference, 1.3ms postprocess per image at shape (1, 3, 384, 640)\n",
      "\n",
      "0: 640x640 adult_face 0.96, child_face 0.04, 18.8ms\n",
      "Speed: 12.9ms preprocess, 18.8ms inference, 0.1ms postprocess per image at shape (1, 3, 640, 640)\n",
      "\n",
      "0: 640x640 adult_face 0.95, child_face 0.05, 19.2ms\n",
      "Speed: 12.4ms preprocess, 19.2ms inference, 0.1ms postprocess per image at shape (1, 3, 640, 640)\n"
     ]
    },
    {
     "name": "stderr",
     "output_type": "stream",
     "text": [
      " 36%|███▌      | 61/171 [00:11<00:13,  8.22it/s]"
     ]
    },
    {
     "name": "stdout",
     "output_type": "stream",
     "text": [
      "\n",
      "0: 384x640 1 person, 1 face, 1 child body parts, 11.0ms\n",
      "Speed: 1.8ms preprocess, 11.0ms inference, 1.3ms postprocess per image at shape (1, 3, 384, 640)\n",
      "\n",
      "0: 640x640 adult_face 0.84, child_face 0.16, 18.7ms\n",
      "Speed: 11.9ms preprocess, 18.7ms inference, 0.1ms postprocess per image at shape (1, 3, 640, 640)\n"
     ]
    },
    {
     "name": "stderr",
     "output_type": "stream",
     "text": [
      " 36%|███▋      | 62/171 [00:11<00:13,  8.37it/s]"
     ]
    },
    {
     "name": "stdout",
     "output_type": "stream",
     "text": [
      "\n",
      "0: 384x640 1 person, 1 face, 11.9ms\n",
      "Speed: 2.3ms preprocess, 11.9ms inference, 1.3ms postprocess per image at shape (1, 3, 384, 640)\n",
      "\n",
      "0: 640x640 adult_face 1.00, child_face 0.00, 19.3ms\n",
      "Speed: 18.0ms preprocess, 19.3ms inference, 0.1ms postprocess per image at shape (1, 3, 640, 640)\n"
     ]
    },
    {
     "name": "stderr",
     "output_type": "stream",
     "text": [
      " 37%|███▋      | 63/171 [00:11<00:13,  7.93it/s]"
     ]
    },
    {
     "name": "stdout",
     "output_type": "stream",
     "text": [
      "\n",
      "0: 384x640 1 person, 1 face, 1 child body parts, 11.3ms\n",
      "Speed: 2.3ms preprocess, 11.3ms inference, 1.3ms postprocess per image at shape (1, 3, 384, 640)\n",
      "\n",
      "0: 640x640 adult_face 0.58, child_face 0.42, 19.4ms\n",
      "Speed: 12.7ms preprocess, 19.4ms inference, 0.1ms postprocess per image at shape (1, 3, 640, 640)\n"
     ]
    },
    {
     "name": "stderr",
     "output_type": "stream",
     "text": [
      " 37%|███▋      | 64/171 [00:11<00:12,  8.34it/s]"
     ]
    },
    {
     "name": "stdout",
     "output_type": "stream",
     "text": [
      "\n",
      "0: 384x640 1 person, 1 face, 1 child body parts, 11.2ms\n",
      "Speed: 2.3ms preprocess, 11.2ms inference, 1.3ms postprocess per image at shape (1, 3, 384, 640)\n",
      "\n",
      "0: 640x640 adult_face 1.00, child_face 0.00, 19.2ms\n",
      "Speed: 13.2ms preprocess, 19.2ms inference, 0.1ms postprocess per image at shape (1, 3, 640, 640)\n"
     ]
    },
    {
     "name": "stderr",
     "output_type": "stream",
     "text": [
      " 38%|███▊      | 65/171 [00:12<00:12,  8.39it/s]"
     ]
    },
    {
     "name": "stdout",
     "output_type": "stream",
     "text": [
      "\n",
      "0: 384x640 1 person, 1 face, 11.2ms\n",
      "Speed: 2.3ms preprocess, 11.2ms inference, 1.3ms postprocess per image at shape (1, 3, 384, 640)\n",
      "\n",
      "0: 640x640 adult_face 0.74, child_face 0.26, 19.2ms\n",
      "Speed: 12.9ms preprocess, 19.2ms inference, 0.1ms postprocess per image at shape (1, 3, 640, 640)\n"
     ]
    },
    {
     "name": "stderr",
     "output_type": "stream",
     "text": [
      " 39%|███▊      | 66/171 [00:12<00:12,  8.48it/s]"
     ]
    },
    {
     "name": "stdout",
     "output_type": "stream",
     "text": [
      "\n",
      "0: 384x640 3 persons, 2 faces, 1 child body parts, 11.2ms\n",
      "Speed: 2.3ms preprocess, 11.2ms inference, 1.3ms postprocess per image at shape (1, 3, 384, 640)\n",
      "\n",
      "0: 640x640 child_face 0.58, adult_face 0.42, 19.2ms\n",
      "Speed: 14.0ms preprocess, 19.2ms inference, 0.1ms postprocess per image at shape (1, 3, 640, 640)\n",
      "\n",
      "0: 640x640 child_face 0.75, adult_face 0.25, 19.2ms\n",
      "Speed: 12.6ms preprocess, 19.2ms inference, 0.1ms postprocess per image at shape (1, 3, 640, 640)\n"
     ]
    },
    {
     "name": "stderr",
     "output_type": "stream",
     "text": [
      " 39%|███▉      | 67/171 [00:12<00:13,  7.73it/s]"
     ]
    },
    {
     "name": "stdout",
     "output_type": "stream",
     "text": [
      "\n",
      "0: 384x640 2 persons, 1 face, 11.4ms\n",
      "Speed: 2.3ms preprocess, 11.4ms inference, 1.4ms postprocess per image at shape (1, 3, 384, 640)\n",
      "\n",
      "0: 640x640 adult_face 0.73, child_face 0.27, 19.2ms\n",
      "Speed: 13.3ms preprocess, 19.2ms inference, 0.1ms postprocess per image at shape (1, 3, 640, 640)\n"
     ]
    },
    {
     "name": "stderr",
     "output_type": "stream",
     "text": [
      " 40%|███▉      | 68/171 [00:12<00:12,  8.07it/s]"
     ]
    },
    {
     "name": "stdout",
     "output_type": "stream",
     "text": [
      "\n",
      "0: 384x640 2 persons, 1 face, 1 child body parts, 11.2ms\n",
      "Speed: 2.3ms preprocess, 11.2ms inference, 1.3ms postprocess per image at shape (1, 3, 384, 640)\n",
      "\n",
      "0: 640x640 adult_face 0.80, child_face 0.20, 19.1ms\n",
      "Speed: 13.5ms preprocess, 19.1ms inference, 0.1ms postprocess per image at shape (1, 3, 640, 640)\n"
     ]
    },
    {
     "name": "stderr",
     "output_type": "stream",
     "text": [
      " 40%|████      | 69/171 [00:12<00:12,  8.40it/s]"
     ]
    },
    {
     "name": "stdout",
     "output_type": "stream",
     "text": [
      "\n",
      "0: 384x640 1 person, 1 face, 11.2ms\n",
      "Speed: 1.8ms preprocess, 11.2ms inference, 1.3ms postprocess per image at shape (1, 3, 384, 640)\n",
      "\n",
      "0: 640x640 child_face 0.58, adult_face 0.42, 19.2ms\n",
      "Speed: 12.0ms preprocess, 19.2ms inference, 0.1ms postprocess per image at shape (1, 3, 640, 640)\n"
     ]
    },
    {
     "name": "stderr",
     "output_type": "stream",
     "text": [
      " 41%|████      | 70/171 [00:12<00:11,  8.53it/s]"
     ]
    },
    {
     "name": "stdout",
     "output_type": "stream",
     "text": [
      "\n",
      "0: 384x640 1 person, 1 face, 1 child body parts, 11.2ms\n",
      "Speed: 2.3ms preprocess, 11.2ms inference, 1.3ms postprocess per image at shape (1, 3, 384, 640)\n",
      "\n",
      "0: 640x640 adult_face 0.92, child_face 0.08, 19.2ms\n",
      "Speed: 13.8ms preprocess, 19.2ms inference, 0.1ms postprocess per image at shape (1, 3, 640, 640)\n",
      "\n",
      "0: 384x640 1 person, 1 face, 11.3ms\n",
      "Speed: 2.3ms preprocess, 11.3ms inference, 1.3ms postprocess per image at shape (1, 3, 384, 640)\n",
      "\n",
      "0: 640x640 adult_face 1.00, child_face 0.00, 19.2ms\n",
      "Speed: 13.6ms preprocess, 19.2ms inference, 0.1ms postprocess per image at shape (1, 3, 640, 640)\n"
     ]
    },
    {
     "name": "stderr",
     "output_type": "stream",
     "text": [
      " 42%|████▏     | 72/171 [00:12<00:11,  8.99it/s]"
     ]
    },
    {
     "name": "stdout",
     "output_type": "stream",
     "text": [
      "\n",
      "0: 384x640 1 person, 1 face, 11.3ms\n",
      "Speed: 2.3ms preprocess, 11.3ms inference, 1.3ms postprocess per image at shape (1, 3, 384, 640)\n",
      "\n",
      "0: 640x640 adult_face 1.00, child_face 0.00, 19.2ms\n",
      "Speed: 18.0ms preprocess, 19.2ms inference, 0.1ms postprocess per image at shape (1, 3, 640, 640)\n"
     ]
    },
    {
     "name": "stderr",
     "output_type": "stream",
     "text": [
      " 43%|████▎     | 73/171 [00:13<00:11,  8.59it/s]"
     ]
    },
    {
     "name": "stdout",
     "output_type": "stream",
     "text": [
      "\n",
      "0: 384x640 1 person, 1 face, 11.0ms\n",
      "Speed: 1.7ms preprocess, 11.0ms inference, 1.2ms postprocess per image at shape (1, 3, 384, 640)\n",
      "\n",
      "0: 640x640 adult_face 0.83, child_face 0.17, 19.2ms\n",
      "Speed: 12.0ms preprocess, 19.2ms inference, 0.1ms postprocess per image at shape (1, 3, 640, 640)\n",
      "\n",
      "0: 384x640 3 persons, 1 face, 11.0ms\n",
      "Speed: 2.2ms preprocess, 11.0ms inference, 1.3ms postprocess per image at shape (1, 3, 384, 640)\n",
      "\n",
      "0: 640x640 adult_face 0.99, child_face 0.01, 19.2ms\n",
      "Speed: 20.1ms preprocess, 19.2ms inference, 0.1ms postprocess per image at shape (1, 3, 640, 640)\n"
     ]
    },
    {
     "name": "stderr",
     "output_type": "stream",
     "text": [
      " 44%|████▍     | 75/171 [00:13<00:10,  9.05it/s]"
     ]
    },
    {
     "name": "stdout",
     "output_type": "stream",
     "text": [
      "\n",
      "0: 384x640 1 person, 1 face, 2 child body partss, 11.1ms\n",
      "Speed: 1.8ms preprocess, 11.1ms inference, 1.3ms postprocess per image at shape (1, 3, 384, 640)\n",
      "\n",
      "0: 640x640 adult_face 0.96, child_face 0.04, 19.2ms\n",
      "Speed: 11.7ms preprocess, 19.2ms inference, 0.1ms postprocess per image at shape (1, 3, 640, 640)\n"
     ]
    },
    {
     "name": "stderr",
     "output_type": "stream",
     "text": [
      " 44%|████▍     | 76/171 [00:13<00:10,  9.21it/s]"
     ]
    },
    {
     "name": "stdout",
     "output_type": "stream",
     "text": [
      "\n",
      "0: 384x640 3 persons, 2 faces, 13.6ms\n",
      "Speed: 1.7ms preprocess, 13.6ms inference, 1.3ms postprocess per image at shape (1, 3, 384, 640)\n",
      "\n",
      "0: 640x640 child_face 0.79, adult_face 0.21, 19.2ms\n",
      "Speed: 13.1ms preprocess, 19.2ms inference, 0.1ms postprocess per image at shape (1, 3, 640, 640)\n",
      "\n",
      "0: 640x640 adult_face 0.68, child_face 0.32, 19.2ms\n",
      "Speed: 12.3ms preprocess, 19.2ms inference, 0.1ms postprocess per image at shape (1, 3, 640, 640)\n"
     ]
    },
    {
     "name": "stderr",
     "output_type": "stream",
     "text": [
      " 45%|████▌     | 77/171 [00:13<00:10,  8.66it/s]"
     ]
    },
    {
     "name": "stdout",
     "output_type": "stream",
     "text": [
      "\n",
      "0: 384x640 1 face, 2 child body partss, 11.2ms\n",
      "Speed: 2.2ms preprocess, 11.2ms inference, 1.3ms postprocess per image at shape (1, 3, 384, 640)\n",
      "\n",
      "0: 640x640 child_face 0.99, adult_face 0.01, 19.2ms\n",
      "Speed: 12.3ms preprocess, 19.2ms inference, 0.1ms postprocess per image at shape (1, 3, 640, 640)\n"
     ]
    },
    {
     "name": "stderr",
     "output_type": "stream",
     "text": [
      " 46%|████▌     | 78/171 [00:13<00:10,  8.80it/s]"
     ]
    },
    {
     "name": "stdout",
     "output_type": "stream",
     "text": [
      "\n",
      "0: 384x640 1 face, 1 child body parts, 11.0ms\n",
      "Speed: 2.3ms preprocess, 11.0ms inference, 1.3ms postprocess per image at shape (1, 3, 384, 640)\n",
      "\n",
      "0: 640x640 child_face 0.98, adult_face 0.02, 19.2ms\n",
      "Speed: 14.8ms preprocess, 19.2ms inference, 0.1ms postprocess per image at shape (1, 3, 640, 640)\n"
     ]
    },
    {
     "name": "stderr",
     "output_type": "stream",
     "text": [
      " 46%|████▌     | 79/171 [00:13<00:11,  8.07it/s]"
     ]
    },
    {
     "name": "stdout",
     "output_type": "stream",
     "text": [
      "\n",
      "0: 384x640 2 persons, 1 face, 11.2ms\n",
      "Speed: 2.4ms preprocess, 11.2ms inference, 1.3ms postprocess per image at shape (1, 3, 384, 640)\n",
      "\n",
      "0: 640x640 child_face 0.75, adult_face 0.25, 19.1ms\n",
      "Speed: 11.9ms preprocess, 19.1ms inference, 0.1ms postprocess per image at shape (1, 3, 640, 640)\n"
     ]
    },
    {
     "name": "stderr",
     "output_type": "stream",
     "text": [
      " 47%|████▋     | 80/171 [00:13<00:10,  8.35it/s]"
     ]
    },
    {
     "name": "stdout",
     "output_type": "stream",
     "text": [
      "\n",
      "0: 384x640 1 person, 1 child body parts, 16.8ms\n",
      "Speed: 2.3ms preprocess, 16.8ms inference, 1.3ms postprocess per image at shape (1, 3, 384, 640)\n"
     ]
    },
    {
     "name": "stderr",
     "output_type": "stream",
     "text": [
      " 47%|████▋     | 81/171 [00:13<00:10,  8.65it/s]"
     ]
    },
    {
     "name": "stdout",
     "output_type": "stream",
     "text": [
      "\n",
      "0: 384x640 1 person, 1 face, 11.2ms\n",
      "Speed: 2.3ms preprocess, 11.2ms inference, 1.3ms postprocess per image at shape (1, 3, 384, 640)\n",
      "\n",
      "0: 640x640 adult_face 0.96, child_face 0.04, 19.1ms\n",
      "Speed: 14.1ms preprocess, 19.1ms inference, 0.1ms postprocess per image at shape (1, 3, 640, 640)\n"
     ]
    },
    {
     "name": "stderr",
     "output_type": "stream",
     "text": [
      " 48%|████▊     | 82/171 [00:14<00:10,  8.52it/s]"
     ]
    },
    {
     "name": "stdout",
     "output_type": "stream",
     "text": [
      "\n",
      "0: 384x640 1 person, 1 face, 1 child body parts, 11.2ms\n",
      "Speed: 2.3ms preprocess, 11.2ms inference, 1.3ms postprocess per image at shape (1, 3, 384, 640)\n",
      "\n",
      "0: 640x640 child_face 1.00, adult_face 0.00, 19.1ms\n",
      "Speed: 15.7ms preprocess, 19.1ms inference, 0.1ms postprocess per image at shape (1, 3, 640, 640)\n"
     ]
    },
    {
     "name": "stderr",
     "output_type": "stream",
     "text": [
      " 49%|████▊     | 83/171 [00:14<00:10,  8.31it/s]"
     ]
    },
    {
     "name": "stdout",
     "output_type": "stream",
     "text": [
      "\n",
      "0: 384x640 2 persons, 11.1ms\n",
      "Speed: 2.2ms preprocess, 11.1ms inference, 1.2ms postprocess per image at shape (1, 3, 384, 640)\n",
      "\n",
      "0: 384x640 2 persons, 1 face, 1 child body parts, 11.0ms\n",
      "Speed: 2.2ms preprocess, 11.0ms inference, 1.2ms postprocess per image at shape (1, 3, 384, 640)\n",
      "\n",
      "0: 640x640 child_face 0.66, adult_face 0.34, 19.1ms\n",
      "Speed: 29.8ms preprocess, 19.1ms inference, 0.1ms postprocess per image at shape (1, 3, 640, 640)\n"
     ]
    },
    {
     "name": "stderr",
     "output_type": "stream",
     "text": [
      " 50%|████▉     | 85/171 [00:14<00:09,  9.22it/s]"
     ]
    },
    {
     "name": "stdout",
     "output_type": "stream",
     "text": [
      "\n",
      "0: 384x640 3 persons, 3 faces, 11.0ms\n",
      "Speed: 2.2ms preprocess, 11.0ms inference, 1.3ms postprocess per image at shape (1, 3, 384, 640)\n",
      "\n",
      "0: 640x640 child_face 0.97, adult_face 0.03, 19.2ms\n",
      "Speed: 15.6ms preprocess, 19.2ms inference, 0.1ms postprocess per image at shape (1, 3, 640, 640)\n",
      "\n",
      "0: 640x640 child_face 1.00, adult_face 0.00, 19.1ms\n",
      "Speed: 17.2ms preprocess, 19.1ms inference, 0.1ms postprocess per image at shape (1, 3, 640, 640)\n",
      "\n",
      "0: 640x640 adult_face 1.00, child_face 0.00, 19.1ms\n",
      "Speed: 12.6ms preprocess, 19.1ms inference, 0.1ms postprocess per image at shape (1, 3, 640, 640)\n"
     ]
    },
    {
     "name": "stderr",
     "output_type": "stream",
     "text": [
      " 50%|█████     | 86/171 [00:14<00:10,  8.00it/s]"
     ]
    },
    {
     "name": "stdout",
     "output_type": "stream",
     "text": [
      "\n",
      "0: 384x640 1 face, 1 child body parts, 11.1ms\n",
      "Speed: 2.2ms preprocess, 11.1ms inference, 1.3ms postprocess per image at shape (1, 3, 384, 640)\n",
      "\n",
      "0: 640x640 child_face 0.99, adult_face 0.01, 17.6ms\n",
      "Speed: 13.6ms preprocess, 17.6ms inference, 0.1ms postprocess per image at shape (1, 3, 640, 640)\n"
     ]
    },
    {
     "name": "stderr",
     "output_type": "stream",
     "text": [
      " 51%|█████     | 87/171 [00:14<00:10,  8.04it/s]"
     ]
    },
    {
     "name": "stdout",
     "output_type": "stream",
     "text": [
      "\n",
      "0: 384x640 1 person, 1 face, 1 child body parts, 11.0ms\n",
      "Speed: 1.9ms preprocess, 11.0ms inference, 1.2ms postprocess per image at shape (1, 3, 384, 640)\n",
      "\n",
      "0: 640x640 adult_face 0.63, child_face 0.37, 17.6ms\n",
      "Speed: 12.7ms preprocess, 17.6ms inference, 0.1ms postprocess per image at shape (1, 3, 640, 640)\n",
      "\n",
      "0: 384x640 2 persons, 1 face, 11.1ms\n",
      "Speed: 2.2ms preprocess, 11.1ms inference, 1.2ms postprocess per image at shape (1, 3, 384, 640)\n",
      "\n",
      "0: 640x640 child_face 1.00, adult_face 0.00, 17.6ms\n",
      "Speed: 14.5ms preprocess, 17.6ms inference, 0.1ms postprocess per image at shape (1, 3, 640, 640)\n"
     ]
    },
    {
     "name": "stderr",
     "output_type": "stream",
     "text": [
      " 52%|█████▏    | 89/171 [00:14<00:09,  8.88it/s]"
     ]
    },
    {
     "name": "stdout",
     "output_type": "stream",
     "text": [
      "\n",
      "0: 384x640 1 person, 1 face, 11.1ms\n",
      "Speed: 2.3ms preprocess, 11.1ms inference, 1.3ms postprocess per image at shape (1, 3, 384, 640)\n",
      "\n",
      "0: 640x640 child_face 1.00, adult_face 0.00, 17.5ms\n",
      "Speed: 15.0ms preprocess, 17.5ms inference, 0.1ms postprocess per image at shape (1, 3, 640, 640)\n",
      "\n",
      "0: 384x640 1 person, 1 face, 1 child body parts, 11.0ms\n",
      "Speed: 1.8ms preprocess, 11.0ms inference, 1.2ms postprocess per image at shape (1, 3, 384, 640)\n",
      "\n",
      "0: 640x640 child_face 1.00, adult_face 0.00, 17.6ms\n",
      "Speed: 12.1ms preprocess, 17.6ms inference, 0.1ms postprocess per image at shape (1, 3, 640, 640)\n"
     ]
    },
    {
     "name": "stderr",
     "output_type": "stream",
     "text": [
      " 53%|█████▎    | 91/171 [00:15<00:08,  9.04it/s]"
     ]
    },
    {
     "name": "stdout",
     "output_type": "stream",
     "text": [
      "\n",
      "0: 384x640 2 persons, 2 faces, 11.0ms\n",
      "Speed: 2.2ms preprocess, 11.0ms inference, 1.2ms postprocess per image at shape (1, 3, 384, 640)\n",
      "\n",
      "0: 640x640 child_face 1.00, adult_face 0.00, 17.6ms\n",
      "Speed: 15.0ms preprocess, 17.6ms inference, 0.1ms postprocess per image at shape (1, 3, 640, 640)\n",
      "\n",
      "0: 640x640 adult_face 1.00, child_face 0.00, 17.6ms\n",
      "Speed: 13.6ms preprocess, 17.6ms inference, 0.1ms postprocess per image at shape (1, 3, 640, 640)\n"
     ]
    },
    {
     "name": "stderr",
     "output_type": "stream",
     "text": [
      " 54%|█████▍    | 92/171 [00:15<00:08,  9.02it/s]"
     ]
    },
    {
     "name": "stdout",
     "output_type": "stream",
     "text": [
      "\n",
      "0: 384x640 1 face, 11.0ms\n",
      "Speed: 2.3ms preprocess, 11.0ms inference, 1.2ms postprocess per image at shape (1, 3, 384, 640)\n",
      "\n",
      "0: 640x640 child_face 0.99, adult_face 0.01, 17.6ms\n",
      "Speed: 13.6ms preprocess, 17.6ms inference, 0.1ms postprocess per image at shape (1, 3, 640, 640)\n"
     ]
    },
    {
     "name": "stderr",
     "output_type": "stream",
     "text": [
      " 54%|█████▍    | 93/171 [00:15<00:08,  8.81it/s]"
     ]
    },
    {
     "name": "stdout",
     "output_type": "stream",
     "text": [
      "\n",
      "0: 384x640 1 person, 1 face, 11.0ms\n",
      "Speed: 2.2ms preprocess, 11.0ms inference, 1.2ms postprocess per image at shape (1, 3, 384, 640)\n",
      "\n",
      "0: 640x640 child_face 0.60, adult_face 0.40, 17.6ms\n",
      "Speed: 12.3ms preprocess, 17.6ms inference, 0.1ms postprocess per image at shape (1, 3, 640, 640)\n"
     ]
    },
    {
     "name": "stderr",
     "output_type": "stream",
     "text": [
      " 55%|█████▍    | 94/171 [00:15<00:08,  9.01it/s]"
     ]
    },
    {
     "name": "stdout",
     "output_type": "stream",
     "text": [
      "\n",
      "0: 384x640 1 person, 1 face, 1 child body parts, 11.0ms\n",
      "Speed: 2.3ms preprocess, 11.0ms inference, 1.2ms postprocess per image at shape (1, 3, 384, 640)\n",
      "\n",
      "0: 640x640 child_face 1.00, adult_face 0.00, 17.6ms\n",
      "Speed: 14.3ms preprocess, 17.6ms inference, 0.1ms postprocess per image at shape (1, 3, 640, 640)\n"
     ]
    },
    {
     "name": "stderr",
     "output_type": "stream",
     "text": [
      " 56%|█████▌    | 95/171 [00:15<00:08,  8.88it/s]"
     ]
    },
    {
     "name": "stdout",
     "output_type": "stream",
     "text": [
      "\n",
      "0: 384x640 3 persons, 2 faces, 11.0ms\n",
      "Speed: 2.3ms preprocess, 11.0ms inference, 1.3ms postprocess per image at shape (1, 3, 384, 640)\n",
      "\n",
      "0: 640x640 child_face 1.00, adult_face 0.00, 17.6ms\n",
      "Speed: 14.1ms preprocess, 17.6ms inference, 0.1ms postprocess per image at shape (1, 3, 640, 640)\n",
      "\n",
      "0: 640x640 adult_face 0.57, child_face 0.43, 17.6ms\n",
      "Speed: 18.3ms preprocess, 17.6ms inference, 0.1ms postprocess per image at shape (1, 3, 640, 640)\n"
     ]
    },
    {
     "name": "stderr",
     "output_type": "stream",
     "text": [
      " 56%|█████▌    | 96/171 [00:15<00:09,  7.93it/s]"
     ]
    },
    {
     "name": "stdout",
     "output_type": "stream",
     "text": [
      "\n",
      "0: 384x640 2 persons, 1 face, 11.1ms\n",
      "Speed: 2.3ms preprocess, 11.1ms inference, 1.3ms postprocess per image at shape (1, 3, 384, 640)\n",
      "\n",
      "0: 640x640 adult_face 0.91, child_face 0.09, 17.6ms\n",
      "Speed: 14.1ms preprocess, 17.6ms inference, 0.1ms postprocess per image at shape (1, 3, 640, 640)\n"
     ]
    },
    {
     "name": "stderr",
     "output_type": "stream",
     "text": [
      " 57%|█████▋    | 97/171 [00:15<00:09,  8.22it/s]"
     ]
    },
    {
     "name": "stdout",
     "output_type": "stream",
     "text": [
      "\n",
      "0: 384x640 1 person, 1 face, 1 child body parts, 11.1ms\n",
      "Speed: 2.2ms preprocess, 11.1ms inference, 1.2ms postprocess per image at shape (1, 3, 384, 640)\n",
      "\n",
      "0: 640x640 child_face 1.00, adult_face 0.00, 17.6ms\n",
      "Speed: 16.1ms preprocess, 17.6ms inference, 0.1ms postprocess per image at shape (1, 3, 640, 640)\n",
      "\n",
      "0: 384x640 2 persons, 2 faces, 10.8ms\n",
      "Speed: 2.2ms preprocess, 10.8ms inference, 1.2ms postprocess per image at shape (1, 3, 384, 640)\n",
      "\n",
      "0: 640x640 child_face 1.00, adult_face 0.00, 17.6ms\n",
      "Speed: 15.6ms preprocess, 17.6ms inference, 0.1ms postprocess per image at shape (1, 3, 640, 640)\n",
      "\n",
      "0: 640x640 adult_face 0.97, child_face 0.03, 17.6ms\n",
      "Speed: 14.9ms preprocess, 17.6ms inference, 0.1ms postprocess per image at shape (1, 3, 640, 640)\n"
     ]
    },
    {
     "name": "stderr",
     "output_type": "stream",
     "text": [
      " 58%|█████▊    | 99/171 [00:16<00:08,  8.59it/s]"
     ]
    },
    {
     "name": "stdout",
     "output_type": "stream",
     "text": [
      "\n",
      "0: 384x640 1 person, 1 face, 1 child body parts, 11.1ms\n",
      "Speed: 1.8ms preprocess, 11.1ms inference, 1.3ms postprocess per image at shape (1, 3, 384, 640)\n",
      "\n",
      "0: 640x640 child_face 1.00, adult_face 0.00, 17.6ms\n",
      "Speed: 12.6ms preprocess, 17.6ms inference, 0.1ms postprocess per image at shape (1, 3, 640, 640)\n"
     ]
    },
    {
     "name": "stderr",
     "output_type": "stream",
     "text": [
      " 58%|█████▊    | 100/171 [00:16<00:08,  8.51it/s]"
     ]
    },
    {
     "name": "stdout",
     "output_type": "stream",
     "text": [
      "\n",
      "0: 384x640 1 person, 1 child body parts, 14.3ms\n",
      "Speed: 2.3ms preprocess, 14.3ms inference, 1.3ms postprocess per image at shape (1, 3, 384, 640)\n",
      "\n",
      "0: 384x640 2 persons, 1 face, 1 child body parts, 11.0ms\n",
      "Speed: 2.2ms preprocess, 11.0ms inference, 1.3ms postprocess per image at shape (1, 3, 384, 640)\n",
      "\n",
      "0: 640x640 child_face 1.00, adult_face 0.00, 17.6ms\n",
      "Speed: 12.2ms preprocess, 17.6ms inference, 0.1ms postprocess per image at shape (1, 3, 640, 640)\n"
     ]
    },
    {
     "name": "stderr",
     "output_type": "stream",
     "text": [
      " 60%|█████▉    | 102/171 [00:16<00:07,  9.11it/s]"
     ]
    },
    {
     "name": "stdout",
     "output_type": "stream",
     "text": [
      "\n",
      "0: 384x640 3 persons, 1 face, 11.1ms\n",
      "Speed: 3.0ms preprocess, 11.1ms inference, 1.3ms postprocess per image at shape (1, 3, 384, 640)\n",
      "\n",
      "0: 640x640 child_face 1.00, adult_face 0.00, 19.2ms\n",
      "Speed: 17.0ms preprocess, 19.2ms inference, 0.1ms postprocess per image at shape (1, 3, 640, 640)\n"
     ]
    },
    {
     "name": "stderr",
     "output_type": "stream",
     "text": [
      " 60%|██████    | 103/171 [00:16<00:08,  8.37it/s]"
     ]
    },
    {
     "name": "stdout",
     "output_type": "stream",
     "text": [
      "\n",
      "0: 384x640 1 face, 1 child body parts, 11.1ms\n",
      "Speed: 1.7ms preprocess, 11.1ms inference, 1.3ms postprocess per image at shape (1, 3, 384, 640)\n",
      "\n",
      "0: 640x640 child_face 0.78, adult_face 0.22, 19.2ms\n",
      "Speed: 15.8ms preprocess, 19.2ms inference, 0.1ms postprocess per image at shape (1, 3, 640, 640)\n"
     ]
    },
    {
     "name": "stderr",
     "output_type": "stream",
     "text": [
      " 61%|██████    | 104/171 [00:16<00:07,  8.54it/s]"
     ]
    },
    {
     "name": "stdout",
     "output_type": "stream",
     "text": [
      "\n",
      "0: 384x640 1 person, 1 face, 11.2ms\n",
      "Speed: 2.2ms preprocess, 11.2ms inference, 1.2ms postprocess per image at shape (1, 3, 384, 640)\n",
      "\n",
      "0: 640x640 adult_face 0.71, child_face 0.29, 19.1ms\n",
      "Speed: 16.7ms preprocess, 19.1ms inference, 0.1ms postprocess per image at shape (1, 3, 640, 640)\n",
      "\n",
      "0: 384x640 1 person, 10.9ms\n",
      "Speed: 1.9ms preprocess, 10.9ms inference, 1.3ms postprocess per image at shape (1, 3, 384, 640)\n"
     ]
    },
    {
     "name": "stderr",
     "output_type": "stream",
     "text": [
      " 62%|██████▏   | 106/171 [00:16<00:06, 10.11it/s]"
     ]
    },
    {
     "name": "stdout",
     "output_type": "stream",
     "text": [
      "\n",
      "0: 384x640 3 persons, 2 faces, 1 child body parts, 11.0ms\n",
      "Speed: 2.2ms preprocess, 11.0ms inference, 1.2ms postprocess per image at shape (1, 3, 384, 640)\n",
      "\n",
      "0: 640x640 child_face 0.98, adult_face 0.02, 19.1ms\n",
      "Speed: 18.8ms preprocess, 19.1ms inference, 0.1ms postprocess per image at shape (1, 3, 640, 640)\n",
      "\n",
      "0: 640x640 child_face 0.69, adult_face 0.31, 19.2ms\n",
      "Speed: 14.8ms preprocess, 19.2ms inference, 0.1ms postprocess per image at shape (1, 3, 640, 640)\n",
      "\n",
      "0: 384x640 1 person, 1 face, 1 child body parts, 10.9ms\n",
      "Speed: 2.2ms preprocess, 10.9ms inference, 1.2ms postprocess per image at shape (1, 3, 384, 640)\n",
      "\n",
      "0: 640x640 child_face 0.85, adult_face 0.15, 19.2ms\n",
      "Speed: 15.5ms preprocess, 19.2ms inference, 0.1ms postprocess per image at shape (1, 3, 640, 640)\n"
     ]
    },
    {
     "name": "stderr",
     "output_type": "stream",
     "text": [
      " 63%|██████▎   | 108/171 [00:16<00:06,  9.73it/s]"
     ]
    },
    {
     "name": "stdout",
     "output_type": "stream",
     "text": [
      "\n",
      "0: 384x640 (no detections), 11.0ms\n",
      "Speed: 1.7ms preprocess, 11.0ms inference, 0.6ms postprocess per image at shape (1, 3, 384, 640)\n",
      "\n",
      "0: 384x640 1 face, 1 child body parts, 11.0ms\n",
      "Speed: 1.7ms preprocess, 11.0ms inference, 1.2ms postprocess per image at shape (1, 3, 384, 640)\n",
      "\n",
      "0: 640x640 child_face 0.94, adult_face 0.06, 19.1ms\n",
      "Speed: 11.7ms preprocess, 19.1ms inference, 0.1ms postprocess per image at shape (1, 3, 640, 640)\n"
     ]
    },
    {
     "name": "stderr",
     "output_type": "stream",
     "text": [
      " 64%|██████▍   | 110/171 [00:17<00:05, 10.25it/s]"
     ]
    },
    {
     "name": "stdout",
     "output_type": "stream",
     "text": [
      "\n",
      "0: 384x640 1 child body parts, 11.0ms\n",
      "Speed: 2.3ms preprocess, 11.0ms inference, 1.4ms postprocess per image at shape (1, 3, 384, 640)\n",
      "\n",
      "0: 384x640 3 persons, 3 faces, 10.9ms\n",
      "Speed: 2.2ms preprocess, 10.9ms inference, 1.2ms postprocess per image at shape (1, 3, 384, 640)\n",
      "\n",
      "0: 640x640 child_face 0.91, adult_face 0.09, 19.2ms\n",
      "Speed: 15.0ms preprocess, 19.2ms inference, 0.1ms postprocess per image at shape (1, 3, 640, 640)\n",
      "\n",
      "0: 640x640 child_face 0.78, adult_face 0.22, 19.1ms\n",
      "Speed: 13.6ms preprocess, 19.1ms inference, 0.1ms postprocess per image at shape (1, 3, 640, 640)\n",
      "\n",
      "0: 640x640 adult_face 0.50, child_face 0.50, 19.2ms\n",
      "Speed: 13.6ms preprocess, 19.2ms inference, 0.1ms postprocess per image at shape (1, 3, 640, 640)\n"
     ]
    },
    {
     "name": "stderr",
     "output_type": "stream",
     "text": [
      " 65%|██████▌   | 112/171 [00:17<00:06,  9.38it/s]"
     ]
    },
    {
     "name": "stdout",
     "output_type": "stream",
     "text": [
      "\n",
      "0: 384x640 1 person, 1 face, 1 child body parts, 11.0ms\n",
      "Speed: 2.3ms preprocess, 11.0ms inference, 1.3ms postprocess per image at shape (1, 3, 384, 640)\n",
      "\n",
      "0: 640x640 child_face 1.00, adult_face 0.00, 19.2ms\n",
      "Speed: 14.0ms preprocess, 19.2ms inference, 0.1ms postprocess per image at shape (1, 3, 640, 640)\n"
     ]
    },
    {
     "name": "stderr",
     "output_type": "stream",
     "text": [
      " 66%|██████▌   | 113/171 [00:17<00:06,  9.32it/s]"
     ]
    },
    {
     "name": "stdout",
     "output_type": "stream",
     "text": [
      "\n",
      "0: 384x640 2 persons, 1 face, 1 child body parts, 11.0ms\n",
      "Speed: 2.2ms preprocess, 11.0ms inference, 1.3ms postprocess per image at shape (1, 3, 384, 640)\n",
      "\n",
      "0: 640x640 child_face 0.96, adult_face 0.04, 19.1ms\n",
      "Speed: 14.8ms preprocess, 19.1ms inference, 0.1ms postprocess per image at shape (1, 3, 640, 640)\n",
      "\n",
      "0: 384x640 2 persons, 1 face, 1 child body parts, 11.0ms\n",
      "Speed: 2.2ms preprocess, 11.0ms inference, 1.3ms postprocess per image at shape (1, 3, 384, 640)\n",
      "\n",
      "0: 640x640 child_face 0.67, adult_face 0.33, 19.1ms\n",
      "Speed: 12.3ms preprocess, 19.1ms inference, 0.1ms postprocess per image at shape (1, 3, 640, 640)\n"
     ]
    },
    {
     "name": "stderr",
     "output_type": "stream",
     "text": [
      " 67%|██████▋   | 115/171 [00:17<00:05,  9.70it/s]"
     ]
    },
    {
     "name": "stdout",
     "output_type": "stream",
     "text": [
      "\n",
      "0: 384x640 1 face, 12.9ms\n",
      "Speed: 1.8ms preprocess, 12.9ms inference, 1.3ms postprocess per image at shape (1, 3, 384, 640)\n",
      "\n",
      "0: 640x640 child_face 1.00, adult_face 0.00, 19.1ms\n",
      "Speed: 18.8ms preprocess, 19.1ms inference, 0.1ms postprocess per image at shape (1, 3, 640, 640)\n",
      "\n",
      "0: 384x640 1 person, 1 face, 2 child body partss, 11.1ms\n",
      "Speed: 2.3ms preprocess, 11.1ms inference, 1.3ms postprocess per image at shape (1, 3, 384, 640)\n",
      "\n",
      "0: 640x640 child_face 1.00, adult_face 0.00, 19.1ms\n",
      "Speed: 14.8ms preprocess, 19.1ms inference, 0.1ms postprocess per image at shape (1, 3, 640, 640)\n"
     ]
    },
    {
     "name": "stderr",
     "output_type": "stream",
     "text": [
      " 68%|██████▊   | 117/171 [00:17<00:05,  9.87it/s]"
     ]
    },
    {
     "name": "stdout",
     "output_type": "stream",
     "text": [
      "\n",
      "0: 384x640 2 persons, 2 faces, 11.0ms\n",
      "Speed: 1.7ms preprocess, 11.0ms inference, 1.3ms postprocess per image at shape (1, 3, 384, 640)\n",
      "\n",
      "0: 640x640 child_face 0.86, adult_face 0.14, 19.1ms\n",
      "Speed: 13.7ms preprocess, 19.1ms inference, 0.1ms postprocess per image at shape (1, 3, 640, 640)\n",
      "\n",
      "0: 640x640 adult_face 0.73, child_face 0.27, 19.1ms\n",
      "Speed: 13.0ms preprocess, 19.1ms inference, 0.1ms postprocess per image at shape (1, 3, 640, 640)\n"
     ]
    },
    {
     "name": "stderr",
     "output_type": "stream",
     "text": [
      " 69%|██████▉   | 118/171 [00:18<00:05,  9.55it/s]"
     ]
    },
    {
     "name": "stdout",
     "output_type": "stream",
     "text": [
      "\n",
      "0: 384x640 1 child body parts, 11.0ms\n",
      "Speed: 2.3ms preprocess, 11.0ms inference, 1.3ms postprocess per image at shape (1, 3, 384, 640)\n"
     ]
    },
    {
     "name": "stderr",
     "output_type": "stream",
     "text": [
      " 70%|██████▉   | 119/171 [00:18<00:05,  9.61it/s]"
     ]
    },
    {
     "name": "stdout",
     "output_type": "stream",
     "text": [
      "\n",
      "0: 384x640 1 person, 1 child body parts, 11.0ms\n",
      "Speed: 2.3ms preprocess, 11.0ms inference, 1.3ms postprocess per image at shape (1, 3, 384, 640)\n",
      "\n",
      "0: 384x640 1 face, 1 child body parts, 11.1ms\n",
      "Speed: 2.3ms preprocess, 11.1ms inference, 1.3ms postprocess per image at shape (1, 3, 384, 640)\n",
      "\n",
      "0: 640x640 adult_face 0.86, child_face 0.14, 19.2ms\n",
      "Speed: 34.1ms preprocess, 19.2ms inference, 0.1ms postprocess per image at shape (1, 3, 640, 640)\n"
     ]
    },
    {
     "name": "stderr",
     "output_type": "stream",
     "text": [
      " 71%|███████   | 121/171 [00:18<00:05,  9.91it/s]"
     ]
    },
    {
     "name": "stdout",
     "output_type": "stream",
     "text": [
      "\n",
      "0: 384x640 2 persons, 1 child body parts, 11.2ms\n",
      "Speed: 2.3ms preprocess, 11.2ms inference, 1.3ms postprocess per image at shape (1, 3, 384, 640)\n",
      "\n",
      "0: 384x640 2 persons, 2 faces, 11.1ms\n",
      "Speed: 2.2ms preprocess, 11.1ms inference, 1.3ms postprocess per image at shape (1, 3, 384, 640)\n",
      "\n",
      "0: 640x640 child_face 0.55, adult_face 0.45, 19.1ms\n",
      "Speed: 20.7ms preprocess, 19.1ms inference, 0.1ms postprocess per image at shape (1, 3, 640, 640)\n",
      "\n",
      "0: 640x640 adult_face 0.69, child_face 0.31, 19.1ms\n",
      "Speed: 13.1ms preprocess, 19.1ms inference, 0.1ms postprocess per image at shape (1, 3, 640, 640)\n"
     ]
    },
    {
     "name": "stderr",
     "output_type": "stream",
     "text": [
      " 72%|███████▏  | 123/171 [00:18<00:05,  9.21it/s]"
     ]
    },
    {
     "name": "stdout",
     "output_type": "stream",
     "text": [
      "\n",
      "0: 384x640 1 face, 1 child body parts, 11.7ms\n",
      "Speed: 2.3ms preprocess, 11.7ms inference, 1.6ms postprocess per image at shape (1, 3, 384, 640)\n",
      "\n",
      "0: 640x640 child_face 0.99, adult_face 0.01, 19.2ms\n",
      "Speed: 15.8ms preprocess, 19.2ms inference, 0.1ms postprocess per image at shape (1, 3, 640, 640)\n"
     ]
    },
    {
     "name": "stderr",
     "output_type": "stream",
     "text": [
      " 73%|███████▎  | 124/171 [00:18<00:05,  8.84it/s]"
     ]
    },
    {
     "name": "stdout",
     "output_type": "stream",
     "text": [
      "\n",
      "0: 384x640 (no detections), 14.2ms\n",
      "Speed: 3.0ms preprocess, 14.2ms inference, 0.8ms postprocess per image at shape (1, 3, 384, 640)\n"
     ]
    },
    {
     "name": "stderr",
     "output_type": "stream",
     "text": [
      " 73%|███████▎  | 125/171 [00:18<00:05,  8.87it/s]"
     ]
    },
    {
     "name": "stdout",
     "output_type": "stream",
     "text": [
      "\n",
      "0: 384x640 1 person, 1 face, 2 child body partss, 11.3ms\n",
      "Speed: 2.3ms preprocess, 11.3ms inference, 1.3ms postprocess per image at shape (1, 3, 384, 640)\n",
      "\n",
      "0: 640x640 child_face 1.00, adult_face 0.00, 19.2ms\n",
      "Speed: 16.9ms preprocess, 19.2ms inference, 0.1ms postprocess per image at shape (1, 3, 640, 640)\n"
     ]
    },
    {
     "name": "stderr",
     "output_type": "stream",
     "text": [
      " 74%|███████▎  | 126/171 [00:18<00:05,  8.31it/s]"
     ]
    },
    {
     "name": "stdout",
     "output_type": "stream",
     "text": [
      "\n",
      "0: 384x640 2 persons, 2 faces, 11.2ms\n",
      "Speed: 1.8ms preprocess, 11.2ms inference, 1.3ms postprocess per image at shape (1, 3, 384, 640)\n",
      "\n",
      "0: 640x640 adult_face 0.79, child_face 0.21, 19.2ms\n",
      "Speed: 12.9ms preprocess, 19.2ms inference, 0.1ms postprocess per image at shape (1, 3, 640, 640)\n",
      "\n",
      "0: 640x640 child_face 1.00, adult_face 0.00, 19.2ms\n",
      "Speed: 13.6ms preprocess, 19.2ms inference, 0.1ms postprocess per image at shape (1, 3, 640, 640)\n"
     ]
    },
    {
     "name": "stderr",
     "output_type": "stream",
     "text": [
      " 74%|███████▍  | 127/171 [00:19<00:05,  7.81it/s]"
     ]
    },
    {
     "name": "stdout",
     "output_type": "stream",
     "text": [
      "\n",
      "0: 384x640 1 person, 1 face, 11.2ms\n",
      "Speed: 2.3ms preprocess, 11.2ms inference, 1.3ms postprocess per image at shape (1, 3, 384, 640)\n",
      "\n",
      "0: 640x640 child_face 1.00, adult_face 0.00, 19.2ms\n",
      "Speed: 17.0ms preprocess, 19.2ms inference, 0.1ms postprocess per image at shape (1, 3, 640, 640)\n"
     ]
    },
    {
     "name": "stderr",
     "output_type": "stream",
     "text": [
      " 75%|███████▍  | 128/171 [00:19<00:05,  7.80it/s]"
     ]
    },
    {
     "name": "stdout",
     "output_type": "stream",
     "text": [
      "\n",
      "0: 384x640 1 person, 1 face, 1 child body parts, 11.8ms\n",
      "Speed: 1.7ms preprocess, 11.8ms inference, 1.3ms postprocess per image at shape (1, 3, 384, 640)\n",
      "\n",
      "0: 640x640 child_face 0.91, adult_face 0.09, 19.2ms\n",
      "Speed: 14.0ms preprocess, 19.2ms inference, 0.1ms postprocess per image at shape (1, 3, 640, 640)\n"
     ]
    },
    {
     "name": "stderr",
     "output_type": "stream",
     "text": [
      " 75%|███████▌  | 129/171 [00:19<00:05,  7.99it/s]"
     ]
    },
    {
     "name": "stdout",
     "output_type": "stream",
     "text": [
      "\n",
      "0: 384x640 1 face, 1 child body parts, 10.9ms\n",
      "Speed: 1.7ms preprocess, 10.9ms inference, 1.3ms postprocess per image at shape (1, 3, 384, 640)\n",
      "\n",
      "0: 640x640 child_face 1.00, adult_face 0.00, 19.1ms\n",
      "Speed: 11.7ms preprocess, 19.1ms inference, 0.1ms postprocess per image at shape (1, 3, 640, 640)\n",
      "\n",
      "0: 384x640 2 persons, 2 faces, 11.1ms\n",
      "Speed: 1.7ms preprocess, 11.1ms inference, 1.2ms postprocess per image at shape (1, 3, 384, 640)\n",
      "\n",
      "0: 640x640 adult_face 0.54, child_face 0.46, 19.2ms\n",
      "Speed: 13.4ms preprocess, 19.2ms inference, 0.1ms postprocess per image at shape (1, 3, 640, 640)\n",
      "\n",
      "0: 640x640 adult_face 0.84, child_face 0.16, 19.2ms\n",
      "Speed: 12.1ms preprocess, 19.2ms inference, 0.1ms postprocess per image at shape (1, 3, 640, 640)\n"
     ]
    },
    {
     "name": "stderr",
     "output_type": "stream",
     "text": [
      " 77%|███████▋  | 131/171 [00:19<00:04,  8.68it/s]"
     ]
    },
    {
     "name": "stdout",
     "output_type": "stream",
     "text": [
      "\n",
      "0: 384x640 3 persons, 1 face, 1 child body parts, 11.1ms\n",
      "Speed: 2.3ms preprocess, 11.1ms inference, 1.3ms postprocess per image at shape (1, 3, 384, 640)\n",
      "\n",
      "0: 640x640 child_face 1.00, adult_face 0.00, 19.2ms\n",
      "Speed: 13.9ms preprocess, 19.2ms inference, 0.1ms postprocess per image at shape (1, 3, 640, 640)\n"
     ]
    },
    {
     "name": "stderr",
     "output_type": "stream",
     "text": [
      " 77%|███████▋  | 132/171 [00:19<00:04,  8.36it/s]"
     ]
    },
    {
     "name": "stdout",
     "output_type": "stream",
     "text": [
      "\n",
      "0: 384x640 2 persons, 2 faces, 2 child body partss, 11.0ms\n",
      "Speed: 2.3ms preprocess, 11.0ms inference, 1.3ms postprocess per image at shape (1, 3, 384, 640)\n",
      "\n",
      "0: 640x640 adult_face 0.54, child_face 0.46, 19.2ms\n",
      "Speed: 12.5ms preprocess, 19.2ms inference, 0.1ms postprocess per image at shape (1, 3, 640, 640)\n",
      "\n",
      "0: 640x640 child_face 0.58, adult_face 0.42, 19.2ms\n",
      "Speed: 11.5ms preprocess, 19.2ms inference, 0.1ms postprocess per image at shape (1, 3, 640, 640)\n"
     ]
    },
    {
     "name": "stderr",
     "output_type": "stream",
     "text": [
      " 78%|███████▊  | 133/171 [00:19<00:05,  7.57it/s]"
     ]
    },
    {
     "name": "stdout",
     "output_type": "stream",
     "text": [
      "\n",
      "0: 384x640 1 face, 1 child body parts, 11.0ms\n",
      "Speed: 2.3ms preprocess, 11.0ms inference, 1.3ms postprocess per image at shape (1, 3, 384, 640)\n",
      "\n",
      "0: 640x640 child_face 0.83, adult_face 0.17, 19.2ms\n",
      "Speed: 22.6ms preprocess, 19.2ms inference, 0.1ms postprocess per image at shape (1, 3, 640, 640)\n"
     ]
    },
    {
     "name": "stderr",
     "output_type": "stream",
     "text": [
      " 78%|███████▊  | 134/171 [00:19<00:04,  7.71it/s]"
     ]
    },
    {
     "name": "stdout",
     "output_type": "stream",
     "text": [
      "\n",
      "0: 384x640 1 child body parts, 11.1ms\n",
      "Speed: 2.3ms preprocess, 11.1ms inference, 1.3ms postprocess per image at shape (1, 3, 384, 640)\n",
      "\n",
      "0: 384x640 3 persons, 2 faces, 10.9ms\n",
      "Speed: 1.7ms preprocess, 10.9ms inference, 1.2ms postprocess per image at shape (1, 3, 384, 640)\n",
      "\n",
      "0: 640x640 adult_face 0.53, child_face 0.47, 19.2ms\n",
      "Speed: 12.2ms preprocess, 19.2ms inference, 0.1ms postprocess per image at shape (1, 3, 640, 640)\n",
      "\n",
      "0: 640x640 adult_face 0.82, child_face 0.18, 19.1ms\n",
      "Speed: 12.0ms preprocess, 19.1ms inference, 0.1ms postprocess per image at shape (1, 3, 640, 640)\n"
     ]
    },
    {
     "name": "stderr",
     "output_type": "stream",
     "text": [
      " 80%|███████▉  | 136/171 [00:20<00:04,  8.63it/s]"
     ]
    },
    {
     "name": "stdout",
     "output_type": "stream",
     "text": [
      "\n",
      "0: 384x640 1 child body parts, 11.0ms\n",
      "Speed: 2.2ms preprocess, 11.0ms inference, 1.2ms postprocess per image at shape (1, 3, 384, 640)\n",
      "\n",
      "0: 384x640 3 persons, 1 face, 1 child body parts, 11.0ms\n",
      "Speed: 2.2ms preprocess, 11.0ms inference, 1.3ms postprocess per image at shape (1, 3, 384, 640)\n",
      "\n",
      "0: 640x640 child_face 1.00, adult_face 0.00, 19.2ms\n",
      "Speed: 14.2ms preprocess, 19.2ms inference, 0.1ms postprocess per image at shape (1, 3, 640, 640)\n"
     ]
    },
    {
     "name": "stderr",
     "output_type": "stream",
     "text": [
      " 81%|████████  | 138/171 [00:20<00:03,  9.37it/s]"
     ]
    },
    {
     "name": "stdout",
     "output_type": "stream",
     "text": [
      "\n",
      "0: 384x640 1 person, 1 face, 11.2ms\n",
      "Speed: 2.3ms preprocess, 11.2ms inference, 1.3ms postprocess per image at shape (1, 3, 384, 640)\n",
      "\n",
      "0: 640x640 child_face 1.00, adult_face 0.00, 19.1ms\n",
      "Speed: 16.0ms preprocess, 19.1ms inference, 0.1ms postprocess per image at shape (1, 3, 640, 640)\n"
     ]
    },
    {
     "name": "stderr",
     "output_type": "stream",
     "text": [
      " 81%|████████▏ | 139/171 [00:20<00:03,  9.24it/s]"
     ]
    },
    {
     "name": "stdout",
     "output_type": "stream",
     "text": [
      "\n",
      "0: 384x640 1 person, 1 face, 12.4ms\n",
      "Speed: 2.2ms preprocess, 12.4ms inference, 2.2ms postprocess per image at shape (1, 3, 384, 640)\n",
      "\n",
      "0: 640x640 child_face 0.97, adult_face 0.03, 19.2ms\n",
      "Speed: 15.8ms preprocess, 19.2ms inference, 0.1ms postprocess per image at shape (1, 3, 640, 640)\n"
     ]
    },
    {
     "name": "stderr",
     "output_type": "stream",
     "text": [
      " 82%|████████▏ | 140/171 [00:20<00:03,  9.12it/s]"
     ]
    },
    {
     "name": "stdout",
     "output_type": "stream",
     "text": [
      "\n",
      "0: 384x640 1 person, 1 face, 2 child body partss, 11.1ms\n",
      "Speed: 2.3ms preprocess, 11.1ms inference, 1.3ms postprocess per image at shape (1, 3, 384, 640)\n",
      "\n",
      "0: 640x640 child_face 0.99, adult_face 0.01, 19.1ms\n",
      "Speed: 13.9ms preprocess, 19.1ms inference, 0.1ms postprocess per image at shape (1, 3, 640, 640)\n"
     ]
    },
    {
     "name": "stderr",
     "output_type": "stream",
     "text": [
      " 82%|████████▏ | 141/171 [00:20<00:03,  9.03it/s]"
     ]
    },
    {
     "name": "stdout",
     "output_type": "stream",
     "text": [
      "\n",
      "0: 384x640 1 person, 1 child body parts, 10.9ms\n",
      "Speed: 1.7ms preprocess, 10.9ms inference, 1.3ms postprocess per image at shape (1, 3, 384, 640)\n",
      "\n",
      "0: 384x640 1 person, 10.9ms\n",
      "Speed: 2.2ms preprocess, 10.9ms inference, 1.3ms postprocess per image at shape (1, 3, 384, 640)\n"
     ]
    },
    {
     "name": "stderr",
     "output_type": "stream",
     "text": [
      " 84%|████████▎ | 143/171 [00:20<00:02, 11.61it/s]"
     ]
    },
    {
     "name": "stdout",
     "output_type": "stream",
     "text": [
      "\n",
      "0: 384x640 3 persons, 4 faces, 2 child body partss, 11.1ms\n",
      "Speed: 1.7ms preprocess, 11.1ms inference, 1.2ms postprocess per image at shape (1, 3, 384, 640)\n",
      "\n",
      "0: 640x640 child_face 0.85, adult_face 0.15, 19.2ms\n",
      "Speed: 12.9ms preprocess, 19.2ms inference, 0.1ms postprocess per image at shape (1, 3, 640, 640)\n",
      "\n",
      "0: 640x640 child_face 0.99, adult_face 0.01, 19.2ms\n",
      "Speed: 13.8ms preprocess, 19.2ms inference, 0.1ms postprocess per image at shape (1, 3, 640, 640)\n",
      "\n",
      "0: 640x640 child_face 0.91, adult_face 0.09, 19.1ms\n",
      "Speed: 15.6ms preprocess, 19.1ms inference, 0.1ms postprocess per image at shape (1, 3, 640, 640)\n",
      "\n",
      "0: 640x640 adult_face 0.91, child_face 0.09, 19.1ms\n",
      "Speed: 16.5ms preprocess, 19.1ms inference, 0.1ms postprocess per image at shape (1, 3, 640, 640)\n",
      "\n",
      "0: 384x640 2 persons, 1 face, 11.3ms\n",
      "Speed: 2.3ms preprocess, 11.3ms inference, 1.3ms postprocess per image at shape (1, 3, 384, 640)\n",
      "\n",
      "0: 640x640 child_face 1.00, adult_face 0.00, 19.1ms\n",
      "Speed: 13.9ms preprocess, 19.1ms inference, 0.1ms postprocess per image at shape (1, 3, 640, 640)\n"
     ]
    },
    {
     "name": "stderr",
     "output_type": "stream",
     "text": [
      " 85%|████████▍ | 145/171 [00:21<00:03,  8.47it/s]"
     ]
    },
    {
     "name": "stdout",
     "output_type": "stream",
     "text": [
      "\n",
      "0: 384x640 2 persons, 1 face, 11.0ms\n",
      "Speed: 2.3ms preprocess, 11.0ms inference, 1.2ms postprocess per image at shape (1, 3, 384, 640)\n",
      "\n",
      "0: 640x640 adult_face 0.69, child_face 0.31, 19.1ms\n",
      "Speed: 14.8ms preprocess, 19.1ms inference, 0.1ms postprocess per image at shape (1, 3, 640, 640)\n",
      "\n",
      "0: 384x640 1 person, 1 face, 1 child body parts, 11.0ms\n",
      "Speed: 2.3ms preprocess, 11.0ms inference, 1.4ms postprocess per image at shape (1, 3, 384, 640)\n",
      "\n",
      "0: 640x640 child_face 0.98, adult_face 0.02, 19.2ms\n",
      "Speed: 17.5ms preprocess, 19.2ms inference, 0.1ms postprocess per image at shape (1, 3, 640, 640)\n"
     ]
    },
    {
     "name": "stderr",
     "output_type": "stream",
     "text": [
      " 86%|████████▌ | 147/171 [00:21<00:02,  8.39it/s]"
     ]
    },
    {
     "name": "stdout",
     "output_type": "stream",
     "text": [
      "\n",
      "0: 384x640 1 person, 1 face, 1 child body parts, 11.0ms\n",
      "Speed: 1.7ms preprocess, 11.0ms inference, 1.3ms postprocess per image at shape (1, 3, 384, 640)\n",
      "\n",
      "0: 640x640 child_face 0.86, adult_face 0.14, 19.1ms\n",
      "Speed: 12.5ms preprocess, 19.1ms inference, 0.1ms postprocess per image at shape (1, 3, 640, 640)\n",
      "\n",
      "0: 384x640 3 persons, 2 faces, 11.0ms\n",
      "Speed: 2.3ms preprocess, 11.0ms inference, 1.3ms postprocess per image at shape (1, 3, 384, 640)\n",
      "\n",
      "0: 640x640 adult_face 0.73, child_face 0.27, 19.1ms\n",
      "Speed: 12.5ms preprocess, 19.1ms inference, 0.1ms postprocess per image at shape (1, 3, 640, 640)\n",
      "\n",
      "0: 640x640 adult_face 0.58, child_face 0.42, 19.1ms\n",
      "Speed: 12.0ms preprocess, 19.1ms inference, 0.1ms postprocess per image at shape (1, 3, 640, 640)\n"
     ]
    },
    {
     "name": "stderr",
     "output_type": "stream",
     "text": [
      " 87%|████████▋ | 149/171 [00:21<00:02,  8.45it/s]"
     ]
    },
    {
     "name": "stdout",
     "output_type": "stream",
     "text": [
      "\n",
      "0: 384x640 1 face, 11.1ms\n",
      "Speed: 2.2ms preprocess, 11.1ms inference, 1.2ms postprocess per image at shape (1, 3, 384, 640)\n",
      "\n",
      "0: 640x640 adult_face 0.81, child_face 0.19, 19.1ms\n",
      "Speed: 13.2ms preprocess, 19.1ms inference, 0.1ms postprocess per image at shape (1, 3, 640, 640)\n"
     ]
    },
    {
     "name": "stderr",
     "output_type": "stream",
     "text": [
      " 88%|████████▊ | 150/171 [00:21<00:02,  8.58it/s]"
     ]
    },
    {
     "name": "stdout",
     "output_type": "stream",
     "text": [
      "\n",
      "0: 384x640 3 persons, 2 faces, 11.0ms\n",
      "Speed: 2.3ms preprocess, 11.0ms inference, 1.2ms postprocess per image at shape (1, 3, 384, 640)\n",
      "\n",
      "0: 640x640 adult_face 0.99, child_face 0.01, 19.1ms\n",
      "Speed: 12.6ms preprocess, 19.1ms inference, 0.1ms postprocess per image at shape (1, 3, 640, 640)\n",
      "\n",
      "0: 640x640 child_face 0.70, adult_face 0.30, 19.2ms\n",
      "Speed: 23.2ms preprocess, 19.2ms inference, 0.1ms postprocess per image at shape (1, 3, 640, 640)\n"
     ]
    },
    {
     "name": "stderr",
     "output_type": "stream",
     "text": [
      " 88%|████████▊ | 151/171 [00:21<00:02,  7.77it/s]"
     ]
    },
    {
     "name": "stdout",
     "output_type": "stream",
     "text": [
      "\n",
      "0: 384x640 1 person, 1 face, 1 child body parts, 11.0ms\n",
      "Speed: 2.2ms preprocess, 11.0ms inference, 1.3ms postprocess per image at shape (1, 3, 384, 640)\n",
      "\n",
      "0: 640x640 child_face 1.00, adult_face 0.00, 19.2ms\n",
      "Speed: 15.8ms preprocess, 19.2ms inference, 0.1ms postprocess per image at shape (1, 3, 640, 640)\n",
      "\n",
      "0: 384x640 2 persons, 1 face, 1 child body parts, 11.0ms\n",
      "Speed: 2.2ms preprocess, 11.0ms inference, 1.2ms postprocess per image at shape (1, 3, 384, 640)\n",
      "\n",
      "0: 640x640 child_face 1.00, adult_face 0.00, 19.2ms\n",
      "Speed: 15.8ms preprocess, 19.2ms inference, 0.1ms postprocess per image at shape (1, 3, 640, 640)\n"
     ]
    },
    {
     "name": "stderr",
     "output_type": "stream",
     "text": [
      " 89%|████████▉ | 153/171 [00:22<00:02,  8.76it/s]"
     ]
    },
    {
     "name": "stdout",
     "output_type": "stream",
     "text": [
      "\n",
      "0: 384x640 1 person, 1 face, 1 child body parts, 11.0ms\n",
      "Speed: 2.3ms preprocess, 11.0ms inference, 1.2ms postprocess per image at shape (1, 3, 384, 640)\n",
      "\n",
      "0: 640x640 child_face 0.60, adult_face 0.40, 19.2ms\n",
      "Speed: 33.9ms preprocess, 19.2ms inference, 0.1ms postprocess per image at shape (1, 3, 640, 640)\n"
     ]
    },
    {
     "name": "stderr",
     "output_type": "stream",
     "text": [
      " 90%|█████████ | 154/171 [00:22<00:02,  8.34it/s]"
     ]
    },
    {
     "name": "stdout",
     "output_type": "stream",
     "text": [
      "\n",
      "0: 384x640 1 person, 1 face, 11.2ms\n",
      "Speed: 2.3ms preprocess, 11.2ms inference, 1.3ms postprocess per image at shape (1, 3, 384, 640)\n",
      "\n",
      "0: 640x640 child_face 0.99, adult_face 0.01, 19.2ms\n",
      "Speed: 13.0ms preprocess, 19.2ms inference, 0.1ms postprocess per image at shape (1, 3, 640, 640)\n"
     ]
    },
    {
     "name": "stderr",
     "output_type": "stream",
     "text": [
      " 91%|█████████ | 155/171 [00:22<00:01,  8.59it/s]"
     ]
    },
    {
     "name": "stdout",
     "output_type": "stream",
     "text": [
      "\n",
      "0: 384x640 1 face, 1 child body parts, 11.0ms\n",
      "Speed: 2.3ms preprocess, 11.0ms inference, 1.3ms postprocess per image at shape (1, 3, 384, 640)\n",
      "\n",
      "0: 640x640 adult_face 0.99, child_face 0.01, 19.2ms\n",
      "Speed: 12.6ms preprocess, 19.2ms inference, 0.1ms postprocess per image at shape (1, 3, 640, 640)\n"
     ]
    },
    {
     "name": "stderr",
     "output_type": "stream",
     "text": [
      " 91%|█████████ | 156/171 [00:22<00:01,  8.36it/s]"
     ]
    },
    {
     "name": "stdout",
     "output_type": "stream",
     "text": [
      "\n",
      "0: 384x640 3 persons, 4 faces, 11.0ms\n",
      "Speed: 2.3ms preprocess, 11.0ms inference, 1.3ms postprocess per image at shape (1, 3, 384, 640)\n",
      "\n",
      "0: 640x640 adult_face 1.00, child_face 0.00, 19.2ms\n",
      "Speed: 13.1ms preprocess, 19.2ms inference, 0.1ms postprocess per image at shape (1, 3, 640, 640)\n",
      "\n",
      "0: 640x640 child_face 0.89, adult_face 0.11, 19.1ms\n",
      "Speed: 14.4ms preprocess, 19.1ms inference, 0.1ms postprocess per image at shape (1, 3, 640, 640)\n",
      "\n",
      "0: 640x640 child_face 0.71, adult_face 0.29, 19.1ms\n",
      "Speed: 13.3ms preprocess, 19.1ms inference, 0.1ms postprocess per image at shape (1, 3, 640, 640)\n",
      "\n",
      "0: 640x640 adult_face 0.96, child_face 0.04, 19.1ms\n",
      "Speed: 14.3ms preprocess, 19.1ms inference, 0.1ms postprocess per image at shape (1, 3, 640, 640)\n"
     ]
    },
    {
     "name": "stderr",
     "output_type": "stream",
     "text": [
      " 92%|█████████▏| 157/171 [00:22<00:02,  6.86it/s]"
     ]
    },
    {
     "name": "stdout",
     "output_type": "stream",
     "text": [
      "\n",
      "0: 384x640 1 person, 1 face, 1 child body parts, 11.1ms\n",
      "Speed: 2.2ms preprocess, 11.1ms inference, 1.2ms postprocess per image at shape (1, 3, 384, 640)\n",
      "\n",
      "0: 640x640 child_face 0.66, adult_face 0.34, 19.1ms\n",
      "Speed: 12.8ms preprocess, 19.1ms inference, 0.1ms postprocess per image at shape (1, 3, 640, 640)\n"
     ]
    },
    {
     "name": "stderr",
     "output_type": "stream",
     "text": [
      " 92%|█████████▏| 158/171 [00:22<00:01,  7.48it/s]"
     ]
    },
    {
     "name": "stdout",
     "output_type": "stream",
     "text": [
      "\n",
      "0: 384x640 1 person, 1 face, 1 child body parts, 11.3ms\n",
      "Speed: 2.3ms preprocess, 11.3ms inference, 1.3ms postprocess per image at shape (1, 3, 384, 640)\n",
      "\n",
      "0: 640x640 child_face 1.00, adult_face 0.00, 17.7ms\n",
      "Speed: 12.8ms preprocess, 17.7ms inference, 0.1ms postprocess per image at shape (1, 3, 640, 640)\n"
     ]
    },
    {
     "name": "stderr",
     "output_type": "stream",
     "text": [
      " 93%|█████████▎| 159/171 [00:22<00:01,  7.37it/s]"
     ]
    },
    {
     "name": "stdout",
     "output_type": "stream",
     "text": [
      "\n",
      "0: 384x640 2 persons, 2 faces, 11.3ms\n",
      "Speed: 2.2ms preprocess, 11.3ms inference, 1.2ms postprocess per image at shape (1, 3, 384, 640)\n",
      "\n",
      "0: 640x640 child_face 0.96, adult_face 0.04, 17.7ms\n",
      "Speed: 14.2ms preprocess, 17.7ms inference, 0.1ms postprocess per image at shape (1, 3, 640, 640)\n",
      "\n",
      "0: 640x640 child_face 1.00, adult_face 0.00, 17.7ms\n",
      "Speed: 14.9ms preprocess, 17.7ms inference, 0.1ms postprocess per image at shape (1, 3, 640, 640)\n"
     ]
    },
    {
     "name": "stderr",
     "output_type": "stream",
     "text": [
      " 94%|█████████▎| 160/171 [00:23<00:01,  7.28it/s]"
     ]
    },
    {
     "name": "stdout",
     "output_type": "stream",
     "text": [
      "\n",
      "0: 384x640 1 person, 1 face, 11.0ms\n",
      "Speed: 2.3ms preprocess, 11.0ms inference, 1.2ms postprocess per image at shape (1, 3, 384, 640)\n",
      "\n",
      "0: 640x640 child_face 0.99, adult_face 0.01, 17.7ms\n",
      "Speed: 12.9ms preprocess, 17.7ms inference, 0.1ms postprocess per image at shape (1, 3, 640, 640)\n"
     ]
    },
    {
     "name": "stderr",
     "output_type": "stream",
     "text": [
      " 94%|█████████▍| 161/171 [00:23<00:01,  7.55it/s]"
     ]
    },
    {
     "name": "stdout",
     "output_type": "stream",
     "text": [
      "\n",
      "0: 384x640 1 person, 1 face, 11.0ms\n",
      "Speed: 2.2ms preprocess, 11.0ms inference, 1.2ms postprocess per image at shape (1, 3, 384, 640)\n",
      "\n",
      "0: 640x640 child_face 1.00, adult_face 0.00, 17.7ms\n",
      "Speed: 13.6ms preprocess, 17.7ms inference, 0.1ms postprocess per image at shape (1, 3, 640, 640)\n",
      "\n",
      "0: 384x640 1 person, 1 face, 1 child body parts, 13.7ms\n",
      "Speed: 2.4ms preprocess, 13.7ms inference, 1.7ms postprocess per image at shape (1, 3, 384, 640)\n",
      "\n",
      "0: 640x640 child_face 0.91, adult_face 0.09, 17.7ms\n",
      "Speed: 15.0ms preprocess, 17.7ms inference, 0.1ms postprocess per image at shape (1, 3, 640, 640)\n"
     ]
    },
    {
     "name": "stderr",
     "output_type": "stream",
     "text": [
      " 95%|█████████▌| 163/171 [00:23<00:00,  8.09it/s]"
     ]
    },
    {
     "name": "stdout",
     "output_type": "stream",
     "text": [
      "\n",
      "0: 384x640 1 person, 13.4ms\n",
      "Speed: 1.8ms preprocess, 13.4ms inference, 1.6ms postprocess per image at shape (1, 3, 384, 640)\n",
      "\n",
      "0: 384x640 2 persons, 2 faces, 2 child body partss, 11.1ms\n",
      "Speed: 2.3ms preprocess, 11.1ms inference, 1.3ms postprocess per image at shape (1, 3, 384, 640)\n",
      "\n",
      "0: 640x640 child_face 1.00, adult_face 0.00, 17.7ms\n",
      "Speed: 13.2ms preprocess, 17.7ms inference, 0.1ms postprocess per image at shape (1, 3, 640, 640)\n",
      "\n",
      "0: 640x640 child_face 1.00, adult_face 0.00, 17.7ms\n",
      "Speed: 12.8ms preprocess, 17.7ms inference, 0.1ms postprocess per image at shape (1, 3, 640, 640)\n"
     ]
    },
    {
     "name": "stderr",
     "output_type": "stream",
     "text": [
      " 96%|█████████▋| 165/171 [00:23<00:00,  8.43it/s]"
     ]
    },
    {
     "name": "stdout",
     "output_type": "stream",
     "text": [
      "\n",
      "0: 384x640 2 persons, 2 faces, 11.0ms\n",
      "Speed: 2.3ms preprocess, 11.0ms inference, 1.3ms postprocess per image at shape (1, 3, 384, 640)\n",
      "\n",
      "0: 640x640 adult_face 1.00, child_face 0.00, 17.7ms\n",
      "Speed: 12.7ms preprocess, 17.7ms inference, 0.1ms postprocess per image at shape (1, 3, 640, 640)\n",
      "\n",
      "0: 640x640 child_face 1.00, adult_face 0.00, 17.7ms\n",
      "Speed: 13.2ms preprocess, 17.7ms inference, 0.1ms postprocess per image at shape (1, 3, 640, 640)\n"
     ]
    },
    {
     "name": "stderr",
     "output_type": "stream",
     "text": [
      " 97%|█████████▋| 166/171 [00:23<00:00,  8.10it/s]"
     ]
    },
    {
     "name": "stdout",
     "output_type": "stream",
     "text": [
      "\n",
      "0: 384x640 1 person, 1 face, 11.0ms\n",
      "Speed: 1.7ms preprocess, 11.0ms inference, 1.3ms postprocess per image at shape (1, 3, 384, 640)\n",
      "\n",
      "0: 640x640 child_face 0.87, adult_face 0.13, 17.7ms\n",
      "Speed: 14.1ms preprocess, 17.7ms inference, 0.1ms postprocess per image at shape (1, 3, 640, 640)\n",
      "\n",
      "0: 384x640 1 person, 1 face, 1 child body parts, 12.5ms\n",
      "Speed: 2.3ms preprocess, 12.5ms inference, 1.4ms postprocess per image at shape (1, 3, 384, 640)\n",
      "\n",
      "0: 640x640 child_face 0.78, adult_face 0.22, 17.7ms\n",
      "Speed: 13.8ms preprocess, 17.7ms inference, 0.1ms postprocess per image at shape (1, 3, 640, 640)\n"
     ]
    },
    {
     "name": "stderr",
     "output_type": "stream",
     "text": [
      " 98%|█████████▊| 168/171 [00:23<00:00,  8.56it/s]"
     ]
    },
    {
     "name": "stdout",
     "output_type": "stream",
     "text": [
      "\n",
      "0: 384x640 1 person, 1 face, 10.9ms\n",
      "Speed: 2.2ms preprocess, 10.9ms inference, 1.3ms postprocess per image at shape (1, 3, 384, 640)\n",
      "\n",
      "0: 640x640 child_face 1.00, adult_face 0.00, 17.7ms\n",
      "Speed: 15.9ms preprocess, 17.7ms inference, 0.1ms postprocess per image at shape (1, 3, 640, 640)\n",
      "\n",
      "0: 384x640 1 face, 11.3ms\n",
      "Speed: 1.8ms preprocess, 11.3ms inference, 1.4ms postprocess per image at shape (1, 3, 384, 640)\n",
      "\n",
      "0: 640x640 adult_face 0.87, child_face 0.13, 17.7ms\n",
      "Speed: 11.6ms preprocess, 17.7ms inference, 0.1ms postprocess per image at shape (1, 3, 640, 640)\n"
     ]
    },
    {
     "name": "stderr",
     "output_type": "stream",
     "text": [
      " 99%|█████████▉| 170/171 [00:24<00:00,  8.99it/s]"
     ]
    },
    {
     "name": "stdout",
     "output_type": "stream",
     "text": [
      "\n",
      "0: 384x640 2 persons, 10.7ms\n",
      "Speed: 2.2ms preprocess, 10.7ms inference, 1.2ms postprocess per image at shape (1, 3, 384, 640)\n"
     ]
    },
    {
     "name": "stderr",
     "output_type": "stream",
     "text": [
      "100%|██████████| 171/171 [00:24<00:00,  7.05it/s]\n"
     ]
    }
   ],
   "source": [
    "import pandas as pd\n",
    "import os\n",
    "import cv2\n",
    "from detection_pipeline.proximity_utils import ProximityCalculator\n",
    "from ultralytics import YOLO\n",
    "from constants import DetectionPaths, ClassificationPaths\n",
    "from tqdm import tqdm  # For progress bar\n",
    "\n",
    "def process_image(image_path, detector, age_classifier, prox_calculator):\n",
    "    \"\"\"Process a single image and return proximity values\"\"\"\n",
    "    full_path = os.path.join(\"/home/nele_pauline_suffo/ProcessedData/quantex_videos_processed\", \n",
    "                           os.path.basename(image_path).rsplit('_', 1)[0], \n",
    "                           image_path)\n",
    "    \n",
    "    img = cv2.imread(full_path)\n",
    "    if img is None:\n",
    "        logging.warning(f\"Could not load image at {full_path}\")\n",
    "        return None\n",
    "    \n",
    "    detections = detector(img)[0]\n",
    "    proximity_values = []\n",
    "    \n",
    "    for box in detections.boxes:\n",
    "        if int(box.cls) != 1:  # Skip non-face classes\n",
    "            continue\n",
    "            \n",
    "        x1, y1, x2, y2 = map(int, box.xyxy[0])\n",
    "        face_roi = img[y1:y2, x1:x2]\n",
    "        \n",
    "        age_result = age_classifier(face_roi)[0]\n",
    "        is_child = int(age_result.probs.top1) == 1\n",
    "        \n",
    "        proximity = prox_calculator.calculate((x1, y1, x2, y2), is_child)\n",
    "        proximity_values.append(str(round(proximity, 2)))\n",
    "    \n",
    "    return \",\".join(proximity_values) if proximity_values else None\n",
    "\n",
    "def update_dataframe_with_proximity(df):\n",
    "    \"\"\"Process all images in DataFrame and update proximity_heuristic column\"\"\"\n",
    "    # Initialize models and calculator once\n",
    "    detector = YOLO(DetectionPaths.person_face_trained_weights_path)\n",
    "    age_classifier = YOLO(ClassificationPaths.face_trained_weights_path)\n",
    "    prox_calculator = ProximityCalculator()\n",
    "    \n",
    "    # Process each row with progress bar\n",
    "    for idx, row in tqdm(df.iterrows(), total=len(df)):\n",
    "        image_path = row['frame']\n",
    "        proximity_values = process_image(image_path, detector, age_classifier, prox_calculator)\n",
    "        \n",
    "        if proximity_values is not None:\n",
    "            df.at[idx, 'proximity_heuristic'] = proximity_values\n",
    "    \n",
    "    return df\n",
    "\n",
    "# Example usage:\n",
    "if __name__ == \"__main__\":\n",
    "    \n",
    "    # Process and update DataFrame\n",
    "    updated_df = update_dataframe_with_proximity(proximity_df_without_heuristic)\n"
   ]
  },
  {
   "cell_type": "code",
   "execution_count": null,
   "metadata": {},
   "outputs": [
    {
     "data": {
      "text/html": [
       "<div>\n",
       "<style scoped>\n",
       "    .dataframe tbody tr th:only-of-type {\n",
       "        vertical-align: middle;\n",
       "    }\n",
       "\n",
       "    .dataframe tbody tr th {\n",
       "        vertical-align: top;\n",
       "    }\n",
       "\n",
       "    .dataframe thead th {\n",
       "        text-align: right;\n",
       "    }\n",
       "</style>\n",
       "<table border=\"1\" class=\"dataframe\">\n",
       "  <thead>\n",
       "    <tr style=\"text-align: right;\">\n",
       "      <th></th>\n",
       "      <th>frame</th>\n",
       "      <th>proximity_true</th>\n",
       "      <th>proximity_heuristic</th>\n",
       "      <th>age_group</th>\n",
       "    </tr>\n",
       "  </thead>\n",
       "  <tbody>\n",
       "    <tr>\n",
       "      <th>0</th>\n",
       "      <td>quantex_at_home_id260123_2023_09_06_01_013290.jpg</td>\n",
       "      <td>0.87</td>\n",
       "      <td>1.0</td>\n",
       "      <td>adult</td>\n",
       "    </tr>\n",
       "    <tr>\n",
       "      <th>1</th>\n",
       "      <td>quantex_at_home_id262726_2023_03_26_01_021500.jpg</td>\n",
       "      <td>0.81</td>\n",
       "      <td>0.29,0.33</td>\n",
       "      <td>adult</td>\n",
       "    </tr>\n",
       "    <tr>\n",
       "      <th>2</th>\n",
       "      <td>quantex_at_home_id260275_2022_04_16_01_011640.jpg</td>\n",
       "      <td>0.21</td>\n",
       "      <td>0.37</td>\n",
       "      <td>adult</td>\n",
       "    </tr>\n",
       "    <tr>\n",
       "      <th>3</th>\n",
       "      <td>quantex_at_home_id264351_2024_11_23_03_016520.jpg</td>\n",
       "      <td>0.73</td>\n",
       "      <td>1.0,0.6</td>\n",
       "      <td>adult</td>\n",
       "    </tr>\n",
       "    <tr>\n",
       "      <th>4</th>\n",
       "      <td>quantex_at_home_id263284_2023_06_25_04_050240.jpg</td>\n",
       "      <td>0.91</td>\n",
       "      <td>0.59,0.45,0.51</td>\n",
       "      <td>adult</td>\n",
       "    </tr>\n",
       "    <tr>\n",
       "      <th>...</th>\n",
       "      <td>...</td>\n",
       "      <td>...</td>\n",
       "      <td>...</td>\n",
       "      <td>...</td>\n",
       "    </tr>\n",
       "    <tr>\n",
       "      <th>167</th>\n",
       "      <td>quantex_at_home_id263207_2024_12_12_02_007910.jpg</td>\n",
       "      <td>0.61</td>\n",
       "      <td>1.0</td>\n",
       "      <td>adult</td>\n",
       "    </tr>\n",
       "    <tr>\n",
       "      <th>168</th>\n",
       "      <td>quantex_at_home_id262758_2023_07_10_01_021940.jpg</td>\n",
       "      <td>0.89</td>\n",
       "      <td>0.77</td>\n",
       "      <td>adult</td>\n",
       "    </tr>\n",
       "    <tr>\n",
       "      <th>169</th>\n",
       "      <td>quantex_at_home_id263293_2022_08_29_01_029760.jpg</td>\n",
       "      <td>1.00</td>\n",
       "      <td>0.97</td>\n",
       "      <td>adult</td>\n",
       "    </tr>\n",
       "    <tr>\n",
       "      <th>170</th>\n",
       "      <td>quantex_at_home_id263284_2023_06_25_06_002850.jpg</td>\n",
       "      <td>0.16</td>\n",
       "      <td>0.09</td>\n",
       "      <td>adult</td>\n",
       "    </tr>\n",
       "    <tr>\n",
       "      <th>171</th>\n",
       "      <td>quantex_at_home_id264356_2023_07_05_04_034320.jpg</td>\n",
       "      <td>0.79</td>\n",
       "      <td>NaN</td>\n",
       "      <td>adult</td>\n",
       "    </tr>\n",
       "  </tbody>\n",
       "</table>\n",
       "<p>171 rows × 4 columns</p>\n",
       "</div>"
      ],
      "text/plain": [
       "                                                 frame  proximity_true  \\\n",
       "0    quantex_at_home_id260123_2023_09_06_01_013290.jpg            0.87   \n",
       "1    quantex_at_home_id262726_2023_03_26_01_021500.jpg            0.81   \n",
       "2    quantex_at_home_id260275_2022_04_16_01_011640.jpg            0.21   \n",
       "3    quantex_at_home_id264351_2024_11_23_03_016520.jpg            0.73   \n",
       "4    quantex_at_home_id263284_2023_06_25_04_050240.jpg            0.91   \n",
       "..                                                 ...             ...   \n",
       "167  quantex_at_home_id263207_2024_12_12_02_007910.jpg            0.61   \n",
       "168  quantex_at_home_id262758_2023_07_10_01_021940.jpg            0.89   \n",
       "169  quantex_at_home_id263293_2022_08_29_01_029760.jpg            1.00   \n",
       "170  quantex_at_home_id263284_2023_06_25_06_002850.jpg            0.16   \n",
       "171  quantex_at_home_id264356_2023_07_05_04_034320.jpg            0.79   \n",
       "\n",
       "    proximity_heuristic age_group  \n",
       "0                   1.0     adult  \n",
       "1             0.29,0.33     adult  \n",
       "2                  0.37     adult  \n",
       "3               1.0,0.6     adult  \n",
       "4        0.59,0.45,0.51     adult  \n",
       "..                  ...       ...  \n",
       "167                 1.0     adult  \n",
       "168                0.77     adult  \n",
       "169                0.97     adult  \n",
       "170                0.09     adult  \n",
       "171                 NaN     adult  \n",
       "\n",
       "[171 rows x 4 columns]"
      ]
     },
     "execution_count": 10,
     "metadata": {},
     "output_type": "execute_result"
    }
   ],
   "source": []
  }
 ],
 "metadata": {
  "kernelspec": {
   "display_name": "openmmlab",
   "language": "python",
   "name": "python3"
  },
  "language_info": {
   "codemirror_mode": {
    "name": "ipython",
    "version": 3
   },
   "file_extension": ".py",
   "mimetype": "text/x-python",
   "name": "python",
   "nbconvert_exporter": "python",
   "pygments_lexer": "ipython3",
   "version": "3.8.18"
  }
 },
 "nbformat": 4,
 "nbformat_minor": 2
}
