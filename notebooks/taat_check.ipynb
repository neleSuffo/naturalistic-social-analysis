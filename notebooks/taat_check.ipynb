{
 "cells": [
  {
   "cell_type": "code",
   "execution_count": 8,
   "id": "10d80b6a",
   "metadata": {},
   "outputs": [],
   "source": [
    "#read json file\n",
    "import json\n",
    "with open('/Users/nelesuffo/Promotion/projects/TAAT/categories/human_actions/100898.json', 'r') as file:\n",
    "    data = json.load(file)"
   ]
  },
  {
   "cell_type": "code",
   "execution_count": 21,
   "id": "faa0e18c",
   "metadata": {},
   "outputs": [
    {
     "data": {
      "text/plain": [
       "{'categoryId': 'human_actions',\n",
       " 'eventId': 'location',\n",
       " 'fields': {'Type of Location': 'Livingroom'},\n",
       " 'id': 'location_1745396774002',\n",
       " 'time': 0,\n",
       " 'type': 'start',\n",
       " 'videoName': '100898.MP4'}"
      ]
     },
     "execution_count": 21,
     "metadata": {},
     "output_type": "execute_result"
    }
   ],
   "source": [
    "data['annotations'][0]"
   ]
  },
  {
   "cell_type": "code",
   "execution_count": 23,
   "id": "6a8a9b9c",
   "metadata": {},
   "outputs": [
    {
     "name": "stdout",
     "output_type": "stream",
     "text": [
      "IDs only in 'id': set()\n",
      "IDs only in 'startAnnotationId': set()\n"
     ]
    }
   ],
   "source": [
    "# Read the JSON file\n",
    "import json\n",
    "\n",
    "with open('/Users/nelesuffo/Promotion/projects/TAAT/categories/human_actions/100898.json', 'r') as file:\n",
    "    data = json.load(file)\n",
    "\n",
    "# Extract all 'id' and 'startAnnotationId' values from the annotations\n",
    "ids = {annotation['id'] for annotation in data['annotations'] if 'id' in annotation}\n",
    "start_annotation_ids = {annotation['startAnnotationId'] for annotation in data['annotations'] if 'startAnnotationId' in annotation}\n",
    "\n",
    "# Find IDs that are only in 'id' or only in 'startAnnotationId'\n",
    "only_in_ids = ids - start_annotation_ids\n",
    "only_in_start_annotation_ids = start_annotation_ids - ids\n",
    "\n",
    "# Print the results\n",
    "print(\"IDs only in 'id':\", only_in_ids)\n",
    "print(\"IDs only in 'startAnnotationId':\", only_in_start_annotation_ids)"
   ]
  },
  {
   "cell_type": "code",
   "execution_count": null,
   "id": "1ec34add",
   "metadata": {},
   "outputs": [],
   "source": []
  }
 ],
 "metadata": {
  "kernelspec": {
   "display_name": "Python 3",
   "language": "python",
   "name": "python3"
  },
  "language_info": {
   "codemirror_mode": {
    "name": "ipython",
    "version": 3
   },
   "file_extension": ".py",
   "mimetype": "text/x-python",
   "name": "python",
   "nbconvert_exporter": "python",
   "pygments_lexer": "ipython3",
   "version": "3.10.11"
  }
 },
 "nbformat": 4,
 "nbformat_minor": 5
}
