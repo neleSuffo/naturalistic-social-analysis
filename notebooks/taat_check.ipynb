{
 "cells": [
  {
   "cell_type": "code",
   "execution_count": 8,
   "id": "10d80b6a",
   "metadata": {},
   "outputs": [],
   "source": [
    "#read json file\n",
    "import json\n",
    "with open('/Users/nelesuffo/Promotion/projects/TAAT/categories/human_actions/100898.json', 'r') as file:\n",
    "    data = json.load(file)"
   ]
  },
  {
   "cell_type": "code",
   "execution_count": 21,
   "id": "faa0e18c",
   "metadata": {},
   "outputs": [
    {
     "data": {
      "text/plain": [
       "{'categoryId': 'human_actions',\n",
       " 'eventId': 'location',\n",
       " 'fields': {'Type of Location': 'Livingroom'},\n",
       " 'id': 'location_1745396774002',\n",
       " 'time': 0,\n",
       " 'type': 'start',\n",
       " 'videoName': '100898.MP4'}"
      ]
     },
     "execution_count": 21,
     "metadata": {},
     "output_type": "execute_result"
    }
   ],
   "source": [
    "data['annotations'][0]"
   ]
  },
  {
   "cell_type": "code",
   "execution_count": 23,
   "id": "6a8a9b9c",
   "metadata": {},
   "outputs": [
    {
     "name": "stdout",
     "output_type": "stream",
     "text": [
      "IDs only in 'id': set()\n",
      "IDs only in 'startAnnotationId': set()\n"
     ]
    }
   ],
   "source": [
    "# Read the JSON file\n",
    "import json\n",
    "\n",
    "with open('/Users/nelesuffo/Promotion/projects/TAAT/categories/human_actions/100898.json', 'r') as file:\n",
    "    data = json.load(file)\n",
    "\n",
    "# Extract all 'id' and 'startAnnotationId' values from the annotations\n",
    "ids = {annotation['id'] for annotation in data['annotations'] if 'id' in annotation}\n",
    "start_annotation_ids = {annotation['startAnnotationId'] for annotation in data['annotations'] if 'startAnnotationId' in annotation}\n",
    "\n",
    "# Find IDs that are only in 'id' or only in 'startAnnotationId'\n",
    "only_in_ids = ids - start_annotation_ids\n",
    "only_in_start_annotation_ids = start_annotation_ids - ids\n",
    "\n",
    "# Print the results\n",
    "print(\"IDs only in 'id':\", only_in_ids)\n",
    "print(\"IDs only in 'startAnnotationId':\", only_in_start_annotation_ids)"
   ]
  },
  {
   "cell_type": "markdown",
   "id": "1ec34add",
   "metadata": {},
   "source": [
    "## Convert SuperAnnotate to TAAT format"
   ]
  },
  {
   "cell_type": "code",
   "execution_count": 3,
   "id": "e6c77cfc",
   "metadata": {},
   "outputs": [],
   "source": [
    "import time\n",
    "import uuid\n",
    "\n",
    "def convert_annotations(input_data: dict) -> dict:\n",
    "    \"\"\"\n",
    "    Convert annotations from a specific format to a new format.\n",
    "    \n",
    "    Parameters\n",
    "    ---------\n",
    "    input_data : dict\n",
    "        The input data containing metadata and instances.\n",
    "        \n",
    "    Returns\n",
    "    -------\n",
    "    dict\n",
    "        The converted output data in the new format.\n",
    "    \"\"\"\n",
    "    video_name = input_data[\"metadata\"][\"name\"]\n",
    "    instances = input_data[\"instances\"]\n",
    "    \n",
    "    output = {\n",
    "        \"video_name\": video_name,\n",
    "        \"category_id\": \"human_actions\",\n",
    "        \"annotations\": []\n",
    "    }\n",
    "\n",
    "    for instance in instances:\n",
    "        meta = instance.get(\"meta\", {})\n",
    "        parameters = instance.get(\"parameters\", [])\n",
    "\n",
    "        if meta.get(\"className\") != \"Action\":\n",
    "            continue\n",
    "\n",
    "        # Skip instances explicitly marked as \"input\" (in case that's a label in attributes)\n",
    "        attributes_check = parameters[0].get(\"timestamps\", [{}])[0].get(\"attributes\", [])\n",
    "        if any(attr.get(\"name\", \"\").lower() == \"input\" for attr in attributes_check):\n",
    "            continue\n",
    "\n",
    "        if not parameters or \"timestamps\" not in parameters[0]:\n",
    "            continue\n",
    "\n",
    "        timestamps = parameters[0][\"timestamps\"]\n",
    "        if len(timestamps) != 2:\n",
    "            continue\n",
    "\n",
    "        start_time = timestamps[0][\"timestamp\"] / 1e6\n",
    "        end_time = timestamps[1][\"timestamp\"] / 1e6\n",
    "\n",
    "        attributes = timestamps[0].get(\"attributes\", [])\n",
    "        fields = {\n",
    "            \"1st Person Age Group\": \"\",\n",
    "            \"1st Person Gender\": \"\",\n",
    "            \"2nd Person Age Group\": \"\",\n",
    "            \"2nd Person Gender\": \"\",\n",
    "            \"3rd Person Age Group\": \"\",\n",
    "            \"3rd Person Gender\": \"\",\n",
    "            \"4th Person Age Group\": \"\",\n",
    "            \"4th Person Gender\": \"\",\n",
    "            \"5th Person Age Group\": \"\",\n",
    "            \"5th Person Gender\": \"\",\n",
    "            \"6th Person Age Group\": \"\",\n",
    "            \"6th Person Gender\": \"\",\n",
    "            \"Alone?\": \"\"\n",
    "        }\n",
    "\n",
    "        event_id = None\n",
    "        for attr in attributes:\n",
    "            group = attr[\"groupName\"]\n",
    "            name = attr[\"name\"]\n",
    "            if group == \"Type of Action\":\n",
    "                event_id = name.lower().replace(\" \", \"_\")\n",
    "            elif group in fields:\n",
    "                fields[group] = name\n",
    "\n",
    "        if not event_id:\n",
    "            continue\n",
    "\n",
    "        # Remove \"Alone?\" field for overheard speech\n",
    "        if event_id == \"overheard_speech\":\n",
    "            fields.pop(\"Alone?\", None)\n",
    "\n",
    "        timestamp_suffix = str(int(time.time() * 1000)) + uuid.uuid4().hex[:6]\n",
    "        start_annotation_id = f\"{event_id}_{timestamp_suffix}\"\n",
    "\n",
    "        output[\"annotations\"].append({\n",
    "            \"categoryId\": \"human_actions\",\n",
    "            \"eventId\": event_id,\n",
    "            \"fields\": fields,\n",
    "            \"id\": start_annotation_id,\n",
    "            \"time\": round(start_time, 6),\n",
    "            \"type\": \"start\",\n",
    "            \"videoName\": video_name\n",
    "        })\n",
    "\n",
    "        output[\"annotations\"].append({\n",
    "            \"categoryId\": \"human_actions\",\n",
    "            \"eventId\": event_id,\n",
    "            \"fields\": fields,\n",
    "            \"startAnnotationId\": start_annotation_id,\n",
    "            \"time\": round(end_time, 6),\n",
    "            \"type\": \"end\",\n",
    "            \"videoName\": video_name\n",
    "        })\n",
    "\n",
    "    return output"
   ]
  },
  {
   "cell_type": "code",
   "execution_count": 4,
   "id": "ac17a568",
   "metadata": {},
   "outputs": [],
   "source": [
    "from pathlib import Path\n",
    "import json\n",
    "\n",
    "input_dir = Path('/Users/nelesuffo/Promotion/ProcessedData/annotations_superannotate')\n",
    "output_dir = Path('/Users/nelesuffo/Promotion/ProcessedData/annotations_taat')\n",
    "\n",
    "for file_path in input_dir.glob('*.json'):\n",
    "    with file_path.open('r') as file:\n",
    "        input_data = json.load(file)\n",
    "\n",
    "    output_data = convert_annotations(input_data)\n",
    "\n",
    "    # Remove '.MP4' from filename and save\n",
    "    new_filename = file_path.name.replace('.MP4', '')\n",
    "    output_path = output_dir / new_filename\n",
    "\n",
    "    with output_path.open('w') as outfile:\n",
    "        json.dump(output_data, outfile, indent=4)"
   ]
  },
  {
   "cell_type": "code",
   "execution_count": null,
   "id": "4f24fd4a",
   "metadata": {},
   "outputs": [],
   "source": []
  }
 ],
 "metadata": {
  "kernelspec": {
   "display_name": "Python 3",
   "language": "python",
   "name": "python3"
  },
  "language_info": {
   "codemirror_mode": {
    "name": "ipython",
    "version": 3
   },
   "file_extension": ".py",
   "mimetype": "text/x-python",
   "name": "python",
   "nbconvert_exporter": "python",
   "pygments_lexer": "ipython3",
   "version": "3.10.11"
  }
 },
 "nbformat": 4,
 "nbformat_minor": 5
}
