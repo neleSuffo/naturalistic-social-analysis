from moviepy.video.io.VideoFileClip import VideoFileClip

input_video_path = '/Users/nelesuffo/Promotion/ProcessedData/videos_superannotate/147984.MP4'
output_video_path = '/Users/nelesuffo/Promotion/ProcessedData/videos_superannotate/147984_cut.MP4'
t1 = 0.5
t2 = 10.5

with VideoFileClip(input_video_path) as video:
    new = video.subclip(t1, t2)
    new.write_videofile(output_video_path, audio_codec='aac')