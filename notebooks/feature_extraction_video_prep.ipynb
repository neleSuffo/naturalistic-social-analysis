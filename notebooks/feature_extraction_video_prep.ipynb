{
 "cells": [
  {
   "cell_type": "code",
   "execution_count": 3,
   "metadata": {},
   "outputs": [],
   "source": [
    "import json\n",
    "import ffmpeg\n",
    "import os\n",
    "import pandas as pd"
   ]
  },
  {
   "cell_type": "code",
   "execution_count": 4,
   "metadata": {},
   "outputs": [],
   "source": [
    "# Function to cut and save video segments\n",
    "def cut_video_segment(video_path, start_time, end_time, output_path):\n",
    "    try:\n",
    "        print(f\"Attempting to load video: {video_path}\")\n",
    "        (\n",
    "            ffmpeg\n",
    "            .input(video_path, ss=start_time, to=end_time)\n",
    "            .output(output_path, codec='libx264')\n",
    "            .run(overwrite_output=True)\n",
    "        )\n",
    "        print(f\"Video segment saved: {output_path}\")\n",
    "    except Exception as e:\n",
    "        print(f\"Error loading or processing video {video_path}: {e}\")\n",
    "\n",
    "# Function to generate the \"name\" column with a custom unique identifier\n",
    "def generate_name_column(df):\n",
    "    last_video_id = None\n",
    "    last_label = None\n",
    "    unique_id = 1\n",
    "    names = []\n",
    "    \n",
    "    for index, row in df.iterrows():\n",
    "        if row['video_id'] == last_video_id and row['label'] == last_label:\n",
    "            unique_id += 1\n",
    "        else:\n",
    "            unique_id = 1\n",
    "        name = f\"{row['video_id']}_{row['label'].replace(' ', '_')}_{unique_id}\"\n",
    "        names.append(name)\n",
    "        last_video_id = row['video_id']\n",
    "        last_label = row['label']\n",
    "    \n",
    "    return names\n",
    "\n",
    "\n",
    "# Load JSON file\n",
    "json_file = '/home/nele_pauline_suffo/projects/mmaction2/data/quantex_share/anno_train.json'\n",
    "with open(json_file, 'r') as f:\n",
    "    data = json.load(f)\n",
    "\n",
    "# Process each segment and save to new video files\n",
    "original_video_folder = '/home/nele_pauline_suffo/ProcessedData/videos_superannotate/'  # Update this path\n",
    "output_folder = '/home/nele_pauline_suffo/ProcessedData/videos_superannotate/feature_split'  # Update this path"
   ]
  },
  {
   "cell_type": "code",
   "execution_count": 8,
   "metadata": {},
   "outputs": [
    {
     "name": "stdout",
     "output_type": "stream",
     "text": [
      "  video_id  segment_start  segment_end                label  \\\n",
      "0   147984       0.000000   606.639367  Playing with Object   \n",
      "1   183537      71.043709   632.066262  Playing with Object   \n",
      "2   183537     665.281219   811.122892  Playing with Object   \n",
      "3   183537    1257.072451  1259.662183  Playing with Object   \n",
      "4   183537    1332.110401  1346.907723  Playing with Object   \n",
      "5   189224      26.551535   699.767240              Drawing   \n",
      "\n",
      "                           name  \n",
      "0  147984_Playing_with_Object_1  \n",
      "1  183537_Playing_with_Object_1  \n",
      "2  183537_Playing_with_Object_2  \n",
      "3  183537_Playing_with_Object_3  \n",
      "4  183537_Playing_with_Object_4  \n",
      "5              189224_Drawing_1  \n"
     ]
    }
   ],
   "source": [
    "# Convert JSON data to DataFrame\n",
    "records = []\n",
    "for video_id, video_data in data.items():\n",
    "    for annotation in video_data['annotations']:\n",
    "        record = {\n",
    "            'video_id': video_id,\n",
    "            'segment_start': annotation['segment'][0],\n",
    "            'segment_end': annotation['segment'][1],\n",
    "            'label': annotation['label'],\n",
    "        }\n",
    "        records.append(record)\n",
    "\n",
    "df = pd.DataFrame(records)\n",
    "\n",
    "# Remove duplicate rows\n",
    "df = df.drop_duplicates()\n",
    "\n",
    "# Sort the DataFrame by video_id and label to ensure correct ordering\n",
    "df = df.sort_values(by=['video_id', 'label']).reset_index(drop=True)\n",
    "\n",
    "# Generate the \"name\" column based on video_id, label, and a unique identifier\n",
    "df['name'] = generate_name_column(df)\n",
    "\n",
    "# Display the DataFrame\n",
    "print(df)"
   ]
  },
  {
   "cell_type": "code",
   "execution_count": null,
   "metadata": {},
   "outputs": [],
   "source": [
    "for index, row in df.iterrows():\n",
    "    video_id = row['video_id']\n",
    "    label = row['label'].replace(\" \", \"_\")  # Replace spaces with underscores\n",
    "    start_time = row['segment_start']\n",
    "    end_time = row['segment_end']\n",
    "    original_video_path = f\"{original_video_folder}/{video_id}.MP4\"  # Assuming original videos are in .mp4 format\n",
    "    output_video_path = f\"{output_folder}/{row['name']}.mp4\"\n",
    "    \n",
    "    print(f\"Processing segment {start_time}-{end_time} of video {video_id}, label: {label}, output: {output_video_path}\")\n",
    "\n",
    "    cut_video_segment(original_video_path, start_time, end_time, output_video_path)\n",
    "    print(f\"Saved segment {start_time}-{end_time} of video {video_id} as {output_video_path}\")\n",
    "\n",
    "    # Display the output video in Jupyter Notebook\n",
    "    display(Video(output_video_path))\n",
    "\n",
    "print(\"All segments have been processed and saved.\")"
   ]
  }
 ],
 "metadata": {
  "kernelspec": {
   "display_name": "openmmlab",
   "language": "python",
   "name": "python3"
  },
  "language_info": {
   "codemirror_mode": {
    "name": "ipython",
    "version": 3
   },
   "file_extension": ".py",
   "mimetype": "text/x-python",
   "name": "python",
   "nbconvert_exporter": "python",
   "pygments_lexer": "ipython3",
   "version": "3.8.18"
  }
 },
 "nbformat": 4,
 "nbformat_minor": 2
}
