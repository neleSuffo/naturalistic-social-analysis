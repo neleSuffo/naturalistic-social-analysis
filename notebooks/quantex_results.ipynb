{
 "cells": [
  {
   "cell_type": "code",
   "execution_count": 1,
   "metadata": {},
   "outputs": [],
   "source": [
    "# load yolo model\n",
    "from ultralytics import YOLO\n",
    "\n",
    "model = YOLO(\"/home/nele_pauline_suffo/models/yolo11_all_detection.pt\")\n",
    "\n",
    "# run inference on a single image and if class is either 2.0 or 3.0 calculate the size of the detected object\n",
    "def detect_object(image_path):\n",
    "    results = model(image_path)\n",
    "    for i in range(len(results.pred)):\n",
    "        if results.pred[i][:, 5] == 2.0 or results.pred[i][:, 5] == 3.0:\n",
    "            x1, y1, x2, y2 = results.pred[i][:, :4].cpu().numpy().astype(int)[0]\n",
    "            width = x2 - x1\n",
    "            height = y2 - y1\n",
    "            return width, height\n",
    "    return\n"
   ]
  },
  {
   "cell_type": "code",
   "execution_count": 2,
   "metadata": {},
   "outputs": [
    {
     "name": "stdout",
     "output_type": "stream",
     "text": [
      "\n",
      "image 1/1 /home/nele_pauline_suffo/outputs/proximity_sampled_frames/quantex_at_home_id257511_2021_07_13_01_020780.jpg: 384x640 1 infant/child, 1 infant/child face, 95.1ms\n",
      "Speed: 6.5ms preprocess, 95.1ms inference, 202.6ms postprocess per image at shape (1, 3, 384, 640)\n"
     ]
    },
    {
     "ename": "AttributeError",
     "evalue": "'list' object has no attribute 'pred'",
     "output_type": "error",
     "traceback": [
      "\u001b[0;31m---------------------------------------------------------------------------\u001b[0m",
      "\u001b[0;31mAttributeError\u001b[0m                            Traceback (most recent call last)",
      "Cell \u001b[0;32mIn[2], line 1\u001b[0m\n\u001b[0;32m----> 1\u001b[0m \u001b[43mdetect_object\u001b[49m\u001b[43m(\u001b[49m\u001b[38;5;124;43m\"\u001b[39;49m\u001b[38;5;124;43m/home/nele_pauline_suffo/outputs/proximity_sampled_frames/quantex_at_home_id257511_2021_07_13_01_020780.jpg\u001b[39;49m\u001b[38;5;124;43m\"\u001b[39;49m\u001b[43m)\u001b[49m\n",
      "Cell \u001b[0;32mIn[1], line 9\u001b[0m, in \u001b[0;36mdetect_object\u001b[0;34m(image_path)\u001b[0m\n\u001b[1;32m      7\u001b[0m \u001b[38;5;28;01mdef\u001b[39;00m \u001b[38;5;21mdetect_object\u001b[39m(image_path):\n\u001b[1;32m      8\u001b[0m     results \u001b[38;5;241m=\u001b[39m model(image_path)\n\u001b[0;32m----> 9\u001b[0m     \u001b[38;5;28;01mfor\u001b[39;00m i \u001b[38;5;129;01min\u001b[39;00m \u001b[38;5;28mrange\u001b[39m(\u001b[38;5;28mlen\u001b[39m(\u001b[43mresults\u001b[49m\u001b[38;5;241;43m.\u001b[39;49m\u001b[43mpred\u001b[49m)):\n\u001b[1;32m     10\u001b[0m         \u001b[38;5;28;01mif\u001b[39;00m results\u001b[38;5;241m.\u001b[39mpred[i][:, \u001b[38;5;241m5\u001b[39m] \u001b[38;5;241m==\u001b[39m \u001b[38;5;241m2.0\u001b[39m \u001b[38;5;129;01mor\u001b[39;00m results\u001b[38;5;241m.\u001b[39mpred[i][:, \u001b[38;5;241m5\u001b[39m] \u001b[38;5;241m==\u001b[39m \u001b[38;5;241m3.0\u001b[39m:\n\u001b[1;32m     11\u001b[0m             x1, y1, x2, y2 \u001b[38;5;241m=\u001b[39m results\u001b[38;5;241m.\u001b[39mpred[i][:, :\u001b[38;5;241m4\u001b[39m]\u001b[38;5;241m.\u001b[39mcpu()\u001b[38;5;241m.\u001b[39mnumpy()\u001b[38;5;241m.\u001b[39mastype(\u001b[38;5;28mint\u001b[39m)[\u001b[38;5;241m0\u001b[39m]\n",
      "\u001b[0;31mAttributeError\u001b[0m: 'list' object has no attribute 'pred'"
     ]
    }
   ],
   "source": [
    "detect_object(\"/home/nele_pauline_suffo/outputs/proximity_sampled_frames/quantex_at_home_id257511_2021_07_13_01_020780.jpg\")"
   ]
  },
  {
   "cell_type": "code",
   "execution_count": null,
   "metadata": {},
   "outputs": [],
   "source": []
  }
 ],
 "metadata": {
  "kernelspec": {
   "display_name": "openmmlab",
   "language": "python",
   "name": "python3"
  },
  "language_info": {
   "codemirror_mode": {
    "name": "ipython",
    "version": 3
   },
   "file_extension": ".py",
   "mimetype": "text/x-python",
   "name": "python",
   "nbconvert_exporter": "python",
   "pygments_lexer": "ipython3",
   "version": "3.8.18"
  }
 },
 "nbformat": 4,
 "nbformat_minor": 2
}
