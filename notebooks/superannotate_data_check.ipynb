{
 "cells": [
  {
   "cell_type": "code",
   "execution_count": 5,
   "metadata": {},
   "outputs": [
    {
     "name": "stdout",
     "output_type": "stream",
     "text": [
      "Label Counts:\n",
      "Other Person Talking: 6113\n",
      "Child Talking: 7447\n",
      "Singing/Humming: 277\n",
      "Drawing: 62\n",
      "Overheard Speech: 1898\n",
      "Pretend play: 59\n",
      "Listening to Music/Audiobook: 68\n",
      "Reading a Book: 81\n",
      "Playing with Object: 317\n",
      "Making Music: 3\n",
      "Playing without Object: 25\n",
      "Crafting Things: 26\n",
      "Watching Something: 2\n",
      "Dancing: 2\n",
      "\n",
      "Label Durations (in minutes):\n",
      "Other Person Talking: 455.29\n",
      "Child Talking: 649.10\n",
      "Singing/Humming: 82.00\n",
      "Drawing: 374.91\n",
      "Overheard Speech: 299.44\n",
      "Pretend play: 158.84\n",
      "Listening to Music/Audiobook: 222.14\n",
      "Reading a Book: 328.70\n",
      "Playing with Object: 1371.06\n",
      "Making Music: 2.13\n",
      "Playing without Object: 28.87\n",
      "Crafting Things: 109.14\n",
      "Watching Something: 5.09\n",
      "Dancing: 0.57\n"
     ]
    }
   ],
   "source": [
    "import json\n",
    "from collections import defaultdict\n",
    "\n",
    "# Path to the combined annotations file\n",
    "annotations_file = '/home/nele_pauline_suffo/ProcessedData/childlens_annotations/childlens_annotations.json'\n",
    "\n",
    "def count_labels_and_durations(annotations_file):\n",
    "    with open(annotations_file, 'r') as f:\n",
    "        annotations = json.load(f)\n",
    "\n",
    "    label_counts = defaultdict(int)\n",
    "    label_durations = defaultdict(float)\n",
    "\n",
    "    for video_id, data in annotations.items():\n",
    "        for annotation in data['annotations']:\n",
    "            label = annotation['label']\n",
    "            label_counts[label] += 1\n",
    "            segment = annotation['segment']\n",
    "            duration = (segment[1] - segment[0])/60\n",
    "            label_durations[label] += duration\n",
    "\n",
    "    return label_counts, label_durations\n",
    "\n",
    "label_counts, label_durations = count_labels_and_durations(annotations_file)\n",
    "\n",
    "print(\"Label Counts:\")\n",
    "for label, count in label_counts.items():\n",
    "    print(f'{label}: {count}')\n",
    "\n",
    "print(\"\\nLabel Durations (in minutes):\")\n",
    "for label, duration in label_durations.items():\n",
    "    print(f'{label}: {duration:.2f}')"
   ]
  },
  {
   "cell_type": "code",
   "execution_count": 6,
   "metadata": {},
   "outputs": [
    {
     "ename": "NameError",
     "evalue": "name 'key_dict' is not defined",
     "output_type": "error",
     "traceback": [
      "\u001b[0;31m---------------------------------------------------------------------------\u001b[0m",
      "\u001b[0;31mNameError\u001b[0m                                 Traceback (most recent call last)",
      "Cell \u001b[0;32mIn[6], line 4\u001b[0m\n\u001b[1;32m      2\u001b[0m annotations \u001b[38;5;241m=\u001b[39m json\u001b[38;5;241m.\u001b[39mload(\u001b[38;5;28mopen\u001b[39m(\u001b[38;5;124m\"\u001b[39m\u001b[38;5;124m/home/nele_pauline_suffo/ProcessedData/childlens_annotations/childlens_annotations.json\u001b[39m\u001b[38;5;124m\"\u001b[39m))\n\u001b[1;32m      3\u001b[0m annotations\n\u001b[0;32m----> 4\u001b[0m annotations[\u001b[43mkey_dict\u001b[49m[\u001b[38;5;241m684742\u001b[39m]]\n",
      "\u001b[0;31mNameError\u001b[0m: name 'key_dict' is not defined"
     ]
    }
   ],
   "source": [
    "import json\n",
    "annotations = json.load(open(\"/home/nele_pauline_suffo/ProcessedData/childlens_annotations/childlens_annotations.json\"))\n",
    "annotations\n",
    "annotations[key_dict[684742]]\n"
   ]
  },
  {
   "cell_type": "code",
   "execution_count": 1,
   "metadata": {},
   "outputs": [
    {
     "name": "stdout",
     "output_type": "stream",
     "text": [
      "Total number of frames: 33292\n"
     ]
    }
   ],
   "source": [
    "import cv2\n",
    "\n",
    "def get_frame_count(video_path):\n",
    "    # Open the vadeo file\n",
    "    video = cv2.VideoCapture(video_path)\n",
    "    \n",
    "    # Check if the video was opened successfully\n",
    "    if not video.isOpened():\n",
    "        raise ValueError(f\"Could not open the video file: {video_path}\")\n",
    "    \n",
    "    # Get the frame count\n",
    "    frame_count = int(video.get(cv2.CAP_PROP_FRAME_COUNT))\n",
    "    \n",
    "    # Release the video file\n",
    "    video.release()\n",
    "    \n",
    "    return frame_count\n",
    "\n",
    "# Example usage\n",
    "video_path = \"/home/nele_pauline_suffo/ProcessedData/videos_superannotate_all/805896.MP4\"\n",
    "print(\"Total number of frames:\", get_frame_count(video_path))\n",
    "\n",
    "#183537_Playing_with_Object_2 24310 0\n",
    "#183537_Playing_with_Object_3 37752 0\n",
    "#183537_Playing_with_Object_4 40367 0\n",
    "#189224_Drawing_1 20973 2\n",
    "\n",
    "#147984 18181\n",
    "#204839 8946\n",
    "\n",
    "#too long:\n",
    "#207115 44104\n",
    "#189224 53952\n",
    "#183537 52719"
   ]
  },
  {
   "cell_type": "code",
   "execution_count": 1,
   "metadata": {},
   "outputs": [
    {
     "name": "stderr",
     "output_type": "stream",
     "text": [
      "/home/nele_pauline_suffo/.local/lib/python3.8/site-packages/tqdm/auto.py:21: TqdmWarning: IProgress not found. Please update jupyter and ipywidgets. See https://ipywidgets.readthedocs.io/en/stable/user_install.html\n",
      "  from .autonotebook import tqdm as notebook_tqdm\n"
     ]
    },
    {
     "name": "stdout",
     "output_type": "stream",
     "text": [
      "Shape of tensor: torch.Size([2048])\n",
      "The tensor is 1D. It might represent flattened features.\n",
      "Number of features: 2048\n"
     ]
    }
   ],
   "source": [
    "import torch\n",
    "import pickle\n",
    "\n",
    "def inspect_pickle(file_path):\n",
    "    with open(file_path, 'rb') as f:\n",
    "        data = pickle.load(f)\n",
    "\n",
    "    # Check if it's a PyTorch tensor\n",
    "    if isinstance(data, torch.Tensor):\n",
    "        print(f\"Shape of tensor: {data.shape}\")\n",
    "        if len(data.shape) == 1:\n",
    "            print(\"The tensor is 1D. It might represent flattened features.\")\n",
    "            print(f\"Number of features: {data.shape[0]}\")\n",
    "        elif len(data.shape) == 2:\n",
    "            print(\"The tensor is 2D.\")\n",
    "            print(f\"Number of time steps (frames): {data.shape[0]}\")\n",
    "            print(f\"Number of features per frame: {data.shape[1]}\")\n",
    "        else:\n",
    "            print(\"Unexpected tensor shape. Inspect manually.\")\n",
    "    else:\n",
    "        print(f\"Unexpected data type: {type(data)}. Inspect manually.\")\n",
    "        print(data)\n",
    "\n",
    "\n",
    "inspect_pickle('/home/nele_pauline_suffo/ProcessedData/videos_superannotate/features_flow/147984_Playing_with_Object_1.pkl')"
   ]
  },
  {
   "cell_type": "code",
   "execution_count": 19,
   "metadata": {},
   "outputs": [
    {
     "data": {
      "text/plain": [
       "tensor([1.1846, 0.1259, 0.0621,  ..., 0.1813, 0.0496, 0.0961])"
      ]
     },
     "execution_count": 19,
     "metadata": {},
     "output_type": "execute_result"
    }
   ],
   "source": [
    "# load pkl file\n",
    "with open('/home/nele_pauline_suffo/ProcessedData/videos_superannotate/features/147984_Playing_with_Object_1.pkl', 'rb') as f:\n",
    "    data = pickle.load(f)\n",
    "data"
   ]
  },
  {
   "cell_type": "code",
   "execution_count": null,
   "metadata": {},
   "outputs": [],
   "source": []
  }
 ],
 "metadata": {
  "kernelspec": {
   "display_name": "openmmlab",
   "language": "python",
   "name": "python3"
  },
  "language_info": {
   "codemirror_mode": {
    "name": "ipython",
    "version": 3
   },
   "file_extension": ".py",
   "mimetype": "text/x-python",
   "name": "python",
   "nbconvert_exporter": "python",
   "pygments_lexer": "ipython3",
   "version": "3.8.18"
  }
 },
 "nbformat": 4,
 "nbformat_minor": 2
}
