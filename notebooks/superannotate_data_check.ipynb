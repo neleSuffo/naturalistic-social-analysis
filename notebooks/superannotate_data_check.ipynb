{
 "cells": [
  {
   "cell_type": "code",
   "execution_count": 73,
   "metadata": {},
   "outputs": [],
   "source": [
    "import json\n",
    "from pathlib import Path\n",
    "from typing import Dict"
   ]
  },
  {
   "cell_type": "code",
   "execution_count": 87,
   "metadata": {},
   "outputs": [],
   "source": [
    "# Function to read JSON from a file\n",
    "def read_json(file_path: str) -> Dict:\n",
    "    with open(file_path, 'r') as file:\n",
    "        data = json.load(file)\n",
    "    return data\n",
    "\n",
    "# Conversion function\n",
    "def convert_annotations(data: Dict, fps: float = 30.0) -> Dict:\n",
    "    converted_annotations = {}\n",
    "    \n",
    "    # Extract video ID, duration in seconds, and duration in frames\n",
    "    video_id = data['metadata']['name']\n",
    "    short_video_id = video_id.replace(\".MP4\", \"\")\n",
    "    duration_microseconds = data['metadata']['duration']\n",
    "    duration_seconds = duration_microseconds / 1000000.0\n",
    "    duration_frames = int(duration_seconds * fps)\n",
    "    \n",
    "    # Initialize the video data structure\n",
    "    converted_annotations[short_video_id] = {\n",
    "        \"duration_second\": duration_seconds, # duration in seconds\n",
    "        \"duration_frame\": duration_frames,   # duration in frames\n",
    "        \"annotations\": [],                   # initialize empty list for annotations\n",
    "        \"feature_frame\": duration_frames - 1, # feature frame\n",
    "        \"fps\": fps,                          # frames per second\n",
    "        \"rfps\": fps * (duration_frames / duration_seconds) # real frames per second\n",
    "    }\n",
    "\n",
    "    # Loop through each annotation instance\n",
    "    for item in data['instances']:\n",
    "        # Extract start and end time\n",
    "        start_time = item[\"meta\"][\"start\"]\n",
    "        end_time = item[\"meta\"][\"end\"]\n",
    "        \n",
    "        # Process each parameter and add its first annotation to the list\n",
    "        for parameter in item.get(\"parameters\", []):\n",
    "            timestamps = parameter.get(\"timestamps\", [])\n",
    "            \n",
    "            # Check if there is at least one timestamp\n",
    "            if timestamps and \"attributes\" in timestamps[0] and timestamps[0][\"attributes\"]:\n",
    "                # Access the first timestamp directly\n",
    "                label = timestamps[0][\"attributes\"][0][\"name\"]\n",
    "                segment = [start_time / 1000000.0, end_time / 1000000.0]\n",
    "                \n",
    "                # Append the annotation for this timestamp\n",
    "                converted_annotations[short_video_id][\"annotations\"].append({\n",
    "                    \"segment\": segment,\n",
    "                    \"label\": label\n",
    "                })\n",
    "    \n",
    "    return converted_annotations\n",
    "\n",
    "\n",
    "# Function to process all JSON files in a folder\n",
    "def process_all_json_files(folder_path: str, fps: float = 30.0) -> Dict:\n",
    "    all_annotations = {}\n",
    "    \n",
    "    # Iterate over all files in the specified folder\n",
    "    for filename in folder_path.glob(\"*.json\"):\n",
    "        if filename.name == \"combined_annotations.json\":\n",
    "            continue  # Skip the combined file\n",
    "        # Read the JSON file\n",
    "        data = read_json(filename)\n",
    "        \n",
    "        # Convert annotations and merge them into the main dictionary\n",
    "        video_annotations = convert_annotations(data, fps)\n",
    "        all_annotations.update(video_annotations)\n",
    "    \n",
    "    # Save combined_annotations as a JSON file\n",
    "    output_file = folder_path / \"combined_annotations.json\"\n",
    "    with open(output_file, 'w') as file:\n",
    "        json.dump(all_annotations, file, indent=4)"
   ]
  },
  {
   "cell_type": "code",
   "execution_count": 88,
   "metadata": {},
   "outputs": [],
   "source": [
    "# Example usage\n",
    "folder_path = Path(\"/Users/nelesuffo/Promotion/ProcessedData/annotations_superannotate\")\n",
    "process_all_json_files(folder_path)"
   ]
  },
  {
   "cell_type": "code",
   "execution_count": null,
   "metadata": {},
   "outputs": [],
   "source": []
  }
 ],
 "metadata": {
  "kernelspec": {
   "display_name": "Python 3",
   "language": "python",
   "name": "python3"
  },
  "language_info": {
   "codemirror_mode": {
    "name": "ipython",
    "version": 3
   },
   "file_extension": ".py",
   "mimetype": "text/x-python",
   "name": "python",
   "nbconvert_exporter": "python",
   "pygments_lexer": "ipython3",
   "version": "3.10.11"
  }
 },
 "nbformat": 4,
 "nbformat_minor": 2
}
