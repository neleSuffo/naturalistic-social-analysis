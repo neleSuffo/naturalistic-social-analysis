{
 "cells": [
  {
   "cell_type": "code",
   "execution_count": 5,
   "metadata": {},
   "outputs": [],
   "source": [
    "import pickle\n",
    "import sqlite3\n",
    "import re\n",
    "import pandas as pd\n"
   ]
  },
  {
   "cell_type": "code",
   "execution_count": 4,
   "metadata": {},
   "outputs": [
    {
     "data": {
      "text/plain": [
       "Index(['id', 'age', 'sex', 'task', 'trial', 'item', 'response'], dtype='object')"
      ]
     },
     "execution_count": 4,
     "metadata": {},
     "output_type": "execute_result"
    }
   ],
   "source": [
    "df = pd.read_csv('../cognitive_tasks/data/data.csv')\n",
    "df.columns"
   ]
  },
  {
   "cell_type": "code",
   "execution_count": 8,
   "metadata": {},
   "outputs": [
    {
     "data": {
      "text/plain": [
       "(42,\n",
       " [254922,\n",
       "  255237,\n",
       "  255706,\n",
       "  257609,\n",
       "  258274,\n",
       "  258309,\n",
       "  258541,\n",
       "  258704,\n",
       "  258827,\n",
       "  260106,\n",
       "  260120,\n",
       "  260123,\n",
       "  260176,\n",
       "  260178,\n",
       "  260275,\n",
       "  260478,\n",
       "  260694,\n",
       "  260772,\n",
       "  262179,\n",
       "  262208,\n",
       "  262246,\n",
       "  262356,\n",
       "  262565,\n",
       "  262726,\n",
       "  262748,\n",
       "  262758,\n",
       "  263190,\n",
       "  263239,\n",
       "  263284,\n",
       "  263293,\n",
       "  263986,\n",
       "  264089,\n",
       "  264235,\n",
       "  264356,\n",
       "  264585,\n",
       "  265041,\n",
       "  266822,\n",
       "  267094,\n",
       "  267863,\n",
       "  268898,\n",
       "  271700,\n",
       "  273855])"
      ]
     },
     "execution_count": 8,
     "metadata": {},
     "output_type": "execute_result"
    }
   ],
   "source": [
    "cognitive_data_ids = df[\"id\"].unique().tolist()\n",
    "len(cognitive_data_ids), cognitive_data_ids\n"
   ]
  },
  {
   "cell_type": "code",
   "execution_count": 9,
   "metadata": {},
   "outputs": [],
   "source": [
    "conn = sqlite3.connect('../../../ProcessedData/databases/annotations.db')\n",
    "cursor = conn.cursor()\n",
    "cursor.execute(\"SELECT file_name FROM videos;\")\n",
    "file_names = cursor.fetchall()\n",
    "file_names_list = [tup[0] for tup in file_names]"
   ]
  },
  {
   "cell_type": "code",
   "execution_count": 12,
   "metadata": {},
   "outputs": [],
   "source": [
    "file_ids = []\n",
    "for file_name in file_names_list:\n",
    "    # Use regex to find the 6 digits following 'id'\n",
    "    match = re.search(r'id(\\d{6})', file_name)\n",
    "\n",
    "    # Check if a match was found and print the result\n",
    "    if match:\n",
    "        file_id = match.group(1)\n",
    "        file_ids.append(file_id)"
   ]
  },
  {
   "cell_type": "code",
   "execution_count": 15,
   "metadata": {},
   "outputs": [
    {
     "data": {
      "text/plain": [
       "['257511',\n",
       " '257511',\n",
       " '257511',\n",
       " '257578',\n",
       " '257578',\n",
       " '256354',\n",
       " '256354',\n",
       " '256354',\n",
       " '257578',\n",
       " '257578',\n",
       " '257578',\n",
       " '257608',\n",
       " '257608',\n",
       " '257608',\n",
       " '257608',\n",
       " '257608',\n",
       " '257608',\n",
       " '255695',\n",
       " '255695',\n",
       " '255695',\n",
       " '255695',\n",
       " '255944',\n",
       " '255944',\n",
       " '255944',\n",
       " '255944',\n",
       " '255944',\n",
       " '255944',\n",
       " '255944',\n",
       " '261610',\n",
       " '261610',\n",
       " '261610',\n",
       " '261610',\n",
       " '261610',\n",
       " '261610',\n",
       " '261610',\n",
       " '261610',\n",
       " '262691',\n",
       " '262691',\n",
       " '262691',\n",
       " '262691',\n",
       " '262691',\n",
       " '262691',\n",
       " '262691',\n",
       " '262691',\n",
       " '262565',\n",
       " '262565',\n",
       " '262565',\n",
       " '262565',\n",
       " '262565',\n",
       " '262565',\n",
       " '262565',\n",
       " '260275',\n",
       " '260275',\n",
       " '260275',\n",
       " '260275',\n",
       " '255237',\n",
       " '255237',\n",
       " '255237',\n",
       " '255237',\n",
       " '255237',\n",
       " '255237',\n",
       " '261609',\n",
       " '261609',\n",
       " '261609',\n",
       " '261609',\n",
       " '261609',\n",
       " '261609',\n",
       " '261609',\n",
       " '261609',\n",
       " '261609',\n",
       " '261609',\n",
       " '258704',\n",
       " '258704',\n",
       " '258704',\n",
       " '258704',\n",
       " '258704',\n",
       " '258704',\n",
       " '258704',\n",
       " '258704',\n",
       " '258704',\n",
       " '256461',\n",
       " '256461',\n",
       " '255237']"
      ]
     },
     "execution_count": 15,
     "metadata": {},
     "output_type": "execute_result"
    }
   ],
   "source": [
    "file_ids"
   ]
  },
  {
   "cell_type": "code",
   "execution_count": 6,
   "metadata": {},
   "outputs": [],
   "source": [
    "\n",
    "# Specify the file path\n",
    "file_path = '../../../ProcessedData/cognitive_data_ids/cognitive_data_ids.pkl'\n",
    "\n",
    "# Write the data to the file\n",
    "with open(file_path, 'wb') as file:\n",
    "    pickle.dump(cognitive_data_ids, file)"
   ]
  },
  {
   "cell_type": "code",
   "execution_count": null,
   "metadata": {},
   "outputs": [],
   "source": []
  }
 ],
 "metadata": {
  "kernelspec": {
   "display_name": "pyannote",
   "language": "python",
   "name": "python3"
  },
  "language_info": {
   "codemirror_mode": {
    "name": "ipython",
    "version": 3
   },
   "file_extension": ".py",
   "mimetype": "text/x-python",
   "name": "python",
   "nbconvert_exporter": "python",
   "pygments_lexer": "ipython3",
   "version": "3.8.20"
  }
 },
 "nbformat": 4,
 "nbformat_minor": 2
}
