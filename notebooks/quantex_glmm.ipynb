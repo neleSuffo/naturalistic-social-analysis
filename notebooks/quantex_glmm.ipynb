{
 "cells": [
  {
   "cell_type": "code",
   "execution_count": null,
   "metadata": {},
   "outputs": [
    {
     "ename": "DatabaseError",
     "evalue": "Execution failed on sql '\nWITH SocialContext AS (\n    SELECT \n        frame_number,\n        video_id,\n        CASE\n            -- Check if both adult (1,3) AND child (0,2) are present\n            WHEN MAX(CASE WHEN object_class IN (1,3) THEN 1 ELSE 0 END) = 1 \n            AND MAX(CASE WHEN object_class IN (0,2) THEN 1 ELSE 0 END) = 1 \n            THEN 'with both children and adults'\n            \n            -- Check if only adult (face or person) is present\n            WHEN MAX(CASE WHEN object_class IN (1,3) THEN 1 ELSE 0 END) = 1 \n            THEN 'with an adult'\n            \n            -- Check if only child (face or person) is present\n            WHEN MAX(CASE WHEN object_class IN (0,2) THEN 1 ELSE 0 END) = 1 \n            THEN 'with another child'\n            \n            -- If none of above, person is alone\n            ELSE 'alone'\n        END as social_context\n    FROM Detections\n    GROUP BY frame_number, video_id\n),\nObjectPresence AS (\n    SELECT \n        frame_number,\n        video_id,\n        MAX(CASE WHEN object_class IN (5,6,7,8,9,10) THEN 1 ELSE 0 END) as has_object,\n        STRING_AGG(\n            CASE \n                WHEN object_class = 5 THEN 'book'\n                WHEN object_class = 6 THEN 'toy'\n                WHEN object_class = 7 THEN 'kitchenware'\n                WHEN object_class = 8 THEN 'screen'\n                WHEN object_class = 9 THEN 'food'\n                WHEN object_class = 10 THEN 'other_object'\n            END,\n            ', ' \n        ) as object_types\n    FROM Detections\n    WHERE object_class IN (5,6,7,8,9,10)\n    GROUP BY frame_number, video_id\n)\n\nSELECT DISTINCT\n    f.frame_id,\n    f.video_id,\n    COALESCE(op.object_types, 'none') as object_type,\n    v.child_age,\n    COALESCE(sc.social_context, 'alone') as social_context,\n    COALESCE(op.has_object, 0) as has_object\nFROM \n    Frames f\n    LEFT JOIN Videos v ON f.video_id = v.video_id\n    LEFT JOIN SocialContext sc ON f.frame_number = sc.frame_number AND f.video_id = sc.video_id\n    LEFT JOIN ObjectPresence op ON f.frame_number = op.frame_number AND f.video_id = op.video_id\nORDER BY \n    f.video_id, f.frame_id;\n': no such column: v.child_age",
     "output_type": "error",
     "traceback": [
      "\u001b[0;31m---------------------------------------------------------------------------\u001b[0m",
      "\u001b[0;31mOperationalError\u001b[0m                          Traceback (most recent call last)",
      "File \u001b[0;32m~/.conda/envs/openmmlab/lib/python3.8/site-packages/pandas/io/sql.py:2202\u001b[0m, in \u001b[0;36mSQLiteDatabase.execute\u001b[0;34m(self, sql, params)\u001b[0m\n\u001b[1;32m   2201\u001b[0m \u001b[38;5;28;01mtry\u001b[39;00m:\n\u001b[0;32m-> 2202\u001b[0m     \u001b[43mcur\u001b[49m\u001b[38;5;241;43m.\u001b[39;49m\u001b[43mexecute\u001b[49m\u001b[43m(\u001b[49m\u001b[43msql\u001b[49m\u001b[43m,\u001b[49m\u001b[43m \u001b[49m\u001b[38;5;241;43m*\u001b[39;49m\u001b[43margs\u001b[49m\u001b[43m)\u001b[49m\n\u001b[1;32m   2203\u001b[0m     \u001b[38;5;28;01mreturn\u001b[39;00m cur\n",
      "\u001b[0;31mOperationalError\u001b[0m: no such column: v.child_age",
      "\nThe above exception was the direct cause of the following exception:\n",
      "\u001b[0;31mDatabaseError\u001b[0m                             Traceback (most recent call last)",
      "Cell \u001b[0;32mIn[2], line 66\u001b[0m\n\u001b[1;32m      4\u001b[0m query \u001b[38;5;241m=\u001b[39m \u001b[38;5;124m\"\"\"\u001b[39m\n\u001b[1;32m      5\u001b[0m \u001b[38;5;124mWITH SocialContext AS (\u001b[39m\n\u001b[1;32m      6\u001b[0m \u001b[38;5;124m    SELECT \u001b[39m\n\u001b[0;32m   (...)\u001b[0m\n\u001b[1;32m     63\u001b[0m \u001b[38;5;124m    f.video_id, f.frame_id;\u001b[39m\n\u001b[1;32m     64\u001b[0m \u001b[38;5;124m\"\"\"\u001b[39m\n\u001b[1;32m     65\u001b[0m \u001b[38;5;28;01mwith\u001b[39;00m sqlite3\u001b[38;5;241m.\u001b[39mconnect(\u001b[38;5;124m'\u001b[39m\u001b[38;5;124m/home/nele_pauline_suffo/outputs/detection_pipeline_results/detection_results.db\u001b[39m\u001b[38;5;124m'\u001b[39m) \u001b[38;5;28;01mas\u001b[39;00m conn:\n\u001b[0;32m---> 66\u001b[0m     df \u001b[38;5;241m=\u001b[39m \u001b[43mpd\u001b[49m\u001b[38;5;241;43m.\u001b[39;49m\u001b[43mread_sql_query\u001b[49m\u001b[43m(\u001b[49m\u001b[43mquery\u001b[49m\u001b[43m,\u001b[49m\u001b[43m \u001b[49m\u001b[43mconn\u001b[49m\u001b[43m)\u001b[49m\n\u001b[1;32m     68\u001b[0m \u001b[38;5;28mprint\u001b[39m(\u001b[38;5;124mf\u001b[39m\u001b[38;5;124m\"\u001b[39m\u001b[38;5;124mRetrieved \u001b[39m\u001b[38;5;132;01m{\u001b[39;00m\u001b[38;5;28mlen\u001b[39m(df)\u001b[38;5;132;01m}\u001b[39;00m\u001b[38;5;124m rows\u001b[39m\u001b[38;5;124m\"\u001b[39m)\n\u001b[1;32m     69\u001b[0m display(df\u001b[38;5;241m.\u001b[39mhead())\n",
      "File \u001b[0;32m~/.conda/envs/openmmlab/lib/python3.8/site-packages/pandas/io/sql.py:469\u001b[0m, in \u001b[0;36mread_sql_query\u001b[0;34m(sql, con, index_col, coerce_float, params, parse_dates, chunksize, dtype, dtype_backend)\u001b[0m\n\u001b[1;32m    466\u001b[0m     dtype_backend \u001b[38;5;241m=\u001b[39m \u001b[38;5;124m\"\u001b[39m\u001b[38;5;124mnumpy\u001b[39m\u001b[38;5;124m\"\u001b[39m  \u001b[38;5;66;03m# type: ignore[assignment]\u001b[39;00m\n\u001b[1;32m    468\u001b[0m \u001b[38;5;28;01mwith\u001b[39;00m pandasSQL_builder(con) \u001b[38;5;28;01mas\u001b[39;00m pandas_sql:\n\u001b[0;32m--> 469\u001b[0m     \u001b[38;5;28;01mreturn\u001b[39;00m \u001b[43mpandas_sql\u001b[49m\u001b[38;5;241;43m.\u001b[39;49m\u001b[43mread_query\u001b[49m\u001b[43m(\u001b[49m\n\u001b[1;32m    470\u001b[0m \u001b[43m        \u001b[49m\u001b[43msql\u001b[49m\u001b[43m,\u001b[49m\n\u001b[1;32m    471\u001b[0m \u001b[43m        \u001b[49m\u001b[43mindex_col\u001b[49m\u001b[38;5;241;43m=\u001b[39;49m\u001b[43mindex_col\u001b[49m\u001b[43m,\u001b[49m\n\u001b[1;32m    472\u001b[0m \u001b[43m        \u001b[49m\u001b[43mparams\u001b[49m\u001b[38;5;241;43m=\u001b[39;49m\u001b[43mparams\u001b[49m\u001b[43m,\u001b[49m\n\u001b[1;32m    473\u001b[0m \u001b[43m        \u001b[49m\u001b[43mcoerce_float\u001b[49m\u001b[38;5;241;43m=\u001b[39;49m\u001b[43mcoerce_float\u001b[49m\u001b[43m,\u001b[49m\n\u001b[1;32m    474\u001b[0m \u001b[43m        \u001b[49m\u001b[43mparse_dates\u001b[49m\u001b[38;5;241;43m=\u001b[39;49m\u001b[43mparse_dates\u001b[49m\u001b[43m,\u001b[49m\n\u001b[1;32m    475\u001b[0m \u001b[43m        \u001b[49m\u001b[43mchunksize\u001b[49m\u001b[38;5;241;43m=\u001b[39;49m\u001b[43mchunksize\u001b[49m\u001b[43m,\u001b[49m\n\u001b[1;32m    476\u001b[0m \u001b[43m        \u001b[49m\u001b[43mdtype\u001b[49m\u001b[38;5;241;43m=\u001b[39;49m\u001b[43mdtype\u001b[49m\u001b[43m,\u001b[49m\n\u001b[1;32m    477\u001b[0m \u001b[43m        \u001b[49m\u001b[43mdtype_backend\u001b[49m\u001b[38;5;241;43m=\u001b[39;49m\u001b[43mdtype_backend\u001b[49m\u001b[43m,\u001b[49m\n\u001b[1;32m    478\u001b[0m \u001b[43m    \u001b[49m\u001b[43m)\u001b[49m\n",
      "File \u001b[0;32m~/.conda/envs/openmmlab/lib/python3.8/site-packages/pandas/io/sql.py:2266\u001b[0m, in \u001b[0;36mSQLiteDatabase.read_query\u001b[0;34m(self, sql, index_col, coerce_float, parse_dates, params, chunksize, dtype, dtype_backend)\u001b[0m\n\u001b[1;32m   2255\u001b[0m \u001b[38;5;28;01mdef\u001b[39;00m \u001b[38;5;21mread_query\u001b[39m(\n\u001b[1;32m   2256\u001b[0m     \u001b[38;5;28mself\u001b[39m,\n\u001b[1;32m   2257\u001b[0m     sql,\n\u001b[0;32m   (...)\u001b[0m\n\u001b[1;32m   2264\u001b[0m     dtype_backend: DtypeBackend \u001b[38;5;241m|\u001b[39m Literal[\u001b[38;5;124m\"\u001b[39m\u001b[38;5;124mnumpy\u001b[39m\u001b[38;5;124m\"\u001b[39m] \u001b[38;5;241m=\u001b[39m \u001b[38;5;124m\"\u001b[39m\u001b[38;5;124mnumpy\u001b[39m\u001b[38;5;124m\"\u001b[39m,\n\u001b[1;32m   2265\u001b[0m ) \u001b[38;5;241m-\u001b[39m\u001b[38;5;241m>\u001b[39m DataFrame \u001b[38;5;241m|\u001b[39m Iterator[DataFrame]:\n\u001b[0;32m-> 2266\u001b[0m     cursor \u001b[38;5;241m=\u001b[39m \u001b[38;5;28;43mself\u001b[39;49m\u001b[38;5;241;43m.\u001b[39;49m\u001b[43mexecute\u001b[49m\u001b[43m(\u001b[49m\u001b[43msql\u001b[49m\u001b[43m,\u001b[49m\u001b[43m \u001b[49m\u001b[43mparams\u001b[49m\u001b[43m)\u001b[49m\n\u001b[1;32m   2267\u001b[0m     columns \u001b[38;5;241m=\u001b[39m [col_desc[\u001b[38;5;241m0\u001b[39m] \u001b[38;5;28;01mfor\u001b[39;00m col_desc \u001b[38;5;129;01min\u001b[39;00m cursor\u001b[38;5;241m.\u001b[39mdescription]\n\u001b[1;32m   2269\u001b[0m     \u001b[38;5;28;01mif\u001b[39;00m chunksize \u001b[38;5;129;01mis\u001b[39;00m \u001b[38;5;129;01mnot\u001b[39;00m \u001b[38;5;28;01mNone\u001b[39;00m:\n",
      "File \u001b[0;32m~/.conda/envs/openmmlab/lib/python3.8/site-packages/pandas/io/sql.py:2214\u001b[0m, in \u001b[0;36mSQLiteDatabase.execute\u001b[0;34m(self, sql, params)\u001b[0m\n\u001b[1;32m   2211\u001b[0m     \u001b[38;5;28;01mraise\u001b[39;00m ex \u001b[38;5;28;01mfrom\u001b[39;00m \u001b[38;5;21;01minner_exc\u001b[39;00m\n\u001b[1;32m   2213\u001b[0m ex \u001b[38;5;241m=\u001b[39m DatabaseError(\u001b[38;5;124mf\u001b[39m\u001b[38;5;124m\"\u001b[39m\u001b[38;5;124mExecution failed on sql \u001b[39m\u001b[38;5;124m'\u001b[39m\u001b[38;5;132;01m{\u001b[39;00msql\u001b[38;5;132;01m}\u001b[39;00m\u001b[38;5;124m'\u001b[39m\u001b[38;5;124m: \u001b[39m\u001b[38;5;132;01m{\u001b[39;00mexc\u001b[38;5;132;01m}\u001b[39;00m\u001b[38;5;124m\"\u001b[39m)\n\u001b[0;32m-> 2214\u001b[0m \u001b[38;5;28;01mraise\u001b[39;00m ex \u001b[38;5;28;01mfrom\u001b[39;00m \u001b[38;5;21;01mexc\u001b[39;00m\n",
      "\u001b[0;31mDatabaseError\u001b[0m: Execution failed on sql '\nWITH SocialContext AS (\n    SELECT \n        frame_number,\n        video_id,\n        CASE\n            -- Check if both adult (1,3) AND child (0,2) are present\n            WHEN MAX(CASE WHEN object_class IN (1,3) THEN 1 ELSE 0 END) = 1 \n            AND MAX(CASE WHEN object_class IN (0,2) THEN 1 ELSE 0 END) = 1 \n            THEN 'with both children and adults'\n            \n            -- Check if only adult (face or person) is present\n            WHEN MAX(CASE WHEN object_class IN (1,3) THEN 1 ELSE 0 END) = 1 \n            THEN 'with an adult'\n            \n            -- Check if only child (face or person) is present\n            WHEN MAX(CASE WHEN object_class IN (0,2) THEN 1 ELSE 0 END) = 1 \n            THEN 'with another child'\n            \n            -- If none of above, person is alone\n            ELSE 'alone'\n        END as social_context\n    FROM Detections\n    GROUP BY frame_number, video_id\n),\nObjectPresence AS (\n    SELECT \n        frame_number,\n        video_id,\n        MAX(CASE WHEN object_class IN (5,6,7,8,9,10) THEN 1 ELSE 0 END) as has_object,\n        STRING_AGG(\n            CASE \n                WHEN object_class = 5 THEN 'book'\n                WHEN object_class = 6 THEN 'toy'\n                WHEN object_class = 7 THEN 'kitchenware'\n                WHEN object_class = 8 THEN 'screen'\n                WHEN object_class = 9 THEN 'food'\n                WHEN object_class = 10 THEN 'other_object'\n            END,\n            ', ' \n        ) as object_types\n    FROM Detections\n    WHERE object_class IN (5,6,7,8,9,10)\n    GROUP BY frame_number, video_id\n)\n\nSELECT DISTINCT\n    f.frame_id,\n    f.video_id,\n    COALESCE(op.object_types, 'none') as object_type,\n    v.child_age,\n    COALESCE(sc.social_context, 'alone') as social_context,\n    COALESCE(op.has_object, 0) as has_object\nFROM \n    Frames f\n    LEFT JOIN Videos v ON f.video_id = v.video_id\n    LEFT JOIN SocialContext sc ON f.frame_number = sc.frame_number AND f.video_id = sc.video_id\n    LEFT JOIN ObjectPresence op ON f.frame_number = op.frame_number AND f.video_id = op.video_id\nORDER BY \n    f.video_id, f.frame_id;\n': no such column: v.child_age"
     ]
    }
   ],
   "source": [
    "import sqlite3\n",
    "import pandas as pd\n",
    "\n",
    "query = \"\"\"\n",
    "WITH SocialContext AS (\n",
    "    SELECT \n",
    "        frame_number,\n",
    "        video_id,\n",
    "        CASE\n",
    "            -- Check if both adult (1,3) AND child (0,2) are present\n",
    "            WHEN MAX(CASE WHEN object_class IN (1,3) THEN 1 ELSE 0 END) = 1 \n",
    "            AND MAX(CASE WHEN object_class IN (0,2) THEN 1 ELSE 0 END) = 1 \n",
    "            THEN 'with both children and adults'\n",
    "            \n",
    "            -- Check if only adult (face or person) is present\n",
    "            WHEN MAX(CASE WHEN object_class IN (1,3) THEN 1 ELSE 0 END) = 1 \n",
    "            THEN 'with an adult'\n",
    "            \n",
    "            -- Check if only child (face or person) is present\n",
    "            WHEN MAX(CASE WHEN object_class IN (0,2) THEN 1 ELSE 0 END) = 1 \n",
    "            THEN 'with another child'\n",
    "            \n",
    "            -- If none of above, person is alone\n",
    "            ELSE 'alone'\n",
    "        END as social_context\n",
    "    FROM Detections\n",
    "    GROUP BY frame_number, video_id\n",
    "),\n",
    "ObjectPresence AS (\n",
    "    SELECT \n",
    "        frame_number,\n",
    "        video_id,\n",
    "        MAX(CASE WHEN object_class IN (5,6,7,8,9,10) THEN 1 ELSE 0 END) as has_object,\n",
    "        STRING_AGG(\n",
    "            CASE \n",
    "                WHEN object_class = 5 THEN 'book'\n",
    "                WHEN object_class = 6 THEN 'toy'\n",
    "                WHEN object_class = 7 THEN 'kitchenware'\n",
    "                WHEN object_class = 8 THEN 'screen'\n",
    "                WHEN object_class = 9 THEN 'food'\n",
    "                WHEN object_class = 10 THEN 'other_object'\n",
    "            END,\n",
    "            ', ' \n",
    "        ) as object_types\n",
    "    FROM Detections\n",
    "    WHERE object_class IN (5,6,7,8,9,10)\n",
    "    GROUP BY frame_number, video_id\n",
    ")\n",
    "\n",
    "SELECT DISTINCT\n",
    "    f.frame_id,\n",
    "    f.video_id,\n",
    "    COALESCE(op.object_types, 'none') as object_type,\n",
    "    v.age_at_recording,\n",
    "    COALESCE(sc.social_context, 'alone') as social_context,\n",
    "    COALESCE(op.has_object, 0) as has_object\n",
    "FROM \n",
    "    Frames f\n",
    "    LEFT JOIN Videos v ON f.video_id = v.video_id\n",
    "    LEFT JOIN SocialContext sc ON f.frame_number = sc.frame_number AND f.video_id = sc.video_id\n",
    "    LEFT JOIN ObjectPresence op ON f.frame_number = op.frame_number AND f.video_id = op.video_id\n",
    "ORDER BY \n",
    "    f.video_id, f.frame_id;\n",
    "\"\"\"\n",
    "with sqlite3.connect('/home/nele_pauline_suffo/outputs/detection_pipeline_results/detection_results.db') as conn:\n",
    "    df = pd.read_sql_query(query, conn)\n",
    "\n",
    "print(f\"Retrieved {len(df)} rows\")\n",
    "display(df.head())"
   ]
  },
  {
   "cell_type": "code",
   "execution_count": null,
   "metadata": {},
   "outputs": [],
   "source": []
  }
 ],
 "metadata": {
  "kernelspec": {
   "display_name": "openmmlab",
   "language": "python",
   "name": "python3"
  },
  "language_info": {
   "codemirror_mode": {
    "name": "ipython",
    "version": 3
   },
   "file_extension": ".py",
   "mimetype": "text/x-python",
   "name": "python",
   "nbconvert_exporter": "python",
   "pygments_lexer": "ipython3",
   "version": "3.8.18"
  }
 },
 "nbformat": 4,
 "nbformat_minor": 2
}
