{
 "cells": [
  {
   "cell_type": "code",
   "execution_count": 2,
   "metadata": {},
   "outputs": [],
   "source": [
    "import onnx\n",
    "from onnx import numpy_helper\n",
    "import numpy as np\n",
    "\n",
    "def inspect_onnx_model(model_path):\n",
    "    # Load the ONNX model\n",
    "    model = onnx.load(model_path)\n",
    "    \n",
    "    # Print general model information\n",
    "    print(\"Model Information:\")\n",
    "    print(f\"Model Ir Version: {model.ir_version}\")\n",
    "    print(f\"Model Opset Version: {model.opset_import[0].version}\")\n",
    "    \n",
    "    # Print input information\n",
    "    print(\"\\nInputs:\")\n",
    "    for input_tensor in model.graph.input:\n",
    "        name = input_tensor.name\n",
    "        shape = [dim.dim_value for dim in input_tensor.type.tensor_type.shape.dim]\n",
    "        dtype = onnx.mapping.TENSOR_TYPE_TO_NP_TYPE[input_tensor.type.tensor_type.elem_type]\n",
    "        print(f\"Name: {name}, Shape: {shape}, Data Type: {dtype}\")\n",
    "    \n",
    "    # Print output information\n",
    "    print(\"\\nOutputs:\")\n",
    "    for output_tensor in model.graph.output:\n",
    "        name = output_tensor.name\n",
    "        shape = [dim.dim_value for dim in output_tensor.type.tensor_type.shape.dim]\n",
    "        dtype = onnx.mapping.TENSOR_TYPE_TO_NP_TYPE[output_tensor.type.tensor_type.elem_type]\n",
    "        print(f\"Name: {name}, Shape: {shape}, Data Type: {dtype}\")\n"
   ]
  },
  {
   "cell_type": "code",
   "execution_count": 3,
   "metadata": {},
   "outputs": [
    {
     "name": "stdout",
     "output_type": "stream",
     "text": [
      "Model Information:\n",
      "Model Ir Version: 7\n",
      "Model Opset Version: 13\n",
      "\n",
      "Inputs:\n",
      "Name: batched_inputs.1, Shape: [1, 3, 128, 256], Data Type: float32\n",
      "\n",
      "Outputs:\n",
      "Name: 1186, Shape: [1, 2048], Data Type: float32\n"
     ]
    },
    {
     "name": "stderr",
     "output_type": "stream",
     "text": [
      "/tmp/ipykernel_3444436/2442621882.py:19: DeprecationWarning: `mapping.TENSOR_TYPE_TO_NP_TYPE` is now deprecated and will be removed in a future release.To silence this warning, please use `helper.tensor_dtype_to_np_dtype` instead.\n",
      "  dtype = onnx.mapping.TENSOR_TYPE_TO_NP_TYPE[input_tensor.type.tensor_type.elem_type]\n",
      "/tmp/ipykernel_3444436/2442621882.py:27: DeprecationWarning: `mapping.TENSOR_TYPE_TO_NP_TYPE` is now deprecated and will be removed in a future release.To silence this warning, please use `helper.tensor_dtype_to_np_dtype` instead.\n",
      "  dtype = onnx.mapping.TENSOR_TYPE_TO_NP_TYPE[output_tensor.type.tensor_type.elem_type]\n"
     ]
    }
   ],
   "source": [
    "model_path = \"/home/nele_pauline_suffo/models/duke_R101.onnx\"\n",
    "inspect_onnx_model(model_path)"
   ]
  },
  {
   "cell_type": "code",
   "execution_count": null,
   "metadata": {},
   "outputs": [],
   "source": []
  }
 ],
 "metadata": {
  "kernelspec": {
   "display_name": "pyannote",
   "language": "python",
   "name": "python3"
  },
  "language_info": {
   "codemirror_mode": {
    "name": "ipython",
    "version": 3
   },
   "file_extension": ".py",
   "mimetype": "text/x-python",
   "name": "python",
   "nbconvert_exporter": "python",
   "pygments_lexer": "ipython3",
   "version": "3.8.19"
  }
 },
 "nbformat": 4,
 "nbformat_minor": 2
}
