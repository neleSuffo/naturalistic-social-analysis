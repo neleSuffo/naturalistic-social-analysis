{
 "cells": [
  {
   "cell_type": "code",
   "execution_count": 1,
   "id": "01aae2f6",
   "metadata": {},
   "outputs": [],
   "source": [
    "# load json file\n",
    "import json\n",
    "import os\n",
    "\n",
    "# load json file\n",
    "def load_json_file(file_path):\n",
    "    \"\"\"\n",
    "    Load a JSON file and return its contents.\n",
    "    \n",
    "    Args:\n",
    "        file_path (str): The path to the JSON file.\n",
    "        \n",
    "    Returns:\n",
    "        dict: The contents of the JSON file.\n",
    "    \"\"\"\n",
    "    if not os.path.isfile(file_path):\n",
    "        raise FileNotFoundError(f\"The file {file_path} does not exist.\")\n",
    "    \n",
    "    with open(file_path, 'r') as f:\n",
    "        data = json.load(f)\n",
    "    \n",
    "    return data"
   ]
  },
  {
   "cell_type": "code",
   "execution_count": 2,
   "id": "1b6f2aec",
   "metadata": {},
   "outputs": [],
   "source": [
    "childlens_annotations = load_json_file('/home/nele_pauline_suffo/ProcessedData/childlens_annotations/100898.MP4.json')"
   ]
  },
  {
   "cell_type": "code",
   "execution_count": 11,
   "id": "1985df29",
   "metadata": {},
   "outputs": [
    {
     "data": {
      "text/plain": [
       "{'id': 91342905,\n",
       " 'name': '100898.MP4',\n",
       " 'duration': 1023522500,\n",
       " 'width': 2304,\n",
       " 'height': 1296,\n",
       " 'lastAction': {'timestamp': 1735907353856,\n",
       "  'email': 'sa.partner.ana+adm1@gmail.com'},\n",
       " 'projectId': 188494,\n",
       " 'url': 'https://sa-customer-facing.s3.amazonaws.com/client-data/max-planck/100898.MP4',\n",
       " 'status': 'Completed',\n",
       " 'error': None,\n",
       " 'annotatorEmail': 'sa.partner.ana+1@gmail.com',\n",
       " 'qaEmail': None,\n",
       " '__params__': {'team_id': 22691,\n",
       "  'project_id': 188494,\n",
       "  'asset_id': 91342905,\n",
       "  'folder_id': 534882,\n",
       "  'timestamp': 1726165548863},\n",
       " 'etag': 'caf980937159789bd08116fd191ee959'}"
      ]
     },
     "execution_count": 11,
     "metadata": {},
     "output_type": "execute_result"
    }
   ],
   "source": [
    "childlens_annotations['metadata']"
   ]
  },
  {
   "cell_type": "code",
   "execution_count": 17,
   "id": "3199a18b",
   "metadata": {},
   "outputs": [
    {
     "data": {
      "text/plain": [
       "{'start': 0,\n",
       " 'end': 1825263,\n",
       " 'timestamps': [{'attributes': [{'id': 6169960,\n",
       "     'groupId': 975662,\n",
       "     'name': 'Child Talking',\n",
       "     'groupName': 'Type of Action'},\n",
       "    {'id': 6169969, 'groupId': 975663, 'name': 'No', 'groupName': 'Alone?'},\n",
       "    {'id': 6169973,\n",
       "     'groupId': 975664,\n",
       "     'name': 'Adult',\n",
       "     'groupName': '1st Person Age Group'},\n",
       "    {'id': 6169976,\n",
       "     'groupId': 975665,\n",
       "     'name': 'Female',\n",
       "     'groupName': '1st Person Gender'}],\n",
       "   'timestamp': 0},\n",
       "  {'attributes': [{'id': 6169960,\n",
       "     'groupId': 975662,\n",
       "     'name': 'Child Talking',\n",
       "     'groupName': 'Type of Action'},\n",
       "    {'id': 6169969, 'groupId': 975663, 'name': 'No', 'groupName': 'Alone?'},\n",
       "    {'id': 6169973,\n",
       "     'groupId': 975664,\n",
       "     'name': 'Adult',\n",
       "     'groupName': '1st Person Age Group'},\n",
       "    {'id': 6169976,\n",
       "     'groupId': 975665,\n",
       "     'name': 'Female',\n",
       "     'groupName': '1st Person Gender'}],\n",
       "   'timestamp': 1825263}]}"
      ]
     },
     "execution_count": 17,
     "metadata": {},
     "output_type": "execute_result"
    }
   ],
   "source": [
    "childlens_annotations['instances'][1]['parameters'][0]"
   ]
  },
  {
   "cell_type": "code",
   "execution_count": null,
   "id": "66d85305",
   "metadata": {},
   "outputs": [],
   "source": [
    "import json\n",
    "\n",
    "# Load your annotation JSON file\n",
    "with open(\"/home/nele_pauline_suffo/ProcessedData/childlens_annotations/100898.MP4.json\", \"r\") as f:\n",
    "    annotations = json.load(f)\n",
    "\n",
    "# Define the set of relevant labels to keep\n",
    "valid_action_names = {\"Child Talking\", \"Other Person Talking\", \"Overheard Speech\"}\n",
    "\n",
    "# The URI (e.g., filename without extension) you want to include in RTTM\n",
    "uri = childlens_annotations['metadata']['name']\n",
    "\n",
    "rttm_lines = []\n",
    "\n",
    "# Loop through all annotation instances\n",
    "for instance in annotations['instances']:\n",
    "    try:\n",
    "        timestamps = instance[\"parameters\"][0][\"timestamps\"]\n",
    "        times = instance[\"parameters\"][0]\n",
    "        for ts in timestamps:\n",
    "            action_type = next(\n",
    "                (attr[\"name\"] for attr in ts[\"attributes\"]\n",
    "                 if attr[\"groupName\"] == \"Type of Action\"),\n",
    "                None\n",
    "            )\n",
    "            if action_type in valid_action_names:\n",
    "                start = times[\"start\"] / 1000000  # Convert microseconds to seconds\n",
    "                # Get end from the next timestamp or from the event end\n",
    "                end = times[\"end\"] / 1000000\n",
    "                duration = end - start\n",
    "                speaker_id = action_type.replace(\" \", \"_\").lower()\n",
    "\n",
    "                rttm_line = f\"SPEAKER {uri} 1 {start:.3f} {duration:.3f} <NA> <NA> {speaker_id} <NA> <NA>\"\n",
    "                rttm_lines.append(rttm_line)\n",
    "                break  # Only use the first matching timestamp block per instance\n",
    "    except Exception as e:\n",
    "        print(f\"Skipping instance due to error: {e}\")\n",
    "\n",
    "# Save RTTM lines to file\n",
    "with open(\"output.rttm\", \"w\") as f:\n",
    "    for line in rttm_lines:\n",
    "        f.write(line + \"\\n\")"
   ]
  }
 ],
 "metadata": {
  "kernelspec": {
   "display_name": "pyannote",
   "language": "python",
   "name": "python3"
  },
  "language_info": {
   "codemirror_mode": {
    "name": "ipython",
    "version": 3
   },
   "file_extension": ".py",
   "mimetype": "text/x-python",
   "name": "python",
   "nbconvert_exporter": "python",
   "pygments_lexer": "ipython3",
   "version": "3.8.20"
  }
 },
 "nbformat": 4,
 "nbformat_minor": 5
}
