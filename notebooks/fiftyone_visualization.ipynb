{
 "cells": [
  {
   "cell_type": "code",
   "execution_count": 1,
   "metadata": {},
   "outputs": [],
   "source": [
    "import fiftyone as fo\n",
    "import fiftyone.zoo as foz\n",
    "import json\n",
    "import os"
   ]
  },
  {
   "cell_type": "code",
   "execution_count": null,
   "metadata": {},
   "outputs": [],
   "source": [
    "# Create a new dataset\n",
    "dataset = fo.Dataset(\"children_experiences\")\n",
    "\n",
    "# Directory paths\n",
    "videos_dir = \"/Users/nelesuffo/projects/leuphana-IPE/data/video\"\n",
    "labels_dir = \"path/to/dataset/labels\"\n",
    "model_output_dir = \"/Users/nelesuffo/projects/leuphana-IPE/output\"\n",
    "\n",
    "# Load videos and annotations\n",
    "for video_filename in os.listdir(videos_dir):\n",
    "    if video_filename.endswith(\".mp4\"):\n",
    "        video_filepath = os.path.join(videos_dir, video_filename)\n",
    "        \n",
    "        # Add video sample\n",
    "        sample = fo.Sample(filepath=video_filepath)\n",
    "        \n",
    "        # Load labels\n",
    "        label_filepath = os.path.join(labels_dir, f\"{os.path.splitext(video_filename)[0]}.json\")\n",
    "        with open(label_filepath, \"r\") as f:\n",
    "            labels = json.load(f)\n",
    "        \n",
    "        # Add ground truth labels\n",
    "        for label in labels[\"annotations\"]:\n",
    "            sample[label[\"action\"]] = fol.Detections(\n",
    "                detections=[\n",
    "                    fol.Detection(\n",
    "                        label=label[\"action\"],\n",
    "                        bounding_box=label[\"bounding_box\"],\n",
    "                        confidence=label.get(\"confidence\", 1.0)\n",
    "                    )\n",
    "                ]\n",
    "            )\n",
    "        \n",
    "        # Load model outputs\n",
    "        model_output_filepath = os.path.join(model_output_dir, f\"{os.path.splitext(video_filename)[0]}_output.json\")\n",
    "        with open(model_output_filepath, \"r\") as f:\n",
    "            model_outputs = json.load(f)\n",
    "        \n",
    "        # Add model outputs\n",
    "        for output in model_outputs[\"annotations\"]:\n",
    "            sample[f\"predicted_{output['action']}\"] = fol.Detections(\n",
    "                detections=[\n",
    "                    fol.Detection(\n",
    "                        label=output[\"action\"],\n",
    "                        bounding_box=output[\"bounding_box\"],\n",
    "                        confidence=output.get(\"confidence\", 1.0)\n",
    "                    )\n",
    "                ]\n",
    "            )\n",
    "        \n",
    "        # Add the sample to the dataset\n",
    "        dataset.add_sample(sample)\n",
    "\n",
    "# Print the dataset summary\n",
    "print(dataset)\n"
   ]
  }
 ],
 "metadata": {
  "kernelspec": {
   "display_name": "leuphana-ipe-AhndV7Mu-py3.10",
   "language": "python",
   "name": "python3"
  },
  "language_info": {
   "codemirror_mode": {
    "name": "ipython",
    "version": 3
   },
   "file_extension": ".py",
   "mimetype": "text/x-python",
   "name": "python",
   "nbconvert_exporter": "python",
   "pygments_lexer": "ipython3",
   "version": "3.10.11"
  }
 },
 "nbformat": 4,
 "nbformat_minor": 2
}
